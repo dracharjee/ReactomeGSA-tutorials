{
 "cells": [
  {
   "cell_type": "markdown",
   "metadata": {},
   "source": [
    "# TCGA / CPTAC B Cell Analysis\n",
    "\n",
    "This Jupyter notebook contains the analysis code to estimate the effect of B cells on overall patient survival and signalling in the TCGA and CPTAC (where available) cohorts for human melanoma, lung adenocarinoma, lung squamous cell carcinomam, ovarian cancer, and breast cancer.\n",
    "\n",
    "This notebook accompanies the publication of the ReactomeGSA analysis system."
   ]
  },
  {
   "cell_type": "code",
   "execution_count": 1,
   "metadata": {},
   "outputs": [],
   "source": [
    "# use a consistent working directory for the data - adapt if needed\n",
    "working_directory <- \"/home/jupyter-jg/B_cells_TCGA\"\n",
    "\n",
    "if (dir.exists(working_directory)) {\n",
    "    setwd(working_directory)\n",
    "} else {\n",
    "    warning(working_directory, \" does not exist. Leaving the working directory at \", getwd())\n",
    "}"
   ]
  },
  {
   "cell_type": "code",
   "execution_count": 2,
   "metadata": {},
   "outputs": [],
   "source": [
    "# load all required libraries\n",
    "suppressPackageStartupMessages(library(SummarizedExperiment))\n",
    "suppressPackageStartupMessages(library(TCGAbiolinks))\n",
    "suppressPackageStartupMessages(library(edgeR))"
   ]
  },
  {
   "cell_type": "markdown",
   "metadata": {},
   "source": [
    "# TCGA Data"
   ]
  },
  {
   "cell_type": "markdown",
   "metadata": {},
   "source": [
    "## Helper functions\n",
    "\n",
    "These functions represent the core analysis steps used to process the TCGA data from the different cohorts:"
   ]
  },
  {
   "cell_type": "code",
   "execution_count": 213,
   "metadata": {
    "code_folding": [
     0
    ]
   },
   "outputs": [],
   "source": [
    "# consistently filter and pre-process TCGA datasets\n",
    "pre_process_dge_data <- function(dge_experiment, min_counts = 10, min_rel_samples = 0.3) {\n",
    "    # remove genes with < 10 counts and in < 0.3 of the samples\n",
    "    rel_in_samples <- rowSums(dge_experiment$counts >= min_counts) / ncol(dge_experiment)\n",
    "    dge_experiment_filtered <- dge_experiment[rel_in_samples >= min_rel_samples, ]\n",
    "\n",
    "    message(\"Removed \", nrow(dge_experiment) - nrow(dge_experiment_filtered), \n",
    "            \" genes observed in less than \", min_rel_samples, \n",
    "            \" of the samples with \", min_counts, \" read counts\")\n",
    "    message(nrow(dge_experiment_filtered), \" genes retained\")\n",
    "    \n",
    "    # change to gene identifiers\n",
    "    gene_counts <- rowSums(dge_experiment_filtered$counts)\n",
    "    dge_experiment_filtered <- dge_experiment_filtered[order(gene_counts, decreasing = T), ]\n",
    "    dge_experiment_filtered <- dge_experiment_filtered[!duplicated(dge_experiment_filtered$genes$external_gene_name) & !is.na(dge_experiment_filtered$genes$external_gene_name), ]\n",
    "    rownames(dge_experiment_filtered) <- dge_experiment_filtered$genes$external_gene_name\n",
    "\n",
    "    return(dge_experiment_filtered)\n",
    "}\n",
    "\n",
    "# quantify the plasmablast-like B cell signature in TCGA datasets\n",
    "add_signatures <- function(dge_experiment) {\n",
    "    signatures <- list(\n",
    "    \"TIPB\" = c(\"CD38\", \"CD27\", \"PAX5\"),\n",
    "    # Functional signatures\n",
    "    \"Activation\" = c(\"CD69\", \"SELPLG\", \"CD72\", \"CFLAR\", \"FGFR1\", \"CD86\"),\n",
    "    \"Co-Stimulation\" = c(\"ICAM3\", \"TNFRSF13C\", \"CD40\", \"CD72\", \"C3\",\n",
    "                         \"CD80\", \"CD86\", \"CD27\", \"CD28\", \"ICOS\", \"TNFRSF9\",\n",
    "                         \"CD40LG\", \"ARHGDIB\" ),\n",
    "    \"Immune-checkpoint\" = c(\"CD274\", \"PDCD1LG2\", \"TNFRSF14\", \"LGALS9\",\n",
    "                            \"BTLA\", \"LAG3\", \"HAVCR2\", \"ADORA2A\"),\n",
    "    \"Exhaustion\" = c(\"PDCD1\", \"FCRL4\", \"SIGLEC6\", \"CD22\"),\n",
    "    \"Pro-Inflammation\" = c(\"TNF\", \"IL12B\", \"IL18\", \"LTA\", \"TNFAIP2\", \"C3\", \"HCK\"),\n",
    "    \"Cytokines-Immunsupp\" = c(\"IL10\", \"TGFB1\"))\n",
    "    \n",
    "    # quantify the B cell signatures\n",
    "    suppressPackageStartupMessages(library(GSVA))\n",
    "\n",
    "    quant_signatures <- gsva(expr = as.matrix(dge_experiment$counts), signatures, kcdf=\"Gaussian\", method=\"ssgsea\")\n",
    "    \n",
    "    # add the signatues to the sample annotations\n",
    "    for (sig_name in rownames(quant_signatures)) {\n",
    "        dge_experiment$samples[, sig_name] <- quant_signatures[sig_name, ]\n",
    "    }\n",
    "    \n",
    "    return(dge_experiment)\n",
    "}\n",
    "\n",
    "# access the survival between TIPB high and low samples\n",
    "assess_tipb_survival <- function(dge_experiment, plot.filename = NULL, plot.title = \"Survival analysis\"){\n",
    "    # check survival\n",
    "    library(survival)\n",
    "\n",
    "    sample_groups <- factor(dge_experiment$samples$TIPB > median(dge_experiment$samples$TIPB),\n",
    "                               levels = c(F,T),\n",
    "                               labels = paste0(\"TIPB\", c(\" low\", \" high\")))\n",
    "\n",
    "    max_days <- ifelse(is.na(dge_experiment$samples$days_to_last_follow_up), \n",
    "                       dge_experiment$samples$days_to_death, \n",
    "                       dge_experiment$samples$days_to_last_follow_up)\n",
    "\n",
    "    surv_obj <- Surv(max_days / 365, dge_experiment$samples$vital_status == \"Dead\")\n",
    "\n",
    "    cols <- RColorBrewer::brewer.pal(9, \"RdYlBu\")\n",
    "    col_down <- cols[2]\n",
    "    cols_up <- cols[9]\n",
    "    \n",
    "    # adapt the plot size\n",
    "    options(repr.plot.width = 5, repr.plot.height = 5)\n",
    "    plot(survfit(surv_obj ~ sample_groups), col = c(col_down, cols_up), xlab = \"Overall survival (years)\",\n",
    "            ylab = \"Rel. patients alive\", main = plot.title)\n",
    "\n",
    "    legend(\"topright\", legend = levels(sample_groups), lty = 1,\n",
    "                                      col = c(col_down, cols_up))\n",
    "    \n",
    "    if (!is.null(plot.filename)) {\n",
    "        svg(plot.filename, width = 5, height = 5)\n",
    "        plot(survfit(surv_obj ~ sample_groups), col = c(col_down, cols_up), xlab = \"Overall survival (years)\",\n",
    "            ylab = \"Rel. patients alive\", main = plot.title)\n",
    "\n",
    "        legend(\"topright\", legend = levels(sample_groups), lty = 1,\n",
    "                                          col = c(col_down, cols_up))\n",
    "        dev.off()\n",
    "    }\n",
    "\n",
    "    print(summary(coxph(surv_obj ~ sample_groups)))\n",
    "    \n",
    "    # add the sample groups\n",
    "    dge_experiment$samples$tipb_group <- sample_groups\n",
    "    \n",
    "    return(dge_experiment)\n",
    "}"
   ]
  },
  {
   "cell_type": "markdown",
   "metadata": {},
   "source": [
    "## TCGA-LUAD"
   ]
  },
  {
   "cell_type": "code",
   "execution_count": 4,
   "metadata": {},
   "outputs": [
    {
     "name": "stderr",
     "output_type": "stream",
     "text": [
      "--------------------------------------\n",
      "\n",
      "o GDCquery: Searching in GDC database\n",
      "\n",
      "--------------------------------------\n",
      "\n",
      "Genome of reference: hg38\n",
      "\n",
      "--------------------------------------------\n",
      "\n",
      "oo Accessing GDC. This might take a while...\n",
      "\n",
      "--------------------------------------------\n",
      "\n",
      "ooo Project: TCGA-LUAD\n",
      "\n",
      "--------------------\n",
      "\n",
      "oo Filtering results\n",
      "\n",
      "--------------------\n",
      "\n",
      "ooo By workflow.type\n",
      "\n",
      "----------------\n",
      "\n",
      "oo Checking data\n",
      "\n",
      "----------------\n",
      "\n",
      "ooo Check if there are duplicated cases\n",
      "\n",
      "ooo Check if there results for the query\n",
      "\n",
      "-------------------\n",
      "\n",
      "o Preparing output\n",
      "\n",
      "-------------------\n",
      "\n",
      "Found 594 samples\n",
      "\n",
      "Downloading data for project TCGA-LUAD\n",
      "\n",
      "Of the 594 files for download 594 already exist.\n",
      "\n",
      "All samples have been already downloaded\n",
      "\n"
     ]
    },
    {
     "name": "stdout",
     "output_type": "stream",
     "text": [
      "|====================================================|100%                      Completed after 54 s \n"
     ]
    },
    {
     "name": "stderr",
     "output_type": "stream",
     "text": [
      "Starting to add information to samples\n",
      "\n",
      " => Add clinical information to samples\n",
      "\n",
      " => Adding TCGA molecular information from marker papers\n",
      "\n",
      " => Information will have prefix 'paper_' \n",
      "\n",
      "luad subtype information from:doi:10.1038/nature13385\n",
      "\n",
      "Accessing www.ensembl.org to get gene information\n",
      "\n",
      "Downloading genome information (try:0) Using: Human genes (GRCh38.p13)\n",
      "\n",
      "Cache found\n",
      "\n",
      "From the 60483 genes we couldn't map 3984\n",
      "\n"
     ]
    }
   ],
   "source": [
    "# find all lung adenocarcinoma files\n",
    "query <- GDCquery(project = \"TCGA-LUAD\", legacy = FALSE, data.category = \"Transcriptome Profiling\", \n",
    "                  workflow.type = \"HTSeq - Counts\")\n",
    "\n",
    "lung_count_files <- getResults(query)\n",
    "\n",
    "message(\"Found \", nrow(lung_count_files), \" samples\")\n",
    "\n",
    "# download the data\n",
    "GDCdownload(query)\n",
    "\n",
    "lung_counts <- GDCprepare(query)\n",
    "\n",
    "# Create edgeR DGEList object\n",
    "lung_dge <- DGEList(counts = assay(lung_counts), \n",
    "                    samples = colData(lung_counts), \n",
    "                    genes = rowData(lung_counts), \n",
    "                    group = colData(lung_counts)$vital_status)\n",
    "\n",
    "saveRDS(lung_dge, file = \"lung_dge_counts.rds\")"
   ]
  },
  {
   "cell_type": "code",
   "execution_count": 165,
   "metadata": {},
   "outputs": [],
   "source": [
    "lung_dge <- readRDS(\"lung_dge_counts.rds\")\n",
    "\n",
    "# only keep primary tumors\n",
    "lung_dge <- lung_dge[, lung_dge$samples$shortLetterCode == \"TP\"]\n",
    "\n",
    "# preproces the data\n",
    "lung_dge_filtered <- pre_process_dge_data(lung_dge)\n",
    "\n",
    "# quantify the B cell signatures\n",
    "lung_dge_filtered <- add_signatures(lung_dge_filtered)"
   ]
  },
  {
   "cell_type": "code",
   "execution_count": 214,
   "metadata": {},
   "outputs": [
    {
     "name": "stdout",
     "output_type": "stream",
     "text": [
      "Call:\n",
      "coxph(formula = surv_obj ~ sample_groups)\n",
      "\n",
      "  n= 524, number of events= 188 \n",
      "   (9 observations deleted due to missingness)\n",
      "\n",
      "                          coef exp(coef) se(coef)      z Pr(>|z|)  \n",
      "sample_groupsTIPB high -0.3018    0.7395   0.1473 -2.049   0.0405 *\n",
      "---\n",
      "Signif. codes:  0 ‘***’ 0.001 ‘**’ 0.01 ‘*’ 0.05 ‘.’ 0.1 ‘ ’ 1\n",
      "\n",
      "                       exp(coef) exp(-coef) lower .95 upper .95\n",
      "sample_groupsTIPB high    0.7395      1.352     0.554     0.987\n",
      "\n",
      "Concordance= 0.543  (se = 0.02 )\n",
      "Likelihood ratio test= 4.23  on 1 df,   p=0.04\n",
      "Wald test            = 4.2  on 1 df,   p=0.04\n",
      "Score (logrank) test = 4.23  on 1 df,   p=0.04\n",
      "\n"
     ]
    },
    {
     "data": {
      "image/png": "[encoded data removed]",
      "text/plain": [
       "Plot with title “TCGA Lung”"
      ]
     },
     "metadata": {
      "image/png": {
       "height": 300,
       "width": 300
      },
      "text/plain": {
       "height": 300,
       "width": 300
      }
     },
     "output_type": "display_data"
    }
   ],
   "source": [
    "# ass the survival\n",
    "lung_dge_filtered <- assess_tipb_survival(lung_dge_filtered, plot.filename = \"survival_TCGA_lung.svg\", plot.title = \"TCGA Lung\")"
   ]
  },
  {
   "cell_type": "code",
   "execution_count": null,
   "metadata": {},
   "outputs": [],
   "source": [
    "saveRDS(lung_dge_filtered, file = \"lung_dge_filtered.rds\")"
   ]
  },
  {
   "cell_type": "markdown",
   "metadata": {},
   "source": [
    "## TCGA-SKCM"
   ]
  },
  {
   "cell_type": "code",
   "execution_count": 6,
   "metadata": {},
   "outputs": [
    {
     "name": "stderr",
     "output_type": "stream",
     "text": [
      "--------------------------------------\n",
      "\n",
      "o GDCquery: Searching in GDC database\n",
      "\n",
      "--------------------------------------\n",
      "\n",
      "Genome of reference: hg38\n",
      "\n",
      "--------------------------------------------\n",
      "\n",
      "oo Accessing GDC. This might take a while...\n",
      "\n",
      "--------------------------------------------\n",
      "\n",
      "ooo Project: TCGA-SKCM\n",
      "\n",
      "--------------------\n",
      "\n",
      "oo Filtering results\n",
      "\n",
      "--------------------\n",
      "\n",
      "ooo By workflow.type\n",
      "\n",
      "----------------\n",
      "\n",
      "oo Checking data\n",
      "\n",
      "----------------\n",
      "\n",
      "ooo Check if there are duplicated cases\n",
      "\n",
      "ooo Check if there results for the query\n",
      "\n",
      "-------------------\n",
      "\n",
      "o Preparing output\n",
      "\n",
      "-------------------\n",
      "\n",
      "Downloading data for project TCGA-SKCM\n",
      "\n",
      "Of the 472 files for download 472 already exist.\n",
      "\n",
      "All samples have been already downloaded\n",
      "\n"
     ]
    },
    {
     "name": "stdout",
     "output_type": "stream",
     "text": [
      "|====================================================|100%                      Completed after 37 s \n"
     ]
    },
    {
     "name": "stderr",
     "output_type": "stream",
     "text": [
      "Starting to add information to samples\n",
      "\n",
      " => Add clinical information to samples\n",
      "\n",
      " => Adding TCGA molecular information from marker papers\n",
      "\n",
      " => Information will have prefix 'paper_' \n",
      "\n",
      "skcm subtype information from:doi:10.1016/j.cell.2015.05.044\n",
      "\n",
      "Accessing www.ensembl.org to get gene information\n",
      "\n",
      "Downloading genome information (try:0) Using: Human genes (GRCh38.p13)\n",
      "\n",
      "Cache found\n",
      "\n",
      "From the 60483 genes we couldn't map 3984\n",
      "\n"
     ]
    }
   ],
   "source": [
    "mel_query <- GDCquery(project = \"TCGA-SKCM\", legacy = FALSE, data.category = \"Transcriptome Profiling\", \n",
    "                  workflow.type = \"HTSeq - Counts\")\n",
    "\n",
    "# get the files\n",
    "mel_count_files <- getResults(query)\n",
    "\n",
    "# download the files\n",
    "GDCdownload(mel_query)\n",
    "\n",
    "# create the object\n",
    "mel_counts <- GDCprepare(mel_query)\n",
    "\n",
    "# create the DGEList object\n",
    "mel_dge <- DGEList(counts = assay(mel_counts), \n",
    "                    samples = colData(mel_counts), \n",
    "                    genes = rowData(mel_counts), \n",
    "                    group = colData(mel_counts)$vital_status)\n",
    "\n",
    "saveRDS(mel_dge, file=\"mel_dge_counts.rds\")"
   ]
  },
  {
   "cell_type": "code",
   "execution_count": 7,
   "metadata": {},
   "outputs": [],
   "source": [
    "# load the melanoma data if not present\n",
    "mel_dge <- readRDS(\"mel_dge_counts.rds\")\n",
    "\n",
    "mel_dge <- pre_process_dge_data(mel_dge)\n",
    "\n",
    "mel_dge <- add_signatures(mel_dge)"
   ]
  },
  {
   "cell_type": "code",
   "execution_count": 215,
   "metadata": {},
   "outputs": [
    {
     "name": "stdout",
     "output_type": "stream",
     "text": [
      "Call:\n",
      "coxph(formula = surv_obj ~ sample_groups)\n",
      "\n",
      "  n= 463, number of events= 222 \n",
      "   (9 observations deleted due to missingness)\n",
      "\n",
      "                          coef exp(coef) se(coef)      z Pr(>|z|)    \n",
      "sample_groupsTIPB high -0.5752    0.5626   0.1365 -4.215  2.5e-05 ***\n",
      "---\n",
      "Signif. codes:  0 ‘***’ 0.001 ‘**’ 0.01 ‘*’ 0.05 ‘.’ 0.1 ‘ ’ 1\n",
      "\n",
      "                       exp(coef) exp(-coef) lower .95 upper .95\n",
      "sample_groupsTIPB high    0.5626      1.778    0.4305    0.7351\n",
      "\n",
      "Concordance= 0.579  (se = 0.018 )\n",
      "Likelihood ratio test= 18.07  on 1 df,   p=2e-05\n",
      "Wald test            = 17.77  on 1 df,   p=2e-05\n",
      "Score (logrank) test = 18.25  on 1 df,   p=2e-05\n",
      "\n"
     ]
    },
    {
     "data": {
      "image/png": "[encoded data removed]",
      "text/plain": [
       "Plot with title “TCGA Mel”"
      ]
     },
     "metadata": {
      "image/png": {
       "height": 300,
       "width": 300
      },
      "text/plain": {
       "height": 300,
       "width": 300
      }
     },
     "output_type": "display_data"
    }
   ],
   "source": [
    "mel_dge <- assess_tipb_survival(mel_dge, plot.filename = \"survival_TCGA_mel.svg\", plot.title = \"TCGA Mel\")"
   ]
  },
  {
   "cell_type": "code",
   "execution_count": 7,
   "metadata": {},
   "outputs": [],
   "source": [
    "saveRDS(mel_dge, file=\"mel_dge_filtered.rds\")"
   ]
  },
  {
   "cell_type": "markdown",
   "metadata": {},
   "source": [
    "## TCGA-BRCA"
   ]
  },
  {
   "cell_type": "code",
   "execution_count": 8,
   "metadata": {
    "scrolled": true
   },
   "outputs": [
    {
     "name": "stderr",
     "output_type": "stream",
     "text": [
      "--------------------------------------\n",
      "\n",
      "o GDCquery: Searching in GDC database\n",
      "\n",
      "--------------------------------------\n",
      "\n",
      "Genome of reference: hg38\n",
      "\n",
      "--------------------------------------------\n",
      "\n",
      "oo Accessing GDC. This might take a while...\n",
      "\n",
      "--------------------------------------------\n",
      "\n",
      "ooo Project: TCGA-BRCA\n",
      "\n",
      "--------------------\n",
      "\n",
      "oo Filtering results\n",
      "\n",
      "--------------------\n",
      "\n",
      "ooo By data.type\n",
      "\n",
      "ooo By workflow.type\n",
      "\n",
      "----------------\n",
      "\n",
      "oo Checking data\n",
      "\n",
      "----------------\n",
      "\n",
      "ooo Check if there are duplicated cases\n",
      "\n",
      "ooo Check if there results for the query\n",
      "\n",
      "-------------------\n",
      "\n",
      "o Preparing output\n",
      "\n",
      "-------------------\n",
      "\n",
      "Downloading data for project TCGA-BRCA\n",
      "\n",
      "Of the 1222 files for download 1222 already exist.\n",
      "\n",
      "All samples have been already downloaded\n",
      "\n"
     ]
    },
    {
     "name": "stdout",
     "output_type": "stream",
     "text": [
      "|====================================================|100%                      Completed after 2 m \n"
     ]
    },
    {
     "name": "stderr",
     "output_type": "stream",
     "text": [
      "Starting to add information to samples\n",
      "\n",
      " => Add clinical information to samples\n",
      "\n",
      " => Adding TCGA molecular information from marker papers\n",
      "\n",
      " => Information will have prefix 'paper_' \n",
      "\n",
      "brca subtype information from:doi.org/10.1016/j.ccell.2018.03.014\n",
      "\n",
      "Accessing www.ensembl.org to get gene information\n",
      "\n",
      "Downloading genome information (try:0) Using: Human genes (GRCh38.p13)\n",
      "\n",
      "Cache found\n",
      "\n",
      "From the 60483 genes we couldn't map 3984\n",
      "\n"
     ]
    }
   ],
   "source": [
    "# TCGA-BRCA\n",
    "library(TCGAbiolinks)\n",
    "\n",
    "# download RNASeq data\n",
    "breast_query <- GDCquery(\n",
    "    project = \"TCGA-BRCA\",\n",
    "    data.category = \"Transcriptome Profiling\",\n",
    "    data.type = \"Gene Expression Quantification\",\n",
    "    workflow.type = \"HTSeq - Counts\"\n",
    ")\n",
    "\n",
    "GDCdownload(breast_query)\n",
    "\n",
    "# Note: this currently fails, therefore I'm using the data from 18-01\n",
    "breast_counts <- GDCprepare(breast_query)"
   ]
  },
  {
   "cell_type": "code",
   "execution_count": 9,
   "metadata": {},
   "outputs": [
    {
     "data": {
      "text/plain": [
       "\n",
       "         Metastatic       Primary Tumor Solid Tissue Normal \n",
       "                  7                1102                 113 "
      ]
     },
     "metadata": {},
     "output_type": "display_data"
    }
   ],
   "source": [
    "table(breast_counts$sample_type)"
   ]
  },
  {
   "cell_type": "code",
   "execution_count": 10,
   "metadata": {},
   "outputs": [
    {
     "name": "stderr",
     "output_type": "stream",
     "text": [
      "Limiting to primary tumours...\n",
      "\n",
      "Retained 1102 samples\n",
      "\n"
     ]
    }
   ],
   "source": [
    "# limit to primary tumors\n",
    "message(\"Limiting to primary tumours...\")\n",
    "breast_counts <- breast_counts[, breast_counts$sample_type == \"Primary Tumor\"]\n",
    "\n",
    "message(\"Retained \", ncol(breast_counts), \" samples\")"
   ]
  },
  {
   "cell_type": "code",
   "execution_count": 11,
   "metadata": {},
   "outputs": [],
   "source": [
    "# create the object\n",
    "breast_dge <- DGEList(counts = assay(breast_counts), \n",
    "                    samples = colData(breast_counts), \n",
    "                    genes = rowData(breast_counts), \n",
    "                    group = colData(breast_counts)$vital_status)\n",
    "\n",
    "saveRDS(breast_dge, file=\"breast_dge_counts.rds\")"
   ]
  },
  {
   "cell_type": "code",
   "execution_count": 12,
   "metadata": {},
   "outputs": [],
   "source": [
    "# use previously prepare version\n",
    "breast_dge <- readRDS(\"breast_dge_counts.rds\")\n",
    "\n",
    "breast_dge <- pre_process_dge_data(breast_dge)\n",
    "breast_dge <- add_signatures(breast_dge)"
   ]
  },
  {
   "cell_type": "code",
   "execution_count": 321,
   "metadata": {},
   "outputs": [
    {
     "name": "stdout",
     "output_type": "stream",
     "text": [
      "Call:\n",
      "coxph(formula = surv_obj ~ sample_groups)\n",
      "\n",
      "  n= 1101, number of events= 154 \n",
      "   (1 observation deleted due to missingness)\n",
      "\n",
      "                          coef exp(coef) se(coef)      z Pr(>|z|)\n",
      "sample_groupsTIPB high -0.2202    0.8024   0.1630 -1.351    0.177\n",
      "\n",
      "                       exp(coef) exp(-coef) lower .95 upper .95\n",
      "sample_groupsTIPB high    0.8024      1.246    0.5829     1.104\n",
      "\n",
      "Concordance= 0.539  (se = 0.024 )\n",
      "Likelihood ratio test= 1.84  on 1 df,   p=0.2\n",
      "Wald test            = 1.83  on 1 df,   p=0.2\n",
      "Score (logrank) test = 1.83  on 1 df,   p=0.2\n",
      "\n"
     ]
    },
    {
     "data": {
      "image/png": "[encoded data removed]",
      "text/plain": [
       "Plot with title “TCGA Breast”"
      ]
     },
     "metadata": {
      "image/png": {
       "height": 300,
       "width": 300
      },
      "text/plain": {
       "height": 300,
       "width": 300
      }
     },
     "output_type": "display_data"
    }
   ],
   "source": [
    "# breast_dge$samples$vital_status[breast_dge$samples$vital_status == \"dead\"] <- \"Dead\"\n",
    "breast_dge <- assess_tipb_survival(breast_dge, plot.filename = \"survival_TCGA_breast.svg\", \"TCGA Breast\")"
   ]
  },
  {
   "cell_type": "code",
   "execution_count": null,
   "metadata": {},
   "outputs": [],
   "source": [
    "saveRDS(breast_dge, file = \"breast_dge_filtered.rds\", plot.filename = \"survival_TCGA_breast.svg\", plot.title = \"TCGA Breast\")"
   ]
  },
  {
   "cell_type": "markdown",
   "metadata": {},
   "source": [
    "## TCGA-LUSC"
   ]
  },
  {
   "cell_type": "code",
   "execution_count": 54,
   "metadata": {
    "scrolled": true
   },
   "outputs": [
    {
     "name": "stderr",
     "output_type": "stream",
     "text": [
      "--------------------------------------\n",
      "\n",
      "o GDCquery: Searching in GDC database\n",
      "\n",
      "--------------------------------------\n",
      "\n",
      "Genome of reference: hg38\n",
      "\n",
      "--------------------------------------------\n",
      "\n",
      "oo Accessing GDC. This might take a while...\n",
      "\n",
      "--------------------------------------------\n",
      "\n",
      "ooo Project: TCGA-LUSC\n",
      "\n",
      "--------------------\n",
      "\n",
      "oo Filtering results\n",
      "\n",
      "--------------------\n",
      "\n",
      "ooo By data.type\n",
      "\n",
      "ooo By workflow.type\n",
      "\n",
      "----------------\n",
      "\n",
      "oo Checking data\n",
      "\n",
      "----------------\n",
      "\n",
      "ooo Check if there are duplicated cases\n",
      "\n",
      "ooo Check if there results for the query\n",
      "\n",
      "-------------------\n",
      "\n",
      "o Preparing output\n",
      "\n",
      "-------------------\n",
      "\n",
      "Downloading data for project TCGA-LUSC\n",
      "\n",
      "GDCdownload will download 551 files. A total of 140.276146 MB\n",
      "\n",
      "Downloading as: Wed_Apr__1_13_24_32_2020.tar.gz\n",
      "\n"
     ]
    },
    {
     "name": "stdout",
     "output_type": "stream",
     "text": [
      "|====================================================|100%                      Completed after 50 s \n"
     ]
    },
    {
     "name": "stderr",
     "output_type": "stream",
     "text": [
      "Starting to add information to samples\n",
      "\n",
      " => Add clinical information to samples\n",
      "\n",
      " => Adding TCGA molecular information from marker papers\n",
      "\n",
      " => Information will have prefix 'paper_' \n",
      "\n",
      "lusc subtype information from:doi:10.1038/nature11404\n",
      "\n",
      "Accessing www.ensembl.org to get gene information\n",
      "\n",
      "Downloading genome information (try:0) Using: Human genes (GRCh38.p13)\n",
      "\n",
      "Cache found\n",
      "\n",
      "From the 60483 genes we couldn't map 3984\n",
      "\n"
     ]
    }
   ],
   "source": [
    "library(TCGAbiolinks)\n",
    "\n",
    "# download RNASeq data\n",
    "lung_scc_query <- GDCquery(\n",
    "    project = \"TCGA-LUSC\",\n",
    "    data.category = \"Transcriptome Profiling\",\n",
    "    data.type = \"Gene Expression Quantification\",\n",
    "    workflow.type = \"HTSeq - Counts\"\n",
    ")\n",
    "\n",
    "GDCdownload(lung_scc_query)\n",
    "\n",
    "lung_scc_counts <- GDCprepare(lung_scc_query)"
   ]
  },
  {
   "cell_type": "code",
   "execution_count": 55,
   "metadata": {},
   "outputs": [
    {
     "data": {
      "text/plain": [
       "\n",
       "      Primary Tumor Solid Tissue Normal \n",
       "                502                  49 "
      ]
     },
     "metadata": {},
     "output_type": "display_data"
    }
   ],
   "source": [
    "table(lung_scc_counts$sample_type)"
   ]
  },
  {
   "cell_type": "code",
   "execution_count": 58,
   "metadata": {},
   "outputs": [],
   "source": [
    "# limit to primary tumors\n",
    "lung_scc_counts <- lung_scc_counts[, lung_scc_counts$sample_type == \"Primary Tumor\"]"
   ]
  },
  {
   "cell_type": "code",
   "execution_count": null,
   "metadata": {},
   "outputs": [],
   "source": [
    "# create the object\n",
    "lung_scc_dge <- DGEList(counts = assay(lung_scc_counts), \n",
    "                    samples = colData(lung_scc_counts), \n",
    "                    genes = rowData(lung_scc_counts), \n",
    "                    group = colData(lung_scc_counts)$vital_status)\n",
    "\n",
    "saveRDS(lung_scc_dge, file=\"lung_scc_dge_counts.rds\")"
   ]
  },
  {
   "cell_type": "code",
   "execution_count": 60,
   "metadata": {},
   "outputs": [],
   "source": [
    "# use previously prepare version\n",
    "lung_scc_dge <- readRDS(\"lung_scc_dge_counts.rds\")\n",
    "\n",
    "lung_scc_dge <- pre_process_dge_data(lung_scc_dge)\n",
    "lung_scc_dge <- add_signatures(lung_scc_dge)"
   ]
  },
  {
   "cell_type": "code",
   "execution_count": 217,
   "metadata": {},
   "outputs": [
    {
     "name": "stdout",
     "output_type": "stream",
     "text": [
      "Call:\n",
      "coxph(formula = surv_obj ~ sample_groups)\n",
      "\n",
      "  n= 496, number of events= 212 \n",
      "   (6 observations deleted due to missingness)\n",
      "\n",
      "                          coef exp(coef) se(coef)     z Pr(>|z|)\n",
      "sample_groupsTIPB high 0.02058   1.02079  0.13807 0.149    0.882\n",
      "\n",
      "                       exp(coef) exp(-coef) lower .95 upper .95\n",
      "sample_groupsTIPB high     1.021     0.9796    0.7788     1.338\n",
      "\n",
      "Concordance= 0.501  (se = 0.019 )\n",
      "Likelihood ratio test= 0.02  on 1 df,   p=0.9\n",
      "Wald test            = 0.02  on 1 df,   p=0.9\n",
      "Score (logrank) test = 0.02  on 1 df,   p=0.9\n",
      "\n"
     ]
    },
    {
     "data": {
      "image/png": "[encoded data removed]",
      "text/plain": [
       "Plot with title “TCGA Lung SCC”"
      ]
     },
     "metadata": {
      "image/png": {
       "height": 300,
       "width": 300
      },
      "text/plain": {
       "height": 300,
       "width": 300
      }
     },
     "output_type": "display_data"
    }
   ],
   "source": [
    "# breast_dge$samples$vital_status[breast_dge$samples$vital_status == \"dead\"] <- \"Dead\"\n",
    "lung_scc_dge <- assess_tipb_survival(lung_scc_dge, plot.filename = \"survival_TCGA_lung_scc.svg\", plot.title = \"TCGA Lung SCC\")"
   ]
  },
  {
   "cell_type": "code",
   "execution_count": null,
   "metadata": {},
   "outputs": [],
   "source": [
    "saveRDS(lung_scc_dge, file = \"lung_scc_dge_filtered.rds\")"
   ]
  },
  {
   "cell_type": "markdown",
   "metadata": {},
   "source": [
    "## TCGA-OV"
   ]
  },
  {
   "cell_type": "code",
   "execution_count": 81,
   "metadata": {
    "scrolled": true
   },
   "outputs": [
    {
     "name": "stderr",
     "output_type": "stream",
     "text": [
      "--------------------------------------\n",
      "\n",
      "o GDCquery: Searching in GDC database\n",
      "\n",
      "--------------------------------------\n",
      "\n",
      "Genome of reference: hg38\n",
      "\n",
      "--------------------------------------------\n",
      "\n",
      "oo Accessing GDC. This might take a while...\n",
      "\n",
      "--------------------------------------------\n",
      "\n",
      "ooo Project: TCGA-OV\n",
      "\n",
      "--------------------\n",
      "\n",
      "oo Filtering results\n",
      "\n",
      "--------------------\n",
      "\n",
      "ooo By data.type\n",
      "\n",
      "ooo By workflow.type\n",
      "\n",
      "----------------\n",
      "\n",
      "oo Checking data\n",
      "\n",
      "----------------\n",
      "\n",
      "ooo Check if there are duplicated cases\n",
      "\n",
      "ooo Check if there results for the query\n",
      "\n",
      "-------------------\n",
      "\n",
      "o Preparing output\n",
      "\n",
      "-------------------\n",
      "\n",
      "Downloading data for project TCGA-OV\n",
      "\n",
      "GDCdownload will download 379 files. A total of 97.709866 MB\n",
      "\n",
      "Downloading as: Wed_Apr__1_18_30_46_2020.tar.gz\n",
      "\n"
     ]
    },
    {
     "name": "stdout",
     "output_type": "stream",
     "text": [
      "|====================================================|100%                      Completed after 33 s \n"
     ]
    },
    {
     "name": "stderr",
     "output_type": "stream",
     "text": [
      "Starting to add information to samples\n",
      "\n",
      " => Add clinical information to samples\n",
      "\n",
      " => Adding TCGA molecular information from marker papers\n",
      "\n",
      " => Information will have prefix 'paper_' \n",
      "\n",
      "Accessing www.ensembl.org to get gene information\n",
      "\n",
      "Accessing www.ensembl.org (mirror useast)\n",
      "\n",
      "Downloading genome information (try:1) Using: Human genes (GRCh38.p13)\n",
      "\n",
      "Cache found\n",
      "\n",
      "From the 60483 genes we couldn't map 3984\n",
      "\n"
     ]
    }
   ],
   "source": [
    "library(TCGAbiolinks)\n",
    "\n",
    "# download RNASeq data\n",
    "ovarian_query <- GDCquery(\n",
    "    project = \"TCGA-OV\",\n",
    "    data.category = \"Transcriptome Profiling\",\n",
    "    data.type = \"Gene Expression Quantification\",\n",
    "    workflow.type = \"HTSeq - Counts\"\n",
    ")\n",
    "\n",
    "GDCdownload(ovarian_query)\n",
    "\n",
    "# Note: this currently fails, therefore I'm using the data from 18-01\n",
    "ovarian_counts <- GDCprepare(ovarian_query)"
   ]
  },
  {
   "cell_type": "code",
   "execution_count": 82,
   "metadata": {},
   "outputs": [
    {
     "data": {
      "text/plain": [
       "\n",
       "  Primary Tumor Recurrent Tumor \n",
       "            374               5 "
      ]
     },
     "metadata": {},
     "output_type": "display_data"
    }
   ],
   "source": [
    "table(ovarian_counts$sample_type)"
   ]
  },
  {
   "cell_type": "code",
   "execution_count": 83,
   "metadata": {},
   "outputs": [],
   "source": [
    "# limit to primary tumors\n",
    "ovarian_counts <- ovarian_counts[, ovarian_counts$sample_type == \"Primary Tumor\"]"
   ]
  },
  {
   "cell_type": "code",
   "execution_count": 84,
   "metadata": {},
   "outputs": [],
   "source": [
    "# create the object\n",
    "ovarian_dge <- DGEList(counts = assay(ovarian_counts), \n",
    "                    samples = colData(ovarian_counts), \n",
    "                    genes = rowData(ovarian_counts), \n",
    "                    group = colData(ovarian_counts)$vital_status)\n",
    "\n",
    "saveRDS(ovarian_dge, file=\"ov_dge_counts.rds\")"
   ]
  },
  {
   "cell_type": "code",
   "execution_count": 85,
   "metadata": {},
   "outputs": [],
   "source": [
    "# use previously prepare version\n",
    "ovarian_dge <- readRDS(\"ov_dge_counts.rds\")\n",
    "\n",
    "ovarian_dge <- pre_process_dge_data(ovarian_dge)\n",
    "ovarian_dge <- add_signatures(ovarian_dge)"
   ]
  },
  {
   "cell_type": "code",
   "execution_count": 218,
   "metadata": {},
   "outputs": [
    {
     "name": "stdout",
     "output_type": "stream",
     "text": [
      "Call:\n",
      "coxph(formula = surv_obj ~ sample_groups)\n",
      "\n",
      "  n= 373, number of events= 230 \n",
      "   (1 observation deleted due to missingness)\n",
      "\n",
      "                          coef exp(coef) se(coef)     z Pr(>|z|)   \n",
      "sample_groupsTIPB high -0.3743    0.6878   0.1346 -2.78  0.00543 **\n",
      "---\n",
      "Signif. codes:  0 ‘***’ 0.001 ‘**’ 0.01 ‘*’ 0.05 ‘.’ 0.1 ‘ ’ 1\n",
      "\n",
      "                       exp(coef) exp(-coef) lower .95 upper .95\n",
      "sample_groupsTIPB high    0.6878      1.454    0.5283    0.8955\n",
      "\n",
      "Concordance= 0.524  (se = 0.019 )\n",
      "Likelihood ratio test= 7.85  on 1 df,   p=0.005\n",
      "Wald test            = 7.73  on 1 df,   p=0.005\n",
      "Score (logrank) test = 7.82  on 1 df,   p=0.005\n",
      "\n"
     ]
    },
    {
     "data": {
      "image/png": "[encoded data removed]",
      "text/plain": [
       "Plot with title “TCGA Ovarian”"
      ]
     },
     "metadata": {
      "image/png": {
       "height": 300,
       "width": 300
      },
      "text/plain": {
       "height": 300,
       "width": 300
      }
     },
     "output_type": "display_data"
    }
   ],
   "source": [
    "# breast_dge$samples$vital_status[breast_dge$samples$vital_status == \"dead\"] <- \"Dead\"\n",
    "ovarian_dge <- assess_tipb_survival(ovarian_dge, plot.filename = \"survival_TCGA_ov.svg\", plot.title = \"TCGA Ovarian\")"
   ]
  },
  {
   "cell_type": "code",
   "execution_count": null,
   "metadata": {},
   "outputs": [],
   "source": [
    "saveRDS(ovarian_dge, file = \"ov_dge_filtered.rds\")"
   ]
  },
  {
   "cell_type": "markdown",
   "metadata": {},
   "source": [
    "# Comparative pathway analysis (ReactomeGSA)\n",
    "\n",
    "Here, we use the ReactomeGSA Bioconductor R package to perform a comparative pathway analysis of the five TCGA datasets.\n",
    "\n",
    "This requires three steps:\n",
    "\n",
    "  1. Create the `ReactomeAnalysisRequest` object where the analysis method (PADOG) is specified\n",
    "  2. Set default parameters for all datasets (include protein-protein interactors and ignore disease pathways)\n",
    "  3. Add each dataset comparing the \"TIPB high\" vs the \"TIPB low\" group."
   ]
  },
  {
   "cell_type": "code",
   "execution_count": 93,
   "metadata": {},
   "outputs": [
    {
     "name": "stderr",
     "output_type": "stream",
     "text": [
      "Converting expression data to string... (This may take a moment)\n",
      "\n",
      "Conversion complete\n",
      "\n",
      "Converting expression data to string... (This may take a moment)\n",
      "\n",
      "Conversion complete\n",
      "\n",
      "Converting expression data to string... (This may take a moment)\n",
      "\n",
      "Conversion complete\n",
      "\n",
      "Converting expression data to string... (This may take a moment)\n",
      "\n",
      "Conversion complete\n",
      "\n",
      "Converting expression data to string... (This may take a moment)\n",
      "\n",
      "Conversion complete\n",
      "\n"
     ]
    }
   ],
   "source": [
    "# run the pathway analysis\n",
    "library(ReactomeGSA)\n",
    "\n",
    "analysis_request <- ReactomeAnalysisRequest(method = \"PADOG\")\n",
    "analysis_request <- set_parameters(analysis_request, use_interactors = T, include_disease_pathways = F)\n",
    "analysis_request <- add_dataset(analysis_request, expression_values = lung_dge_filtered, \n",
    "                                name = \"TCGA Lung\", type = \"rnaseq_counts\", comparison_factor = \"tipb_group\", \n",
    "                                comparison_group_1 = \"TIPB low\", comparison_group_2 =  \"TIPB high\")\n",
    "\n",
    "analysis_request <- add_dataset(analysis_request, expression_values = mel_dge, \n",
    "                                name = \"TCGA Mel\", type = \"rnaseq_counts\", comparison_factor = \"tipb_group\", \n",
    "                                comparison_group_1 = \"TIPB low\", comparison_group_2 =  \"TIPB high\")\n",
    "\n",
    "analysis_request <- add_dataset(analysis_request, expression_values = ovarian_dge, \n",
    "                                name = \"TCGA Ov\", type = \"rnaseq_counts\", comparison_factor = \"tipb_group\", \n",
    "                                comparison_group_1 = \"TIPB low\", comparison_group_2 =  \"TIPB high\")\n",
    "\n",
    "analysis_request <- add_dataset(analysis_request, expression_values = breast_dge, \n",
    "                                name = \"TCGA Breast\", type = \"rnaseq_counts\", comparison_factor = \"tipb_group\", \n",
    "                                comparison_group_1 = \"TIPB low\", comparison_group_2 =  \"TIPB high\")\n",
    "\n",
    "analysis_request <- add_dataset(analysis_request, expression_values = lung_scc_dge, \n",
    "                                name = \"TCGA Lung SCC\", type = \"rnaseq_counts\", comparison_factor = \"tipb_group\", \n",
    "                                comparison_group_1 = \"TIPB low\", comparison_group_2 =  \"TIPB high\")\n",
    "\n",
    "saveRDS(analysis_request, \"reactome_analysis_request.rds\")"
   ]
  },
  {
   "cell_type": "markdown",
   "metadata": {},
   "source": [
    "The ReactomeGSA analysis is launched through the single `perform_reactome_analysis` function. Depending on the load of the ReactomeGSA analysis system, this analysis takes between 30 - 60 minutes. Therefore, the analysis result is immediately cached as an `rds` file."
   ]
  },
  {
   "cell_type": "code",
   "execution_count": 94,
   "metadata": {},
   "outputs": [
    {
     "name": "stderr",
     "output_type": "stream",
     "text": [
      "Submitting request to Reactome API...\n",
      "\n",
      "Reactome Analysis submitted succesfully\n",
      "\n",
      "Queued\n",
      "\n",
      "Converting dataset TCGA Lung...\n",
      "\n",
      "Converting dataset TCGA Mel...\n",
      "\n",
      "Converting dataset TCGA Ov...\n",
      "\n",
      "Converting dataset TCGA Breast...\n",
      "\n",
      "Converting dataset TCGA Lung SCC...\n",
      "\n",
      "Mapping identifiers...\n",
      "\n",
      "Performing gene set analysis using PADOG\n",
      "\n",
      "Analysing dataset 'TCGA Lung' using PADOG\n",
      "\n",
      "Analysing dataset 'TCGA Mel' using PADOG\n",
      "\n",
      "Analysing dataset 'TCGA Ov' using PADOG\n",
      "\n",
      "Analysing dataset 'TCGA Breast' using PADOG\n",
      "\n",
      "Analysing dataset 'TCGA Lung SCC' using PADOG\n",
      "\n",
      "Retrieving result...\n",
      "\n"
     ]
    }
   ],
   "source": [
    "library(ReactomeGSA)\n",
    "analysis_request <- readRDS(\"reactome_analysis_request.rds\")\n",
    "\n",
    "analysis_result <- perform_reactome_analysis(analysis_request)\n",
    "\n",
    "saveRDS(analysis_result, file=\"reactome_analysis_result.rds\")"
   ]
  },
  {
   "cell_type": "markdown",
   "metadata": {},
   "source": [
    "The analysis result contains the pathway results for every analysed sample, as well as a link to the interactive visualization of the pathway analysis results in the Reactome PathwayBrowser (NOTE: The link contained in this notebook is no longer working as results are only stored for 1 week)."
   ]
  },
  {
   "cell_type": "code",
   "execution_count": 95,
   "metadata": {},
   "outputs": [
    {
     "data": {
      "text/plain": [
       "ReactomeAnalysisResult object\n",
       "  Reactome Release: 72\n",
       "  Results:\n",
       "  - TCGA Lung:\n",
       "    1801 pathways\n",
       "    12241 fold changes for genes\n",
       "  - TCGA Mel:\n",
       "    1800 pathways\n",
       "    11854 fold changes for genes\n",
       "  - TCGA Ov:\n",
       "    1801 pathways\n",
       "    12325 fold changes for genes\n",
       "  - TCGA Breast:\n",
       "    1801 pathways\n",
       "    12174 fold changes for genes\n",
       "  - TCGA Lung SCC:\n",
       "    1801 pathways\n",
       "    12381 fold changes for genes\n",
       "  Reactome visualizations:\n",
       "  - Gene Set Analysis Summary"
      ]
     },
     "metadata": {},
     "output_type": "display_data"
    }
   ],
   "source": [
    "analysis_result <- readRDS(\"reactome_analysis_result.rds\")\n",
    "analysis_result"
   ]
  },
  {
   "cell_type": "markdown",
   "metadata": {},
   "source": [
    "The `pathways` function returns a table with the merged pathway results of all analysed datasets.\n",
    "\n",
    "We only keep pathways that were significantly regulated (FDR < 0.1) in at least one of the datasets."
   ]
  },
  {
   "cell_type": "code",
   "execution_count": 174,
   "metadata": {},
   "outputs": [
    {
     "name": "stderr",
     "output_type": "stream",
     "text": [
      "383 significant pathways\n",
      "\n"
     ]
    }
   ],
   "source": [
    "pathway_data <- pathways(analysis_result)\n",
    "\n",
    "# only keep significant pathways\n",
    "max_fdr <- 0.1\n",
    "\n",
    "# get significant pathways\n",
    "sig_pathway <- c()\n",
    "fdr_cols <- colnames(pathway_data)[grep(\"FDR\", colnames(pathway_data))]\n",
    "\n",
    "for (fdr_col in fdr_cols) {\n",
    "    is_sig <- pathway_data[, fdr_col] < max_fdr & !is.na(pathway_data[, fdr_col])\n",
    "    \n",
    "    sig_pathway <- c(sig_pathway, rownames(pathway_data)[is_sig])\n",
    "}\n",
    "\n",
    "sig_pathway <- unique(sig_pathway)\n",
    "\n",
    "message(length(sig_pathway), \" significant pathways\")\n",
    "\n",
    "pathway_data <- pathway_data[sig_pathway, ]"
   ]
  },
  {
   "cell_type": "code",
   "execution_count": null,
   "metadata": {},
   "outputs": [],
   "source": [
    "# save supplementary data\n",
    "suppressPackageStartupMessages(library(xlsx))\n",
    "write.xlsx(pathway_data, file = \"Supplementary_Data_1.xlsx\", sheetName = \"Regulated Pathways\")"
   ]
  },
  {
   "cell_type": "markdown",
   "metadata": {},
   "source": [
    "Next, we only keep pathways that show a different regulation in any of the datasets compared to melanoma. For melanoma, multiple studies already showed the importance of B cells in the anti-tumour immunity. Therefore, we use the melanoma dataset as a reference."
   ]
  },
  {
   "cell_type": "code",
   "execution_count": 190,
   "metadata": {},
   "outputs": [
    {
     "name": "stderr",
     "output_type": "stream",
     "text": [
      "Comparing Direction.TCGA Lung with Melanoma\n",
      "\n",
      "Comparing Direction.TCGA Ov with Melanoma\n",
      "\n",
      "Comparing Direction.TCGA Breast with Melanoma\n",
      "\n",
      "Comparing Direction.TCGA Lung SCC with Melanoma\n",
      "\n",
      "Found 64 different pathways\n",
      "\n"
     ]
    }
   ],
   "source": [
    "# select pathways that are different to melanoma\n",
    "diff_pathways_mel <- c()\n",
    "\n",
    "direction_cols <- colnames(pathway_data)[grep(\"Direction\", colnames(pathway_data))]\n",
    "\n",
    "for (cur_col in direction_cols) {\n",
    "    if (cur_col == \"Direction.TCGA Mel\") {\n",
    "        next\n",
    "    }\n",
    "    \n",
    "    message(\"Comparing \", cur_col, \" with Melanoma\")\n",
    "    \n",
    "    # get diff pathways\n",
    "    dataset_diff_pathways <- rownames(pathway_data)[pathway_data[, cur_col] != pathway_data[, \"Direction.TCGA Mel\"]]\n",
    "    \n",
    "    diff_pathways_mel <- c(diff_pathways_mel, dataset_diff_pathways)\n",
    "}\n",
    "\n",
    "diff_pathways_mel <- unique(diff_pathways_mel)\n",
    "\n",
    "message(\"Found \", length(diff_pathways_mel), \" different pathways\")"
   ]
  },
  {
   "cell_type": "markdown",
   "metadata": {},
   "source": [
    "The analysis result can be visualised in Reactome's pathway browser.\n",
    "\n",
    "**Note**: The link shown in this notebook no longer works since results are only stored for 1 week on the Reactome server."
   ]
  },
  {
   "cell_type": "code",
   "execution_count": 99,
   "metadata": {},
   "outputs": [
    {
     "name": "stderr",
     "output_type": "stream",
     "text": [
      "Opening https://dev.reactome.org/PathwayBrowser/#/DTAB=AN&ANALYSIS=MjAyMDA0MDIwNzMyMDJfNjU%3D in the default browser...\n",
      "\n"
     ]
    },
    {
     "data": {
      "text/html": [
       "<strong>url:</strong> 'https://dev.reactome.org/PathwayBrowser/#/DTAB=AN&amp;ANALYSIS=MjAyMDA0MDIwNzMyMDJfNjU%3D'"
      ],
      "text/latex": [
       "\\textbf{url:} 'https://dev.reactome.org/PathwayBrowser/\\#/DTAB=AN\\&ANALYSIS=MjAyMDA0MDIwNzMyMDJfNjU\\%3D'"
      ],
      "text/markdown": [
       "**url:** 'https://dev.reactome.org/PathwayBrowser/#/DTAB=AN&amp;ANALYSIS=MjAyMDA0MDIwNzMyMDJfNjU%3D'"
      ],
      "text/plain": [
       "                                                                                    url \n",
       "\"https://dev.reactome.org/PathwayBrowser/#/DTAB=AN&ANALYSIS=MjAyMDA0MDIwNzMyMDJfNjU%3D\" "
      ]
     },
     "metadata": {},
     "output_type": "display_data"
    }
   ],
   "source": [
    "open_reactome(analysis_result)"
   ]
  },
  {
   "cell_type": "markdown",
   "metadata": {},
   "source": [
    "Since lung adenocarcinoma samples are the only ones that show a down-regulation of NFkappaB activation, only pathways that are significant in lung adenocarcinoma and melanoma are shown in the subsequent heatmap."
   ]
  },
  {
   "cell_type": "code",
   "execution_count": 204,
   "metadata": {},
   "outputs": [
    {
     "data": {
      "text/html": [
       "<strong>png:</strong> 2"
      ],
      "text/latex": [
       "\\textbf{png:} 2"
      ],
      "text/markdown": [
       "**png:** 2"
      ],
      "text/plain": [
       "png \n",
       "  2 "
      ]
     },
     "metadata": {},
     "output_type": "display_data"
    },
    {
     "data": {
      "image/png": "[encoded data removed]",
      "text/plain": [
       "plot without title"
      ]
     },
     "metadata": {
      "image/png": {
       "height": 600,
       "width": 840
      },
      "text/plain": {
       "height": 600,
       "width": 840
      }
     },
     "output_type": "display_data"
    }
   ],
   "source": [
    "# limit to pathway significant in melanoma and lung\n",
    "sig_mel_lung_pathways <- rownames(pathway_data)[pathway_data[, \"FDR.TCGA Lung\"] < 0.1 & pathway_data[, \"FDR.TCGA Mel\"] < 0.1]\n",
    "heatmap_pathways <- sig_mel_lung_pathways[sig_mel_lung_pathways %in% diff_pathways_mel]\n",
    "\n",
    "pathway_fc <- pathway_data[heatmap_pathways, grep(\"av_foldchange\", colnames(pathway_data))]\n",
    "colnames(pathway_fc) <- gsub(\".*\\\\.\", \"\", colnames(pathway_fc))\n",
    "rownames(pathway_fc) <- pathway_data[heatmap_pathways, \"Name\"]\n",
    "\n",
    "options(repr.plot.width = 14, repr.plot.height = 10)\n",
    "gplots::heatmap.2(as.matrix(pathway_fc),\n",
    "                margins = c(10, 39), \n",
    "                density.info = \"none\", \n",
    "                trace = \"none\",\n",
    "                col = RColorBrewer::brewer.pal(9, \"RdYlBu\"),\n",
    "                dendrogram = \"col\",\n",
    "                key = FALSE, # don't display the color key\n",
    "                lwid=c(0.1,4),  # remove the white space on the left\n",
    "                 cexCol = 1.5,\n",
    "                 cexRow = 1.5,\n",
    "                 rowsep=1:nrow(pathway_fc),\n",
    "                  colsep=1:ncol(pathway_fc),\n",
    "                 sepcolor = \"black\",\n",
    "                 sepwidth = c(0.01, 0.01))\n",
    "\n",
    "svg(\"TCGA_TIBP_diff_pathway_heatmap.svg\", width = 14, height = 10)\n",
    "gplots::heatmap.2(as.matrix(pathway_fc),\n",
    "                margins = c(10, 39), \n",
    "                density.info = \"none\", \n",
    "                trace = \"none\",\n",
    "                col = RColorBrewer::brewer.pal(9, \"RdYlBu\"),\n",
    "                dendrogram = \"col\",\n",
    "                key = FALSE, # don't display the color key\n",
    "                lwid=c(0.1,4),  # remove the white space on the left\n",
    "                 cexCol = 1.5,\n",
    "                 cexRow = 1.5,\n",
    "                 rowsep=1:nrow(pathway_fc),\n",
    "                  colsep=1:ncol(pathway_fc),\n",
    "                 sepcolor = \"black\",\n",
    "                 sepwidth = c(0.01, 0.01))\n",
    "dev.off()"
   ]
  },
  {
   "cell_type": "code",
   "execution_count": 202,
   "metadata": {},
   "outputs": [
    {
     "data": {
      "text/html": [
       "<table>\n",
       "<caption>A data.frame: 18 × 5</caption>\n",
       "<thead>\n",
       "\t<tr><th></th><th scope=col>TCGA Lung</th><th scope=col>TCGA Mel</th><th scope=col>TCGA Ov</th><th scope=col>TCGA Breast</th><th scope=col>TCGA Lung SCC</th></tr>\n",
       "\t<tr><th></th><th scope=col>&lt;dbl&gt;</th><th scope=col>&lt;dbl&gt;</th><th scope=col>&lt;dbl&gt;</th><th scope=col>&lt;dbl&gt;</th><th scope=col>&lt;dbl&gt;</th></tr>\n",
       "</thead>\n",
       "<tbody>\n",
       "\t<tr><th scope=row>Cell death signalling via NRAGE, NRIF and NADE</th><td>-0.001296796</td><td>0.05968023</td><td>0.03358828</td><td> 0.0259963000</td><td> 0.0281564346</td></tr>\n",
       "\t<tr><th scope=row>Signaling by NOTCH3</th><td>-0.001212035</td><td>0.06161943</td><td>0.03648004</td><td> 0.0533652200</td><td> 0.0330781040</td></tr>\n",
       "\t<tr><th scope=row>Cyclin D associated events in G1</th><td>-0.003557852</td><td>0.04530787</td><td>0.02200890</td><td> 0.0401993100</td><td> 0.0213052037</td></tr>\n",
       "\t<tr><th scope=row>G1 Phase</th><td>-0.003557852</td><td>0.04530787</td><td>0.02200890</td><td> 0.0401993100</td><td> 0.0213052037</td></tr>\n",
       "\t<tr><th scope=row>PCP/CE pathway</th><td>-0.002164707</td><td>0.05532647</td><td>0.03880346</td><td> 0.0352533500</td><td> 0.0296437756</td></tr>\n",
       "\t<tr><th scope=row>Downstream signaling events of B Cell Receptor (BCR)</th><td>-0.008275775</td><td>0.08316863</td><td>0.04522575</td><td> 0.0446416900</td><td> 0.0252323404</td></tr>\n",
       "\t<tr><th scope=row>The role of GTSE1 in G2/M progression after G2 checkpoint</th><td>-0.013629120</td><td>0.02302665</td><td>0.02229051</td><td> 0.0329598000</td><td> 0.0016541485</td></tr>\n",
       "\t<tr><th scope=row>Activation of NF-kappaB in B cells</th><td>-0.011877540</td><td>0.08030799</td><td>0.04409536</td><td> 0.0437731900</td><td> 0.0197654841</td></tr>\n",
       "\t<tr><th scope=row>Regulation of activated PAK-2p34 by proteasome mediated degradation</th><td>-0.019122020</td><td>0.05577306</td><td>0.06578521</td><td> 0.0268113600</td><td> 0.0184071232</td></tr>\n",
       "\t<tr><th scope=row>Regulation of Apoptosis</th><td>-0.021484110</td><td>0.05056385</td><td>0.06067136</td><td> 0.0253505900</td><td> 0.0147514891</td></tr>\n",
       "\t<tr><th scope=row>Ubiquitin Mediated Degradation of Phosphorylated Cdc25A</th><td>-0.032610920</td><td>0.03658875</td><td>0.06174386</td><td> 0.0264381300</td><td>-0.0101280688</td></tr>\n",
       "\t<tr><th scope=row>p53-Independent DNA Damage Response</th><td>-0.032610920</td><td>0.03658875</td><td>0.06174386</td><td> 0.0264381300</td><td>-0.0101280688</td></tr>\n",
       "\t<tr><th scope=row>p53-Independent G1/S DNA damage checkpoint</th><td>-0.032610920</td><td>0.03658875</td><td>0.06174386</td><td> 0.0264381300</td><td>-0.0101280688</td></tr>\n",
       "\t<tr><th scope=row>Glycogen metabolism</th><td>-0.027173330</td><td>0.02633509</td><td>0.03723742</td><td>-0.0048208110</td><td> 0.0006233129</td></tr>\n",
       "\t<tr><th scope=row>Glycogen synthesis</th><td>-0.024831330</td><td>0.02373405</td><td>0.03640182</td><td>-0.0006138539</td><td> 0.0046425913</td></tr>\n",
       "\t<tr><th scope=row>Ubiquitin-dependent degradation of Cyclin D</th><td>-0.011194100</td><td>0.04924370</td><td>0.05754941</td><td> 0.0290021700</td><td> 0.0105420627</td></tr>\n",
       "\t<tr><th scope=row>Autodegradation of the E3 ubiquitin ligase COP1</th><td>-0.027356780</td><td>0.01079749</td><td>0.02983233</td><td> 0.0141195500</td><td>-0.0040595248</td></tr>\n",
       "\t<tr><th scope=row>Regulation of RUNX3 expression and activity</th><td>-0.004194837</td><td>0.05499696</td><td>0.05125034</td><td> 0.0441457000</td><td> 0.0304750818</td></tr>\n",
       "</tbody>\n",
       "</table>\n"
      ],
      "text/latex": [
       "A data.frame: 18 × 5\n",
       "\\begin{tabular}{r|lllll}\n",
       "  & TCGA Lung & TCGA Mel & TCGA Ov & TCGA Breast & TCGA Lung SCC\\\\\n",
       "  & <dbl> & <dbl> & <dbl> & <dbl> & <dbl>\\\\\n",
       "\\hline\n",
       "\tCell death signalling via NRAGE, NRIF and NADE & -0.001296796 & 0.05968023 & 0.03358828 &  0.0259963000 &  0.0281564346\\\\\n",
       "\tSignaling by NOTCH3 & -0.001212035 & 0.06161943 & 0.03648004 &  0.0533652200 &  0.0330781040\\\\\n",
       "\tCyclin D associated events in G1 & -0.003557852 & 0.04530787 & 0.02200890 &  0.0401993100 &  0.0213052037\\\\\n",
       "\tG1 Phase & -0.003557852 & 0.04530787 & 0.02200890 &  0.0401993100 &  0.0213052037\\\\\n",
       "\tPCP/CE pathway & -0.002164707 & 0.05532647 & 0.03880346 &  0.0352533500 &  0.0296437756\\\\\n",
       "\tDownstream signaling events of B Cell Receptor (BCR) & -0.008275775 & 0.08316863 & 0.04522575 &  0.0446416900 &  0.0252323404\\\\\n",
       "\tThe role of GTSE1 in G2/M progression after G2 checkpoint & -0.013629120 & 0.02302665 & 0.02229051 &  0.0329598000 &  0.0016541485\\\\\n",
       "\tActivation of NF-kappaB in B cells & -0.011877540 & 0.08030799 & 0.04409536 &  0.0437731900 &  0.0197654841\\\\\n",
       "\tRegulation of activated PAK-2p34 by proteasome mediated degradation & -0.019122020 & 0.05577306 & 0.06578521 &  0.0268113600 &  0.0184071232\\\\\n",
       "\tRegulation of Apoptosis & -0.021484110 & 0.05056385 & 0.06067136 &  0.0253505900 &  0.0147514891\\\\\n",
       "\tUbiquitin Mediated Degradation of Phosphorylated Cdc25A & -0.032610920 & 0.03658875 & 0.06174386 &  0.0264381300 & -0.0101280688\\\\\n",
       "\tp53-Independent DNA Damage Response & -0.032610920 & 0.03658875 & 0.06174386 &  0.0264381300 & -0.0101280688\\\\\n",
       "\tp53-Independent G1/S DNA damage checkpoint & -0.032610920 & 0.03658875 & 0.06174386 &  0.0264381300 & -0.0101280688\\\\\n",
       "\tGlycogen metabolism & -0.027173330 & 0.02633509 & 0.03723742 & -0.0048208110 &  0.0006233129\\\\\n",
       "\tGlycogen synthesis & -0.024831330 & 0.02373405 & 0.03640182 & -0.0006138539 &  0.0046425913\\\\\n",
       "\tUbiquitin-dependent degradation of Cyclin D & -0.011194100 & 0.04924370 & 0.05754941 &  0.0290021700 &  0.0105420627\\\\\n",
       "\tAutodegradation of the E3 ubiquitin ligase COP1 & -0.027356780 & 0.01079749 & 0.02983233 &  0.0141195500 & -0.0040595248\\\\\n",
       "\tRegulation of RUNX3 expression and activity & -0.004194837 & 0.05499696 & 0.05125034 &  0.0441457000 &  0.0304750818\\\\\n",
       "\\end{tabular}\n"
      ],
      "text/markdown": [
       "\n",
       "A data.frame: 18 × 5\n",
       "\n",
       "| <!--/--> | TCGA Lung &lt;dbl&gt; | TCGA Mel &lt;dbl&gt; | TCGA Ov &lt;dbl&gt; | TCGA Breast &lt;dbl&gt; | TCGA Lung SCC &lt;dbl&gt; |\n",
       "|---|---|---|---|---|---|\n",
       "| Cell death signalling via NRAGE, NRIF and NADE | -0.001296796 | 0.05968023 | 0.03358828 |  0.0259963000 |  0.0281564346 |\n",
       "| Signaling by NOTCH3 | -0.001212035 | 0.06161943 | 0.03648004 |  0.0533652200 |  0.0330781040 |\n",
       "| Cyclin D associated events in G1 | -0.003557852 | 0.04530787 | 0.02200890 |  0.0401993100 |  0.0213052037 |\n",
       "| G1 Phase | -0.003557852 | 0.04530787 | 0.02200890 |  0.0401993100 |  0.0213052037 |\n",
       "| PCP/CE pathway | -0.002164707 | 0.05532647 | 0.03880346 |  0.0352533500 |  0.0296437756 |\n",
       "| Downstream signaling events of B Cell Receptor (BCR) | -0.008275775 | 0.08316863 | 0.04522575 |  0.0446416900 |  0.0252323404 |\n",
       "| The role of GTSE1 in G2/M progression after G2 checkpoint | -0.013629120 | 0.02302665 | 0.02229051 |  0.0329598000 |  0.0016541485 |\n",
       "| Activation of NF-kappaB in B cells | -0.011877540 | 0.08030799 | 0.04409536 |  0.0437731900 |  0.0197654841 |\n",
       "| Regulation of activated PAK-2p34 by proteasome mediated degradation | -0.019122020 | 0.05577306 | 0.06578521 |  0.0268113600 |  0.0184071232 |\n",
       "| Regulation of Apoptosis | -0.021484110 | 0.05056385 | 0.06067136 |  0.0253505900 |  0.0147514891 |\n",
       "| Ubiquitin Mediated Degradation of Phosphorylated Cdc25A | -0.032610920 | 0.03658875 | 0.06174386 |  0.0264381300 | -0.0101280688 |\n",
       "| p53-Independent DNA Damage Response | -0.032610920 | 0.03658875 | 0.06174386 |  0.0264381300 | -0.0101280688 |\n",
       "| p53-Independent G1/S DNA damage checkpoint | -0.032610920 | 0.03658875 | 0.06174386 |  0.0264381300 | -0.0101280688 |\n",
       "| Glycogen metabolism | -0.027173330 | 0.02633509 | 0.03723742 | -0.0048208110 |  0.0006233129 |\n",
       "| Glycogen synthesis | -0.024831330 | 0.02373405 | 0.03640182 | -0.0006138539 |  0.0046425913 |\n",
       "| Ubiquitin-dependent degradation of Cyclin D | -0.011194100 | 0.04924370 | 0.05754941 |  0.0290021700 |  0.0105420627 |\n",
       "| Autodegradation of the E3 ubiquitin ligase COP1 | -0.027356780 | 0.01079749 | 0.02983233 |  0.0141195500 | -0.0040595248 |\n",
       "| Regulation of RUNX3 expression and activity | -0.004194837 | 0.05499696 | 0.05125034 |  0.0441457000 |  0.0304750818 |\n",
       "\n"
      ],
      "text/plain": [
       "                                                                    TCGA Lung   \n",
       "Cell death signalling via NRAGE, NRIF and NADE                      -0.001296796\n",
       "Signaling by NOTCH3                                                 -0.001212035\n",
       "Cyclin D associated events in G1                                    -0.003557852\n",
       "G1 Phase                                                            -0.003557852\n",
       "PCP/CE pathway                                                      -0.002164707\n",
       "Downstream signaling events of B Cell Receptor (BCR)                -0.008275775\n",
       "The role of GTSE1 in G2/M progression after G2 checkpoint           -0.013629120\n",
       "Activation of NF-kappaB in B cells                                  -0.011877540\n",
       "Regulation of activated PAK-2p34 by proteasome mediated degradation -0.019122020\n",
       "Regulation of Apoptosis                                             -0.021484110\n",
       "Ubiquitin Mediated Degradation of Phosphorylated Cdc25A             -0.032610920\n",
       "p53-Independent DNA Damage Response                                 -0.032610920\n",
       "p53-Independent G1/S DNA damage checkpoint                          -0.032610920\n",
       "Glycogen metabolism                                                 -0.027173330\n",
       "Glycogen synthesis                                                  -0.024831330\n",
       "Ubiquitin-dependent degradation of Cyclin D                         -0.011194100\n",
       "Autodegradation of the E3 ubiquitin ligase COP1                     -0.027356780\n",
       "Regulation of RUNX3 expression and activity                         -0.004194837\n",
       "                                                                    TCGA Mel  \n",
       "Cell death signalling via NRAGE, NRIF and NADE                      0.05968023\n",
       "Signaling by NOTCH3                                                 0.06161943\n",
       "Cyclin D associated events in G1                                    0.04530787\n",
       "G1 Phase                                                            0.04530787\n",
       "PCP/CE pathway                                                      0.05532647\n",
       "Downstream signaling events of B Cell Receptor (BCR)                0.08316863\n",
       "The role of GTSE1 in G2/M progression after G2 checkpoint           0.02302665\n",
       "Activation of NF-kappaB in B cells                                  0.08030799\n",
       "Regulation of activated PAK-2p34 by proteasome mediated degradation 0.05577306\n",
       "Regulation of Apoptosis                                             0.05056385\n",
       "Ubiquitin Mediated Degradation of Phosphorylated Cdc25A             0.03658875\n",
       "p53-Independent DNA Damage Response                                 0.03658875\n",
       "p53-Independent G1/S DNA damage checkpoint                          0.03658875\n",
       "Glycogen metabolism                                                 0.02633509\n",
       "Glycogen synthesis                                                  0.02373405\n",
       "Ubiquitin-dependent degradation of Cyclin D                         0.04924370\n",
       "Autodegradation of the E3 ubiquitin ligase COP1                     0.01079749\n",
       "Regulation of RUNX3 expression and activity                         0.05499696\n",
       "                                                                    TCGA Ov   \n",
       "Cell death signalling via NRAGE, NRIF and NADE                      0.03358828\n",
       "Signaling by NOTCH3                                                 0.03648004\n",
       "Cyclin D associated events in G1                                    0.02200890\n",
       "G1 Phase                                                            0.02200890\n",
       "PCP/CE pathway                                                      0.03880346\n",
       "Downstream signaling events of B Cell Receptor (BCR)                0.04522575\n",
       "The role of GTSE1 in G2/M progression after G2 checkpoint           0.02229051\n",
       "Activation of NF-kappaB in B cells                                  0.04409536\n",
       "Regulation of activated PAK-2p34 by proteasome mediated degradation 0.06578521\n",
       "Regulation of Apoptosis                                             0.06067136\n",
       "Ubiquitin Mediated Degradation of Phosphorylated Cdc25A             0.06174386\n",
       "p53-Independent DNA Damage Response                                 0.06174386\n",
       "p53-Independent G1/S DNA damage checkpoint                          0.06174386\n",
       "Glycogen metabolism                                                 0.03723742\n",
       "Glycogen synthesis                                                  0.03640182\n",
       "Ubiquitin-dependent degradation of Cyclin D                         0.05754941\n",
       "Autodegradation of the E3 ubiquitin ligase COP1                     0.02983233\n",
       "Regulation of RUNX3 expression and activity                         0.05125034\n",
       "                                                                    TCGA Breast  \n",
       "Cell death signalling via NRAGE, NRIF and NADE                       0.0259963000\n",
       "Signaling by NOTCH3                                                  0.0533652200\n",
       "Cyclin D associated events in G1                                     0.0401993100\n",
       "G1 Phase                                                             0.0401993100\n",
       "PCP/CE pathway                                                       0.0352533500\n",
       "Downstream signaling events of B Cell Receptor (BCR)                 0.0446416900\n",
       "The role of GTSE1 in G2/M progression after G2 checkpoint            0.0329598000\n",
       "Activation of NF-kappaB in B cells                                   0.0437731900\n",
       "Regulation of activated PAK-2p34 by proteasome mediated degradation  0.0268113600\n",
       "Regulation of Apoptosis                                              0.0253505900\n",
       "Ubiquitin Mediated Degradation of Phosphorylated Cdc25A              0.0264381300\n",
       "p53-Independent DNA Damage Response                                  0.0264381300\n",
       "p53-Independent G1/S DNA damage checkpoint                           0.0264381300\n",
       "Glycogen metabolism                                                 -0.0048208110\n",
       "Glycogen synthesis                                                  -0.0006138539\n",
       "Ubiquitin-dependent degradation of Cyclin D                          0.0290021700\n",
       "Autodegradation of the E3 ubiquitin ligase COP1                      0.0141195500\n",
       "Regulation of RUNX3 expression and activity                          0.0441457000\n",
       "                                                                    TCGA Lung SCC\n",
       "Cell death signalling via NRAGE, NRIF and NADE                       0.0281564346\n",
       "Signaling by NOTCH3                                                  0.0330781040\n",
       "Cyclin D associated events in G1                                     0.0213052037\n",
       "G1 Phase                                                             0.0213052037\n",
       "PCP/CE pathway                                                       0.0296437756\n",
       "Downstream signaling events of B Cell Receptor (BCR)                 0.0252323404\n",
       "The role of GTSE1 in G2/M progression after G2 checkpoint            0.0016541485\n",
       "Activation of NF-kappaB in B cells                                   0.0197654841\n",
       "Regulation of activated PAK-2p34 by proteasome mediated degradation  0.0184071232\n",
       "Regulation of Apoptosis                                              0.0147514891\n",
       "Ubiquitin Mediated Degradation of Phosphorylated Cdc25A             -0.0101280688\n",
       "p53-Independent DNA Damage Response                                 -0.0101280688\n",
       "p53-Independent G1/S DNA damage checkpoint                          -0.0101280688\n",
       "Glycogen metabolism                                                  0.0006233129\n",
       "Glycogen synthesis                                                   0.0046425913\n",
       "Ubiquitin-dependent degradation of Cyclin D                          0.0105420627\n",
       "Autodegradation of the E3 ubiquitin ligase COP1                     -0.0040595248\n",
       "Regulation of RUNX3 expression and activity                          0.0304750818"
      ]
     },
     "metadata": {},
     "output_type": "display_data"
    }
   ],
   "source": [
    "pathway_fc"
   ]
  },
  {
   "cell_type": "code",
   "execution_count": 320,
   "metadata": {},
   "outputs": [
    {
     "data": {
      "text/html": [
       "<table>\n",
       "<caption>A data.frame: 245 × 6</caption>\n",
       "<thead>\n",
       "\t<tr><th></th><th scope=col>Name</th><th scope=col>FDR.TCGA Lung</th><th scope=col>FDR.TCGA Mel</th><th scope=col>FDR.TCGA Ov</th><th scope=col>FDR.TCGA Breast</th><th scope=col>FDR.TCGA Lung SCC</th></tr>\n",
       "\t<tr><th></th><th scope=col>&lt;chr&gt;</th><th scope=col>&lt;dbl&gt;</th><th scope=col>&lt;dbl&gt;</th><th scope=col>&lt;dbl&gt;</th><th scope=col>&lt;dbl&gt;</th><th scope=col>&lt;dbl&gt;</th></tr>\n",
       "</thead>\n",
       "<tbody>\n",
       "\t<tr><th scope=row>R-HSA-1280218</th><td>Adaptive Immune System                                                            </td><td>1e-05</td><td>1e-05</td><td>1e-05</td><td>0.00100</td><td>0.00100</td></tr>\n",
       "\t<tr><th scope=row>R-HSA-198933</th><td>Immunoregulatory interactions between a Lymphoid and a non-Lymphoid cell          </td><td>1e-05</td><td>1e-05</td><td>1e-05</td><td>0.00001</td><td>0.00001</td></tr>\n",
       "\t<tr><th scope=row>R-HSA-202733</th><td>Cell surface interactions at the vascular wall                                    </td><td>1e-05</td><td>1e-05</td><td>1e-05</td><td>0.00001</td><td>0.00001</td></tr>\n",
       "\t<tr><th scope=row>R-HSA-2029480</th><td>Fcgamma receptor (FCGR) dependent phagocytosis                                    </td><td>1e-05</td><td>1e-05</td><td>1e-05</td><td>0.00001</td><td>0.00001</td></tr>\n",
       "\t<tr><th scope=row>R-HSA-2029482</th><td>Regulation of actin dynamics for phagocytic cup formation                         </td><td>1e-05</td><td>1e-05</td><td>1e-05</td><td>0.00001</td><td>0.00200</td></tr>\n",
       "\t<tr><th scope=row>R-HSA-2029485</th><td>Role of phospholipids in phagocytosis                                             </td><td>1e-05</td><td>1e-05</td><td>1e-05</td><td>0.00001</td><td>0.00100</td></tr>\n",
       "\t<tr><th scope=row>R-HSA-2871809</th><td>FCERI mediated Ca+2 mobilization                                                  </td><td>1e-05</td><td>1e-05</td><td>1e-05</td><td>0.00001</td><td>0.00001</td></tr>\n",
       "\t<tr><th scope=row>R-HSA-983695</th><td>Antigen activates B Cell Receptor (BCR) leading to generation of second messengers</td><td>1e-05</td><td>1e-05</td><td>1e-05</td><td>0.00001</td><td>0.00001</td></tr>\n",
       "\t<tr><th scope=row>R-HSA-109582</th><td>Hemostasis                                                                        </td><td>1e-05</td><td>1e-05</td><td>1e-05</td><td>0.00100</td><td>0.00001</td></tr>\n",
       "\t<tr><th scope=row>R-HSA-2029481</th><td>FCGR activation                                                                   </td><td>1e-05</td><td>1e-05</td><td>1e-05</td><td>0.00001</td><td>0.00100</td></tr>\n",
       "\t<tr><th scope=row>R-HSA-2871796</th><td>FCERI mediated MAPK activation                                                    </td><td>1e-05</td><td>1e-05</td><td>1e-05</td><td>0.00001</td><td>0.00001</td></tr>\n",
       "\t<tr><th scope=row>R-HSA-983705</th><td>Signaling by the B Cell Receptor (BCR)                                            </td><td>1e-05</td><td>1e-05</td><td>1e-05</td><td>0.00001</td><td>0.00001</td></tr>\n",
       "\t<tr><th scope=row>R-HSA-2454202</th><td>Fc epsilon receptor (FCERI) signaling                                             </td><td>1e-05</td><td>1e-05</td><td>1e-05</td><td>0.00001</td><td>0.00001</td></tr>\n",
       "\t<tr><th scope=row>R-HSA-2730905</th><td>Role of LAT2/NTAL/LAB on calcium mobilization                                     </td><td>1e-05</td><td>1e-05</td><td>1e-05</td><td>0.00001</td><td>0.00001</td></tr>\n",
       "\t<tr><th scope=row>R-HSA-168256</th><td>Immune System                                                                     </td><td>4e-03</td><td>6e-03</td><td>1e-03</td><td>0.02000</td><td>0.00700</td></tr>\n",
       "\t<tr><th scope=row>R-HSA-5690714</th><td>CD22 mediated BCR regulation                                                      </td><td>1e-03</td><td>1e-03</td><td>1e-05</td><td>0.00001</td><td>0.00700</td></tr>\n",
       "\t<tr><th scope=row>R-HSA-168249</th><td>Innate Immune System                                                              </td><td>2e-03</td><td>1e-03</td><td>1e-03</td><td>0.01100</td><td>0.00100</td></tr>\n",
       "\t<tr><th scope=row>R-HSA-166658</th><td>Complement cascade                                                                </td><td>1e-03</td><td>2e-03</td><td>1e-05</td><td>0.00100</td><td>0.00500</td></tr>\n",
       "\t<tr><th scope=row>R-HSA-114604</th><td>GPVI-mediated activation cascade                                                  </td><td>1e-05</td><td>1e-05</td><td>1e-05</td><td>0.00001</td><td>0.00100</td></tr>\n",
       "\t<tr><th scope=row>R-HSA-977606</th><td>Regulation of Complement cascade                                                  </td><td>1e-03</td><td>2e-03</td><td>1e-05</td><td>0.00100</td><td>0.00400</td></tr>\n",
       "\t<tr><th scope=row>R-HSA-202433</th><td>Generation of second messenger molecules                                          </td><td>1e-05</td><td>1e-05</td><td>1e-03</td><td>0.00200</td><td>0.00200</td></tr>\n",
       "\t<tr><th scope=row>R-HSA-166663</th><td>Initial triggering of complement                                                  </td><td>1e-03</td><td>3e-03</td><td>1e-05</td><td>0.00200</td><td>0.01100</td></tr>\n",
       "\t<tr><th scope=row>R-HSA-166786</th><td>Creation of C4 and C2 activators                                                  </td><td>2e-03</td><td>4e-03</td><td>1e-05</td><td>0.00400</td><td>0.01700</td></tr>\n",
       "\t<tr><th scope=row>R-HSA-2172127</th><td>DAP12 interactions                                                                </td><td>2e-03</td><td>1e-05</td><td>1e-05</td><td>0.00100</td><td>0.00100</td></tr>\n",
       "\t<tr><th scope=row>R-HSA-389513</th><td>CTLA4 inhibitory signaling                                                        </td><td>1e-05</td><td>1e-05</td><td>1e-05</td><td>0.00001</td><td>0.00100</td></tr>\n",
       "\t<tr><th scope=row>R-HSA-173623</th><td>Classical antibody-mediated complement activation                                 </td><td>1e-03</td><td>5e-03</td><td>1e-05</td><td>0.00300</td><td>0.01500</td></tr>\n",
       "\t<tr><th scope=row>R-HSA-2424491</th><td>DAP12 signaling                                                                   </td><td>1e-03</td><td>1e-05</td><td>1e-05</td><td>0.00200</td><td>0.00100</td></tr>\n",
       "\t<tr><th scope=row>R-HSA-389948</th><td>PD-1 signaling                                                                    </td><td>3e-03</td><td>1e-05</td><td>1e-05</td><td>0.00200</td><td>0.00200</td></tr>\n",
       "\t<tr><th scope=row>R-HSA-9020558</th><td>Interleukin-2 signaling                                                           </td><td>1e-03</td><td>1e-05</td><td>1e-05</td><td>0.00001</td><td>0.00200</td></tr>\n",
       "\t<tr><th scope=row>R-HSA-1433557</th><td>Signaling by SCF-KIT                                                              </td><td>2e-03</td><td>1e-05</td><td>1e-03</td><td>0.00100</td><td>0.00100</td></tr>\n",
       "\t<tr><th scope=row>⋮</th><td>⋮</td><td>⋮</td><td>⋮</td><td>⋮</td><td>⋮</td><td>⋮</td></tr>\n",
       "\t<tr><th scope=row>R-HSA-975110</th><td>TRAF6 mediated IRF7 activation in TLR7/8 or 9 signaling                             </td><td>0.029</td><td>0.004</td><td>0.030</td><td>0.025</td><td>0.022</td></tr>\n",
       "\t<tr><th scope=row>R-HSA-69231</th><td>Cyclin D associated events in G1                                                    </td><td>0.071</td><td>0.021</td><td>0.072</td><td>0.046</td><td>0.178</td></tr>\n",
       "\t<tr><th scope=row>R-HSA-69236</th><td>G1 Phase                                                                            </td><td>0.071</td><td>0.021</td><td>0.072</td><td>0.046</td><td>0.178</td></tr>\n",
       "\t<tr><th scope=row>R-HSA-4086400</th><td>PCP/CE pathway                                                                      </td><td>0.056</td><td>0.024</td><td>0.159</td><td>0.115</td><td>0.046</td></tr>\n",
       "\t<tr><th scope=row>R-HSA-450321</th><td>JNK (c-Jun kinases) phosphorylation and  activation mediated by activated human TAK1</td><td>0.025</td><td>0.016</td><td>0.038</td><td>0.016</td><td>0.085</td></tr>\n",
       "\t<tr><th scope=row>R-HSA-937039</th><td>IRAK1 recruits IKK complex                                                          </td><td>0.021</td><td>0.008</td><td>0.029</td><td>0.022</td><td>0.033</td></tr>\n",
       "\t<tr><th scope=row>R-HSA-975144</th><td>IRAK1 recruits IKK complex upon TLR7/8 or 9 stimulation                             </td><td>0.021</td><td>0.008</td><td>0.029</td><td>0.022</td><td>0.033</td></tr>\n",
       "\t<tr><th scope=row>R-HSA-168638</th><td>NOD1/2 Signaling Pathway                                                            </td><td>0.085</td><td>0.015</td><td>0.034</td><td>0.052</td><td>0.184</td></tr>\n",
       "\t<tr><th scope=row>R-HSA-1168372</th><td>Downstream signaling events of B Cell Receptor (BCR)                                </td><td>0.068</td><td>0.023</td><td>0.099</td><td>0.062</td><td>0.038</td></tr>\n",
       "\t<tr><th scope=row>R-HSA-8852276</th><td>The role of GTSE1 in G2/M progression after G2 checkpoint                           </td><td>0.088</td><td>0.089</td><td>0.110</td><td>0.125</td><td>0.079</td></tr>\n",
       "\t<tr><th scope=row>R-HSA-9013973</th><td>TICAM1-dependent activation of IRF3/IRF7                                            </td><td>0.032</td><td>0.010</td><td>0.021</td><td>0.055</td><td>0.058</td></tr>\n",
       "\t<tr><th scope=row>R-HSA-937072</th><td>TRAF6-mediated induction of TAK1 complex within TLR4 complex                        </td><td>0.014</td><td>0.003</td><td>0.011</td><td>0.006</td><td>0.038</td></tr>\n",
       "\t<tr><th scope=row>R-HSA-975163</th><td>IRAK2 mediated activation of TAK1 complex upon TLR7/8 or 9 stimulation              </td><td>0.014</td><td>0.003</td><td>0.011</td><td>0.006</td><td>0.038</td></tr>\n",
       "\t<tr><th scope=row>R-HSA-1169091</th><td>Activation of NF-kappaB in B cells                                                  </td><td>0.080</td><td>0.014</td><td>0.083</td><td>0.051</td><td>0.055</td></tr>\n",
       "\t<tr><th scope=row>R-HSA-1980145</th><td>Signaling by NOTCH2                                                                 </td><td>0.094</td><td>0.056</td><td>0.048</td><td>0.013</td><td>0.121</td></tr>\n",
       "\t<tr><th scope=row>R-HSA-211733</th><td>Regulation of activated PAK-2p34 by proteasome mediated degradation                 </td><td>0.064</td><td>0.009</td><td>0.016</td><td>0.071</td><td>0.029</td></tr>\n",
       "\t<tr><th scope=row>R-HSA-937042</th><td>IRAK2 mediated activation of TAK1 complex                                           </td><td>0.017</td><td>0.003</td><td>0.028</td><td>0.010</td><td>0.065</td></tr>\n",
       "\t<tr><th scope=row>R-HSA-450302</th><td>activated TAK1 mediates p38 MAPK activation                                         </td><td>0.064</td><td>0.037</td><td>0.067</td><td>0.042</td><td>0.170</td></tr>\n",
       "\t<tr><th scope=row>R-HSA-9014325</th><td>TICAM1,TRAF6-dependent induction of TAK1 complex                                    </td><td>0.019</td><td>0.005</td><td>0.019</td><td>0.013</td><td>0.047</td></tr>\n",
       "\t<tr><th scope=row>R-HSA-4641263</th><td>Regulation of FZD by ubiquitination                                                 </td><td>0.039</td><td>0.005</td><td>0.029</td><td>0.063</td><td>0.041</td></tr>\n",
       "\t<tr><th scope=row>R-HSA-9645460</th><td>Alpha-protein kinase 1 signaling pathway                                            </td><td>0.014</td><td>0.002</td><td>0.016</td><td>0.013</td><td>0.038</td></tr>\n",
       "\t<tr><th scope=row>R-HSA-169911</th><td>Regulation of Apoptosis                                                             </td><td>0.075</td><td>0.013</td><td>0.025</td><td>0.076</td><td>0.028</td></tr>\n",
       "\t<tr><th scope=row>R-HSA-69601</th><td>Ubiquitin Mediated Degradation of Phosphorylated Cdc25A                             </td><td>0.065</td><td>0.019</td><td>0.042</td><td>0.073</td><td>0.046</td></tr>\n",
       "\t<tr><th scope=row>R-HSA-69610</th><td>p53-Independent DNA Damage Response                                                 </td><td>0.065</td><td>0.019</td><td>0.042</td><td>0.073</td><td>0.046</td></tr>\n",
       "\t<tr><th scope=row>R-HSA-69613</th><td>p53-Independent G1/S DNA damage checkpoint                                          </td><td>0.065</td><td>0.019</td><td>0.042</td><td>0.073</td><td>0.046</td></tr>\n",
       "\t<tr><th scope=row>R-HSA-8982491</th><td>Glycogen metabolism                                                                 </td><td>0.064</td><td>0.051</td><td>0.071</td><td>0.066</td><td>0.117</td></tr>\n",
       "\t<tr><th scope=row>R-HSA-3322077</th><td>Glycogen synthesis                                                                  </td><td>0.050</td><td>0.022</td><td>0.022</td><td>0.040</td><td>0.095</td></tr>\n",
       "\t<tr><th scope=row>R-HSA-75815</th><td>Ubiquitin-dependent degradation of Cyclin D                                         </td><td>0.072</td><td>0.018</td><td>0.027</td><td>0.035</td><td>0.071</td></tr>\n",
       "\t<tr><th scope=row>R-HSA-349425</th><td>Autodegradation of the E3 ubiquitin ligase COP1                                     </td><td>0.051</td><td>0.071</td><td>0.048</td><td>0.155</td><td>0.069</td></tr>\n",
       "\t<tr><th scope=row>R-HSA-8941858</th><td>Regulation of RUNX3 expression and activity                                         </td><td>0.086</td><td>0.012</td><td>0.006</td><td>0.037</td><td>0.018</td></tr>\n",
       "</tbody>\n",
       "</table>\n"
      ],
      "text/latex": [
       "A data.frame: 245 × 6\n",
       "\\begin{tabular}{r|llllll}\n",
       "  & Name & FDR.TCGA Lung & FDR.TCGA Mel & FDR.TCGA Ov & FDR.TCGA Breast & FDR.TCGA Lung SCC\\\\\n",
       "  & <chr> & <dbl> & <dbl> & <dbl> & <dbl> & <dbl>\\\\\n",
       "\\hline\n",
       "\tR-HSA-1280218 & Adaptive Immune System                                                             & 1e-05 & 1e-05 & 1e-05 & 0.00100 & 0.00100\\\\\n",
       "\tR-HSA-198933 & Immunoregulatory interactions between a Lymphoid and a non-Lymphoid cell           & 1e-05 & 1e-05 & 1e-05 & 0.00001 & 0.00001\\\\\n",
       "\tR-HSA-202733 & Cell surface interactions at the vascular wall                                     & 1e-05 & 1e-05 & 1e-05 & 0.00001 & 0.00001\\\\\n",
       "\tR-HSA-2029480 & Fcgamma receptor (FCGR) dependent phagocytosis                                     & 1e-05 & 1e-05 & 1e-05 & 0.00001 & 0.00001\\\\\n",
       "\tR-HSA-2029482 & Regulation of actin dynamics for phagocytic cup formation                          & 1e-05 & 1e-05 & 1e-05 & 0.00001 & 0.00200\\\\\n",
       "\tR-HSA-2029485 & Role of phospholipids in phagocytosis                                              & 1e-05 & 1e-05 & 1e-05 & 0.00001 & 0.00100\\\\\n",
       "\tR-HSA-2871809 & FCERI mediated Ca+2 mobilization                                                   & 1e-05 & 1e-05 & 1e-05 & 0.00001 & 0.00001\\\\\n",
       "\tR-HSA-983695 & Antigen activates B Cell Receptor (BCR) leading to generation of second messengers & 1e-05 & 1e-05 & 1e-05 & 0.00001 & 0.00001\\\\\n",
       "\tR-HSA-109582 & Hemostasis                                                                         & 1e-05 & 1e-05 & 1e-05 & 0.00100 & 0.00001\\\\\n",
       "\tR-HSA-2029481 & FCGR activation                                                                    & 1e-05 & 1e-05 & 1e-05 & 0.00001 & 0.00100\\\\\n",
       "\tR-HSA-2871796 & FCERI mediated MAPK activation                                                     & 1e-05 & 1e-05 & 1e-05 & 0.00001 & 0.00001\\\\\n",
       "\tR-HSA-983705 & Signaling by the B Cell Receptor (BCR)                                             & 1e-05 & 1e-05 & 1e-05 & 0.00001 & 0.00001\\\\\n",
       "\tR-HSA-2454202 & Fc epsilon receptor (FCERI) signaling                                              & 1e-05 & 1e-05 & 1e-05 & 0.00001 & 0.00001\\\\\n",
       "\tR-HSA-2730905 & Role of LAT2/NTAL/LAB on calcium mobilization                                      & 1e-05 & 1e-05 & 1e-05 & 0.00001 & 0.00001\\\\\n",
       "\tR-HSA-168256 & Immune System                                                                      & 4e-03 & 6e-03 & 1e-03 & 0.02000 & 0.00700\\\\\n",
       "\tR-HSA-5690714 & CD22 mediated BCR regulation                                                       & 1e-03 & 1e-03 & 1e-05 & 0.00001 & 0.00700\\\\\n",
       "\tR-HSA-168249 & Innate Immune System                                                               & 2e-03 & 1e-03 & 1e-03 & 0.01100 & 0.00100\\\\\n",
       "\tR-HSA-166658 & Complement cascade                                                                 & 1e-03 & 2e-03 & 1e-05 & 0.00100 & 0.00500\\\\\n",
       "\tR-HSA-114604 & GPVI-mediated activation cascade                                                   & 1e-05 & 1e-05 & 1e-05 & 0.00001 & 0.00100\\\\\n",
       "\tR-HSA-977606 & Regulation of Complement cascade                                                   & 1e-03 & 2e-03 & 1e-05 & 0.00100 & 0.00400\\\\\n",
       "\tR-HSA-202433 & Generation of second messenger molecules                                           & 1e-05 & 1e-05 & 1e-03 & 0.00200 & 0.00200\\\\\n",
       "\tR-HSA-166663 & Initial triggering of complement                                                   & 1e-03 & 3e-03 & 1e-05 & 0.00200 & 0.01100\\\\\n",
       "\tR-HSA-166786 & Creation of C4 and C2 activators                                                   & 2e-03 & 4e-03 & 1e-05 & 0.00400 & 0.01700\\\\\n",
       "\tR-HSA-2172127 & DAP12 interactions                                                                 & 2e-03 & 1e-05 & 1e-05 & 0.00100 & 0.00100\\\\\n",
       "\tR-HSA-389513 & CTLA4 inhibitory signaling                                                         & 1e-05 & 1e-05 & 1e-05 & 0.00001 & 0.00100\\\\\n",
       "\tR-HSA-173623 & Classical antibody-mediated complement activation                                  & 1e-03 & 5e-03 & 1e-05 & 0.00300 & 0.01500\\\\\n",
       "\tR-HSA-2424491 & DAP12 signaling                                                                    & 1e-03 & 1e-05 & 1e-05 & 0.00200 & 0.00100\\\\\n",
       "\tR-HSA-389948 & PD-1 signaling                                                                     & 3e-03 & 1e-05 & 1e-05 & 0.00200 & 0.00200\\\\\n",
       "\tR-HSA-9020558 & Interleukin-2 signaling                                                            & 1e-03 & 1e-05 & 1e-05 & 0.00001 & 0.00200\\\\\n",
       "\tR-HSA-1433557 & Signaling by SCF-KIT                                                               & 2e-03 & 1e-05 & 1e-03 & 0.00100 & 0.00100\\\\\n",
       "\t⋮ & ⋮ & ⋮ & ⋮ & ⋮ & ⋮ & ⋮\\\\\n",
       "\tR-HSA-975110 & TRAF6 mediated IRF7 activation in TLR7/8 or 9 signaling                              & 0.029 & 0.004 & 0.030 & 0.025 & 0.022\\\\\n",
       "\tR-HSA-69231 & Cyclin D associated events in G1                                                     & 0.071 & 0.021 & 0.072 & 0.046 & 0.178\\\\\n",
       "\tR-HSA-69236 & G1 Phase                                                                             & 0.071 & 0.021 & 0.072 & 0.046 & 0.178\\\\\n",
       "\tR-HSA-4086400 & PCP/CE pathway                                                                       & 0.056 & 0.024 & 0.159 & 0.115 & 0.046\\\\\n",
       "\tR-HSA-450321 & JNK (c-Jun kinases) phosphorylation and  activation mediated by activated human TAK1 & 0.025 & 0.016 & 0.038 & 0.016 & 0.085\\\\\n",
       "\tR-HSA-937039 & IRAK1 recruits IKK complex                                                           & 0.021 & 0.008 & 0.029 & 0.022 & 0.033\\\\\n",
       "\tR-HSA-975144 & IRAK1 recruits IKK complex upon TLR7/8 or 9 stimulation                              & 0.021 & 0.008 & 0.029 & 0.022 & 0.033\\\\\n",
       "\tR-HSA-168638 & NOD1/2 Signaling Pathway                                                             & 0.085 & 0.015 & 0.034 & 0.052 & 0.184\\\\\n",
       "\tR-HSA-1168372 & Downstream signaling events of B Cell Receptor (BCR)                                 & 0.068 & 0.023 & 0.099 & 0.062 & 0.038\\\\\n",
       "\tR-HSA-8852276 & The role of GTSE1 in G2/M progression after G2 checkpoint                            & 0.088 & 0.089 & 0.110 & 0.125 & 0.079\\\\\n",
       "\tR-HSA-9013973 & TICAM1-dependent activation of IRF3/IRF7                                             & 0.032 & 0.010 & 0.021 & 0.055 & 0.058\\\\\n",
       "\tR-HSA-937072 & TRAF6-mediated induction of TAK1 complex within TLR4 complex                         & 0.014 & 0.003 & 0.011 & 0.006 & 0.038\\\\\n",
       "\tR-HSA-975163 & IRAK2 mediated activation of TAK1 complex upon TLR7/8 or 9 stimulation               & 0.014 & 0.003 & 0.011 & 0.006 & 0.038\\\\\n",
       "\tR-HSA-1169091 & Activation of NF-kappaB in B cells                                                   & 0.080 & 0.014 & 0.083 & 0.051 & 0.055\\\\\n",
       "\tR-HSA-1980145 & Signaling by NOTCH2                                                                  & 0.094 & 0.056 & 0.048 & 0.013 & 0.121\\\\\n",
       "\tR-HSA-211733 & Regulation of activated PAK-2p34 by proteasome mediated degradation                  & 0.064 & 0.009 & 0.016 & 0.071 & 0.029\\\\\n",
       "\tR-HSA-937042 & IRAK2 mediated activation of TAK1 complex                                            & 0.017 & 0.003 & 0.028 & 0.010 & 0.065\\\\\n",
       "\tR-HSA-450302 & activated TAK1 mediates p38 MAPK activation                                          & 0.064 & 0.037 & 0.067 & 0.042 & 0.170\\\\\n",
       "\tR-HSA-9014325 & TICAM1,TRAF6-dependent induction of TAK1 complex                                     & 0.019 & 0.005 & 0.019 & 0.013 & 0.047\\\\\n",
       "\tR-HSA-4641263 & Regulation of FZD by ubiquitination                                                  & 0.039 & 0.005 & 0.029 & 0.063 & 0.041\\\\\n",
       "\tR-HSA-9645460 & Alpha-protein kinase 1 signaling pathway                                             & 0.014 & 0.002 & 0.016 & 0.013 & 0.038\\\\\n",
       "\tR-HSA-169911 & Regulation of Apoptosis                                                              & 0.075 & 0.013 & 0.025 & 0.076 & 0.028\\\\\n",
       "\tR-HSA-69601 & Ubiquitin Mediated Degradation of Phosphorylated Cdc25A                              & 0.065 & 0.019 & 0.042 & 0.073 & 0.046\\\\\n",
       "\tR-HSA-69610 & p53-Independent DNA Damage Response                                                  & 0.065 & 0.019 & 0.042 & 0.073 & 0.046\\\\\n",
       "\tR-HSA-69613 & p53-Independent G1/S DNA damage checkpoint                                           & 0.065 & 0.019 & 0.042 & 0.073 & 0.046\\\\\n",
       "\tR-HSA-8982491 & Glycogen metabolism                                                                  & 0.064 & 0.051 & 0.071 & 0.066 & 0.117\\\\\n",
       "\tR-HSA-3322077 & Glycogen synthesis                                                                   & 0.050 & 0.022 & 0.022 & 0.040 & 0.095\\\\\n",
       "\tR-HSA-75815 & Ubiquitin-dependent degradation of Cyclin D                                          & 0.072 & 0.018 & 0.027 & 0.035 & 0.071\\\\\n",
       "\tR-HSA-349425 & Autodegradation of the E3 ubiquitin ligase COP1                                      & 0.051 & 0.071 & 0.048 & 0.155 & 0.069\\\\\n",
       "\tR-HSA-8941858 & Regulation of RUNX3 expression and activity                                          & 0.086 & 0.012 & 0.006 & 0.037 & 0.018\\\\\n",
       "\\end{tabular}\n"
      ],
      "text/markdown": [
       "\n",
       "A data.frame: 245 × 6\n",
       "\n",
       "| <!--/--> | Name &lt;chr&gt; | FDR.TCGA Lung &lt;dbl&gt; | FDR.TCGA Mel &lt;dbl&gt; | FDR.TCGA Ov &lt;dbl&gt; | FDR.TCGA Breast &lt;dbl&gt; | FDR.TCGA Lung SCC &lt;dbl&gt; |\n",
       "|---|---|---|---|---|---|---|\n",
       "| R-HSA-1280218 | Adaptive Immune System                                                             | 1e-05 | 1e-05 | 1e-05 | 0.00100 | 0.00100 |\n",
       "| R-HSA-198933 | Immunoregulatory interactions between a Lymphoid and a non-Lymphoid cell           | 1e-05 | 1e-05 | 1e-05 | 0.00001 | 0.00001 |\n",
       "| R-HSA-202733 | Cell surface interactions at the vascular wall                                     | 1e-05 | 1e-05 | 1e-05 | 0.00001 | 0.00001 |\n",
       "| R-HSA-2029480 | Fcgamma receptor (FCGR) dependent phagocytosis                                     | 1e-05 | 1e-05 | 1e-05 | 0.00001 | 0.00001 |\n",
       "| R-HSA-2029482 | Regulation of actin dynamics for phagocytic cup formation                          | 1e-05 | 1e-05 | 1e-05 | 0.00001 | 0.00200 |\n",
       "| R-HSA-2029485 | Role of phospholipids in phagocytosis                                              | 1e-05 | 1e-05 | 1e-05 | 0.00001 | 0.00100 |\n",
       "| R-HSA-2871809 | FCERI mediated Ca+2 mobilization                                                   | 1e-05 | 1e-05 | 1e-05 | 0.00001 | 0.00001 |\n",
       "| R-HSA-983695 | Antigen activates B Cell Receptor (BCR) leading to generation of second messengers | 1e-05 | 1e-05 | 1e-05 | 0.00001 | 0.00001 |\n",
       "| R-HSA-109582 | Hemostasis                                                                         | 1e-05 | 1e-05 | 1e-05 | 0.00100 | 0.00001 |\n",
       "| R-HSA-2029481 | FCGR activation                                                                    | 1e-05 | 1e-05 | 1e-05 | 0.00001 | 0.00100 |\n",
       "| R-HSA-2871796 | FCERI mediated MAPK activation                                                     | 1e-05 | 1e-05 | 1e-05 | 0.00001 | 0.00001 |\n",
       "| R-HSA-983705 | Signaling by the B Cell Receptor (BCR)                                             | 1e-05 | 1e-05 | 1e-05 | 0.00001 | 0.00001 |\n",
       "| R-HSA-2454202 | Fc epsilon receptor (FCERI) signaling                                              | 1e-05 | 1e-05 | 1e-05 | 0.00001 | 0.00001 |\n",
       "| R-HSA-2730905 | Role of LAT2/NTAL/LAB on calcium mobilization                                      | 1e-05 | 1e-05 | 1e-05 | 0.00001 | 0.00001 |\n",
       "| R-HSA-168256 | Immune System                                                                      | 4e-03 | 6e-03 | 1e-03 | 0.02000 | 0.00700 |\n",
       "| R-HSA-5690714 | CD22 mediated BCR regulation                                                       | 1e-03 | 1e-03 | 1e-05 | 0.00001 | 0.00700 |\n",
       "| R-HSA-168249 | Innate Immune System                                                               | 2e-03 | 1e-03 | 1e-03 | 0.01100 | 0.00100 |\n",
       "| R-HSA-166658 | Complement cascade                                                                 | 1e-03 | 2e-03 | 1e-05 | 0.00100 | 0.00500 |\n",
       "| R-HSA-114604 | GPVI-mediated activation cascade                                                   | 1e-05 | 1e-05 | 1e-05 | 0.00001 | 0.00100 |\n",
       "| R-HSA-977606 | Regulation of Complement cascade                                                   | 1e-03 | 2e-03 | 1e-05 | 0.00100 | 0.00400 |\n",
       "| R-HSA-202433 | Generation of second messenger molecules                                           | 1e-05 | 1e-05 | 1e-03 | 0.00200 | 0.00200 |\n",
       "| R-HSA-166663 | Initial triggering of complement                                                   | 1e-03 | 3e-03 | 1e-05 | 0.00200 | 0.01100 |\n",
       "| R-HSA-166786 | Creation of C4 and C2 activators                                                   | 2e-03 | 4e-03 | 1e-05 | 0.00400 | 0.01700 |\n",
       "| R-HSA-2172127 | DAP12 interactions                                                                 | 2e-03 | 1e-05 | 1e-05 | 0.00100 | 0.00100 |\n",
       "| R-HSA-389513 | CTLA4 inhibitory signaling                                                         | 1e-05 | 1e-05 | 1e-05 | 0.00001 | 0.00100 |\n",
       "| R-HSA-173623 | Classical antibody-mediated complement activation                                  | 1e-03 | 5e-03 | 1e-05 | 0.00300 | 0.01500 |\n",
       "| R-HSA-2424491 | DAP12 signaling                                                                    | 1e-03 | 1e-05 | 1e-05 | 0.00200 | 0.00100 |\n",
       "| R-HSA-389948 | PD-1 signaling                                                                     | 3e-03 | 1e-05 | 1e-05 | 0.00200 | 0.00200 |\n",
       "| R-HSA-9020558 | Interleukin-2 signaling                                                            | 1e-03 | 1e-05 | 1e-05 | 0.00001 | 0.00200 |\n",
       "| R-HSA-1433557 | Signaling by SCF-KIT                                                               | 2e-03 | 1e-05 | 1e-03 | 0.00100 | 0.00100 |\n",
       "| ⋮ | ⋮ | ⋮ | ⋮ | ⋮ | ⋮ | ⋮ |\n",
       "| R-HSA-975110 | TRAF6 mediated IRF7 activation in TLR7/8 or 9 signaling                              | 0.029 | 0.004 | 0.030 | 0.025 | 0.022 |\n",
       "| R-HSA-69231 | Cyclin D associated events in G1                                                     | 0.071 | 0.021 | 0.072 | 0.046 | 0.178 |\n",
       "| R-HSA-69236 | G1 Phase                                                                             | 0.071 | 0.021 | 0.072 | 0.046 | 0.178 |\n",
       "| R-HSA-4086400 | PCP/CE pathway                                                                       | 0.056 | 0.024 | 0.159 | 0.115 | 0.046 |\n",
       "| R-HSA-450321 | JNK (c-Jun kinases) phosphorylation and  activation mediated by activated human TAK1 | 0.025 | 0.016 | 0.038 | 0.016 | 0.085 |\n",
       "| R-HSA-937039 | IRAK1 recruits IKK complex                                                           | 0.021 | 0.008 | 0.029 | 0.022 | 0.033 |\n",
       "| R-HSA-975144 | IRAK1 recruits IKK complex upon TLR7/8 or 9 stimulation                              | 0.021 | 0.008 | 0.029 | 0.022 | 0.033 |\n",
       "| R-HSA-168638 | NOD1/2 Signaling Pathway                                                             | 0.085 | 0.015 | 0.034 | 0.052 | 0.184 |\n",
       "| R-HSA-1168372 | Downstream signaling events of B Cell Receptor (BCR)                                 | 0.068 | 0.023 | 0.099 | 0.062 | 0.038 |\n",
       "| R-HSA-8852276 | The role of GTSE1 in G2/M progression after G2 checkpoint                            | 0.088 | 0.089 | 0.110 | 0.125 | 0.079 |\n",
       "| R-HSA-9013973 | TICAM1-dependent activation of IRF3/IRF7                                             | 0.032 | 0.010 | 0.021 | 0.055 | 0.058 |\n",
       "| R-HSA-937072 | TRAF6-mediated induction of TAK1 complex within TLR4 complex                         | 0.014 | 0.003 | 0.011 | 0.006 | 0.038 |\n",
       "| R-HSA-975163 | IRAK2 mediated activation of TAK1 complex upon TLR7/8 or 9 stimulation               | 0.014 | 0.003 | 0.011 | 0.006 | 0.038 |\n",
       "| R-HSA-1169091 | Activation of NF-kappaB in B cells                                                   | 0.080 | 0.014 | 0.083 | 0.051 | 0.055 |\n",
       "| R-HSA-1980145 | Signaling by NOTCH2                                                                  | 0.094 | 0.056 | 0.048 | 0.013 | 0.121 |\n",
       "| R-HSA-211733 | Regulation of activated PAK-2p34 by proteasome mediated degradation                  | 0.064 | 0.009 | 0.016 | 0.071 | 0.029 |\n",
       "| R-HSA-937042 | IRAK2 mediated activation of TAK1 complex                                            | 0.017 | 0.003 | 0.028 | 0.010 | 0.065 |\n",
       "| R-HSA-450302 | activated TAK1 mediates p38 MAPK activation                                          | 0.064 | 0.037 | 0.067 | 0.042 | 0.170 |\n",
       "| R-HSA-9014325 | TICAM1,TRAF6-dependent induction of TAK1 complex                                     | 0.019 | 0.005 | 0.019 | 0.013 | 0.047 |\n",
       "| R-HSA-4641263 | Regulation of FZD by ubiquitination                                                  | 0.039 | 0.005 | 0.029 | 0.063 | 0.041 |\n",
       "| R-HSA-9645460 | Alpha-protein kinase 1 signaling pathway                                             | 0.014 | 0.002 | 0.016 | 0.013 | 0.038 |\n",
       "| R-HSA-169911 | Regulation of Apoptosis                                                              | 0.075 | 0.013 | 0.025 | 0.076 | 0.028 |\n",
       "| R-HSA-69601 | Ubiquitin Mediated Degradation of Phosphorylated Cdc25A                              | 0.065 | 0.019 | 0.042 | 0.073 | 0.046 |\n",
       "| R-HSA-69610 | p53-Independent DNA Damage Response                                                  | 0.065 | 0.019 | 0.042 | 0.073 | 0.046 |\n",
       "| R-HSA-69613 | p53-Independent G1/S DNA damage checkpoint                                           | 0.065 | 0.019 | 0.042 | 0.073 | 0.046 |\n",
       "| R-HSA-8982491 | Glycogen metabolism                                                                  | 0.064 | 0.051 | 0.071 | 0.066 | 0.117 |\n",
       "| R-HSA-3322077 | Glycogen synthesis                                                                   | 0.050 | 0.022 | 0.022 | 0.040 | 0.095 |\n",
       "| R-HSA-75815 | Ubiquitin-dependent degradation of Cyclin D                                          | 0.072 | 0.018 | 0.027 | 0.035 | 0.071 |\n",
       "| R-HSA-349425 | Autodegradation of the E3 ubiquitin ligase COP1                                      | 0.051 | 0.071 | 0.048 | 0.155 | 0.069 |\n",
       "| R-HSA-8941858 | Regulation of RUNX3 expression and activity                                          | 0.086 | 0.012 | 0.006 | 0.037 | 0.018 |\n",
       "\n"
      ],
      "text/plain": [
       "              Name                                                                                \n",
       "R-HSA-1280218 Adaptive Immune System                                                              \n",
       "R-HSA-198933  Immunoregulatory interactions between a Lymphoid and a non-Lymphoid cell            \n",
       "R-HSA-202733  Cell surface interactions at the vascular wall                                      \n",
       "R-HSA-2029480 Fcgamma receptor (FCGR) dependent phagocytosis                                      \n",
       "R-HSA-2029482 Regulation of actin dynamics for phagocytic cup formation                           \n",
       "R-HSA-2029485 Role of phospholipids in phagocytosis                                               \n",
       "R-HSA-2871809 FCERI mediated Ca+2 mobilization                                                    \n",
       "R-HSA-983695  Antigen activates B Cell Receptor (BCR) leading to generation of second messengers  \n",
       "R-HSA-109582  Hemostasis                                                                          \n",
       "R-HSA-2029481 FCGR activation                                                                     \n",
       "R-HSA-2871796 FCERI mediated MAPK activation                                                      \n",
       "R-HSA-983705  Signaling by the B Cell Receptor (BCR)                                              \n",
       "R-HSA-2454202 Fc epsilon receptor (FCERI) signaling                                               \n",
       "R-HSA-2730905 Role of LAT2/NTAL/LAB on calcium mobilization                                       \n",
       "R-HSA-168256  Immune System                                                                       \n",
       "R-HSA-5690714 CD22 mediated BCR regulation                                                        \n",
       "R-HSA-168249  Innate Immune System                                                                \n",
       "R-HSA-166658  Complement cascade                                                                  \n",
       "R-HSA-114604  GPVI-mediated activation cascade                                                    \n",
       "R-HSA-977606  Regulation of Complement cascade                                                    \n",
       "R-HSA-202433  Generation of second messenger molecules                                            \n",
       "R-HSA-166663  Initial triggering of complement                                                    \n",
       "R-HSA-166786  Creation of C4 and C2 activators                                                    \n",
       "R-HSA-2172127 DAP12 interactions                                                                  \n",
       "R-HSA-389513  CTLA4 inhibitory signaling                                                          \n",
       "R-HSA-173623  Classical antibody-mediated complement activation                                   \n",
       "R-HSA-2424491 DAP12 signaling                                                                     \n",
       "R-HSA-389948  PD-1 signaling                                                                      \n",
       "R-HSA-9020558 Interleukin-2 signaling                                                             \n",
       "R-HSA-1433557 Signaling by SCF-KIT                                                                \n",
       "⋮             ⋮                                                                                   \n",
       "R-HSA-975110  TRAF6 mediated IRF7 activation in TLR7/8 or 9 signaling                             \n",
       "R-HSA-69231   Cyclin D associated events in G1                                                    \n",
       "R-HSA-69236   G1 Phase                                                                            \n",
       "R-HSA-4086400 PCP/CE pathway                                                                      \n",
       "R-HSA-450321  JNK (c-Jun kinases) phosphorylation and  activation mediated by activated human TAK1\n",
       "R-HSA-937039  IRAK1 recruits IKK complex                                                          \n",
       "R-HSA-975144  IRAK1 recruits IKK complex upon TLR7/8 or 9 stimulation                             \n",
       "R-HSA-168638  NOD1/2 Signaling Pathway                                                            \n",
       "R-HSA-1168372 Downstream signaling events of B Cell Receptor (BCR)                                \n",
       "R-HSA-8852276 The role of GTSE1 in G2/M progression after G2 checkpoint                           \n",
       "R-HSA-9013973 TICAM1-dependent activation of IRF3/IRF7                                            \n",
       "R-HSA-937072  TRAF6-mediated induction of TAK1 complex within TLR4 complex                        \n",
       "R-HSA-975163  IRAK2 mediated activation of TAK1 complex upon TLR7/8 or 9 stimulation              \n",
       "R-HSA-1169091 Activation of NF-kappaB in B cells                                                  \n",
       "R-HSA-1980145 Signaling by NOTCH2                                                                 \n",
       "R-HSA-211733  Regulation of activated PAK-2p34 by proteasome mediated degradation                 \n",
       "R-HSA-937042  IRAK2 mediated activation of TAK1 complex                                           \n",
       "R-HSA-450302  activated TAK1 mediates p38 MAPK activation                                         \n",
       "R-HSA-9014325 TICAM1,TRAF6-dependent induction of TAK1 complex                                    \n",
       "R-HSA-4641263 Regulation of FZD by ubiquitination                                                 \n",
       "R-HSA-9645460 Alpha-protein kinase 1 signaling pathway                                            \n",
       "R-HSA-169911  Regulation of Apoptosis                                                             \n",
       "R-HSA-69601   Ubiquitin Mediated Degradation of Phosphorylated Cdc25A                             \n",
       "R-HSA-69610   p53-Independent DNA Damage Response                                                 \n",
       "R-HSA-69613   p53-Independent G1/S DNA damage checkpoint                                          \n",
       "R-HSA-8982491 Glycogen metabolism                                                                 \n",
       "R-HSA-3322077 Glycogen synthesis                                                                  \n",
       "R-HSA-75815   Ubiquitin-dependent degradation of Cyclin D                                         \n",
       "R-HSA-349425  Autodegradation of the E3 ubiquitin ligase COP1                                     \n",
       "R-HSA-8941858 Regulation of RUNX3 expression and activity                                         \n",
       "              FDR.TCGA Lung FDR.TCGA Mel FDR.TCGA Ov FDR.TCGA Breast\n",
       "R-HSA-1280218 1e-05         1e-05        1e-05       0.00100        \n",
       "R-HSA-198933  1e-05         1e-05        1e-05       0.00001        \n",
       "R-HSA-202733  1e-05         1e-05        1e-05       0.00001        \n",
       "R-HSA-2029480 1e-05         1e-05        1e-05       0.00001        \n",
       "R-HSA-2029482 1e-05         1e-05        1e-05       0.00001        \n",
       "R-HSA-2029485 1e-05         1e-05        1e-05       0.00001        \n",
       "R-HSA-2871809 1e-05         1e-05        1e-05       0.00001        \n",
       "R-HSA-983695  1e-05         1e-05        1e-05       0.00001        \n",
       "R-HSA-109582  1e-05         1e-05        1e-05       0.00100        \n",
       "R-HSA-2029481 1e-05         1e-05        1e-05       0.00001        \n",
       "R-HSA-2871796 1e-05         1e-05        1e-05       0.00001        \n",
       "R-HSA-983705  1e-05         1e-05        1e-05       0.00001        \n",
       "R-HSA-2454202 1e-05         1e-05        1e-05       0.00001        \n",
       "R-HSA-2730905 1e-05         1e-05        1e-05       0.00001        \n",
       "R-HSA-168256  4e-03         6e-03        1e-03       0.02000        \n",
       "R-HSA-5690714 1e-03         1e-03        1e-05       0.00001        \n",
       "R-HSA-168249  2e-03         1e-03        1e-03       0.01100        \n",
       "R-HSA-166658  1e-03         2e-03        1e-05       0.00100        \n",
       "R-HSA-114604  1e-05         1e-05        1e-05       0.00001        \n",
       "R-HSA-977606  1e-03         2e-03        1e-05       0.00100        \n",
       "R-HSA-202433  1e-05         1e-05        1e-03       0.00200        \n",
       "R-HSA-166663  1e-03         3e-03        1e-05       0.00200        \n",
       "R-HSA-166786  2e-03         4e-03        1e-05       0.00400        \n",
       "R-HSA-2172127 2e-03         1e-05        1e-05       0.00100        \n",
       "R-HSA-389513  1e-05         1e-05        1e-05       0.00001        \n",
       "R-HSA-173623  1e-03         5e-03        1e-05       0.00300        \n",
       "R-HSA-2424491 1e-03         1e-05        1e-05       0.00200        \n",
       "R-HSA-389948  3e-03         1e-05        1e-05       0.00200        \n",
       "R-HSA-9020558 1e-03         1e-05        1e-05       0.00001        \n",
       "R-HSA-1433557 2e-03         1e-05        1e-03       0.00100        \n",
       "⋮             ⋮             ⋮            ⋮           ⋮              \n",
       "R-HSA-975110  0.029         0.004        0.030       0.025          \n",
       "R-HSA-69231   0.071         0.021        0.072       0.046          \n",
       "R-HSA-69236   0.071         0.021        0.072       0.046          \n",
       "R-HSA-4086400 0.056         0.024        0.159       0.115          \n",
       "R-HSA-450321  0.025         0.016        0.038       0.016          \n",
       "R-HSA-937039  0.021         0.008        0.029       0.022          \n",
       "R-HSA-975144  0.021         0.008        0.029       0.022          \n",
       "R-HSA-168638  0.085         0.015        0.034       0.052          \n",
       "R-HSA-1168372 0.068         0.023        0.099       0.062          \n",
       "R-HSA-8852276 0.088         0.089        0.110       0.125          \n",
       "R-HSA-9013973 0.032         0.010        0.021       0.055          \n",
       "R-HSA-937072  0.014         0.003        0.011       0.006          \n",
       "R-HSA-975163  0.014         0.003        0.011       0.006          \n",
       "R-HSA-1169091 0.080         0.014        0.083       0.051          \n",
       "R-HSA-1980145 0.094         0.056        0.048       0.013          \n",
       "R-HSA-211733  0.064         0.009        0.016       0.071          \n",
       "R-HSA-937042  0.017         0.003        0.028       0.010          \n",
       "R-HSA-450302  0.064         0.037        0.067       0.042          \n",
       "R-HSA-9014325 0.019         0.005        0.019       0.013          \n",
       "R-HSA-4641263 0.039         0.005        0.029       0.063          \n",
       "R-HSA-9645460 0.014         0.002        0.016       0.013          \n",
       "R-HSA-169911  0.075         0.013        0.025       0.076          \n",
       "R-HSA-69601   0.065         0.019        0.042       0.073          \n",
       "R-HSA-69610   0.065         0.019        0.042       0.073          \n",
       "R-HSA-69613   0.065         0.019        0.042       0.073          \n",
       "R-HSA-8982491 0.064         0.051        0.071       0.066          \n",
       "R-HSA-3322077 0.050         0.022        0.022       0.040          \n",
       "R-HSA-75815   0.072         0.018        0.027       0.035          \n",
       "R-HSA-349425  0.051         0.071        0.048       0.155          \n",
       "R-HSA-8941858 0.086         0.012        0.006       0.037          \n",
       "              FDR.TCGA Lung SCC\n",
       "R-HSA-1280218 0.00100          \n",
       "R-HSA-198933  0.00001          \n",
       "R-HSA-202733  0.00001          \n",
       "R-HSA-2029480 0.00001          \n",
       "R-HSA-2029482 0.00200          \n",
       "R-HSA-2029485 0.00100          \n",
       "R-HSA-2871809 0.00001          \n",
       "R-HSA-983695  0.00001          \n",
       "R-HSA-109582  0.00001          \n",
       "R-HSA-2029481 0.00100          \n",
       "R-HSA-2871796 0.00001          \n",
       "R-HSA-983705  0.00001          \n",
       "R-HSA-2454202 0.00001          \n",
       "R-HSA-2730905 0.00001          \n",
       "R-HSA-168256  0.00700          \n",
       "R-HSA-5690714 0.00700          \n",
       "R-HSA-168249  0.00100          \n",
       "R-HSA-166658  0.00500          \n",
       "R-HSA-114604  0.00100          \n",
       "R-HSA-977606  0.00400          \n",
       "R-HSA-202433  0.00200          \n",
       "R-HSA-166663  0.01100          \n",
       "R-HSA-166786  0.01700          \n",
       "R-HSA-2172127 0.00100          \n",
       "R-HSA-389513  0.00100          \n",
       "R-HSA-173623  0.01500          \n",
       "R-HSA-2424491 0.00100          \n",
       "R-HSA-389948  0.00200          \n",
       "R-HSA-9020558 0.00200          \n",
       "R-HSA-1433557 0.00100          \n",
       "⋮             ⋮                \n",
       "R-HSA-975110  0.022            \n",
       "R-HSA-69231   0.178            \n",
       "R-HSA-69236   0.178            \n",
       "R-HSA-4086400 0.046            \n",
       "R-HSA-450321  0.085            \n",
       "R-HSA-937039  0.033            \n",
       "R-HSA-975144  0.033            \n",
       "R-HSA-168638  0.184            \n",
       "R-HSA-1168372 0.038            \n",
       "R-HSA-8852276 0.079            \n",
       "R-HSA-9013973 0.058            \n",
       "R-HSA-937072  0.038            \n",
       "R-HSA-975163  0.038            \n",
       "R-HSA-1169091 0.055            \n",
       "R-HSA-1980145 0.121            \n",
       "R-HSA-211733  0.029            \n",
       "R-HSA-937042  0.065            \n",
       "R-HSA-450302  0.170            \n",
       "R-HSA-9014325 0.047            \n",
       "R-HSA-4641263 0.041            \n",
       "R-HSA-9645460 0.038            \n",
       "R-HSA-169911  0.028            \n",
       "R-HSA-69601   0.046            \n",
       "R-HSA-69610   0.046            \n",
       "R-HSA-69613   0.046            \n",
       "R-HSA-8982491 0.117            \n",
       "R-HSA-3322077 0.095            \n",
       "R-HSA-75815   0.071            \n",
       "R-HSA-349425  0.069            \n",
       "R-HSA-8941858 0.018            "
      ]
     },
     "metadata": {},
     "output_type": "display_data"
    }
   ],
   "source": [
    "pathway_data[sig_mel_lung_pathways, grepl(\"FDR\", colnames(pathway_data)) | grepl(\"Name\", colnames(pathway_data))]"
   ]
  },
  {
   "cell_type": "code",
   "execution_count": null,
   "metadata": {},
   "outputs": [],
   "source": [
    "plot_volcano(analysis_result)\n",
    "plot_volcano(analysis_result, 2)"
   ]
  },
  {
   "cell_type": "code",
   "execution_count": null,
   "metadata": {},
   "outputs": [],
   "source": [
    "plot_correlations(analysis_result)"
   ]
  },
  {
   "cell_type": "markdown",
   "metadata": {},
   "source": [
    "# CPTAC Proteomics Data\n",
    "\n",
    "List of CPTAC studies: https://cptac-data-portal.georgetown.edu/cptac/public?scope=Phase+II+%2525"
   ]
  },
  {
   "cell_type": "markdown",
   "metadata": {},
   "source": [
    "## CPTAC Breast Cancer study\n",
    "\n",
    "Protein summary file downloaded from https://cptac-data-portal.georgetown.edu/cptac/s/S015"
   ]
  },
  {
   "cell_type": "code",
   "execution_count": 250,
   "metadata": {},
   "outputs": [
    {
     "data": {
      "text/html": [
       "<table>\n",
       "<caption>A data.table: 6 × 112</caption>\n",
       "<thead>\n",
       "\t<tr><th scope=col>Gene</th><th scope=col>263d3f-I</th><th scope=col>blcdb9-I</th><th scope=col>c4155b-C</th><th scope=col>A2-A0D0-01A</th><th scope=col>BH-A0HK-01A</th><th scope=col>C8-A12T-01A</th><th scope=col>A2-A0D2-01A</th><th scope=col>C8-A12U-01A</th><th scope=col>AR-A1AS-01A</th><th scope=col>⋯</th><th scope=col>BH-A0BZ-01A</th><th scope=col>D8-A13Y-01A</th><th scope=col>A8-A076-01A</th><th scope=col>AO-A126-01A</th><th scope=col>E2-A10A-01A</th><th scope=col>BH-A18Q-01A</th><th scope=col>C8-A130-01A</th><th scope=col>E2-A159-01A</th><th scope=col>A2-A0T3-01A</th><th scope=col>A2-A0YD-01A</th></tr>\n",
       "\t<tr><th scope=col>&lt;chr&gt;</th><th scope=col>&lt;dbl&gt;</th><th scope=col>&lt;dbl&gt;</th><th scope=col>&lt;dbl&gt;</th><th scope=col>&lt;dbl&gt;</th><th scope=col>&lt;dbl&gt;</th><th scope=col>&lt;dbl&gt;</th><th scope=col>&lt;dbl&gt;</th><th scope=col>&lt;dbl&gt;</th><th scope=col>&lt;dbl&gt;</th><th scope=col>⋯</th><th scope=col>&lt;dbl&gt;</th><th scope=col>&lt;dbl&gt;</th><th scope=col>&lt;dbl&gt;</th><th scope=col>&lt;dbl&gt;</th><th scope=col>&lt;dbl&gt;</th><th scope=col>&lt;dbl&gt;</th><th scope=col>&lt;dbl&gt;</th><th scope=col>&lt;dbl&gt;</th><th scope=col>&lt;dbl&gt;</th><th scope=col>&lt;dbl&gt;</th></tr>\n",
       "</thead>\n",
       "<tbody>\n",
       "\t<tr><td>A1BG </td><td> 1.5304836</td><td> 2.0134018</td><td>2.43518067</td><td> 0.7612967</td><td> 1.4187303</td><td> 0.31752229</td><td> 0.01254082</td><td>-0.08976698</td><td>-0.2901808</td><td>⋯</td><td> 0.8599757</td><td> 0.4872583</td><td>-0.73151739</td><td>-0.002832973</td><td> 0.1776139</td><td> 0.07737448</td><td> 0.09946451</td><td> 0.7524856</td><td> 0.01267110</td><td> 0.9942552</td></tr>\n",
       "\t<tr><td>A2M  </td><td> 1.4286289</td><td> 2.5877465</td><td>2.47657138</td><td> 0.7476052</td><td> 0.9251512</td><td>-0.01427574</td><td>-0.07196527</td><td> 0.10803832</td><td>-0.5117369</td><td>⋯</td><td> 0.8584047</td><td>-0.2538170</td><td>-0.72213981</td><td>-0.813984547</td><td> 0.2877063</td><td>-0.02587743</td><td>-0.52492681</td><td> 0.5558745</td><td>-0.65545195</td><td> 0.4065023</td></tr>\n",
       "\t<tr><td>A2ML1</td><td>-0.4314003</td><td>-0.4142286</td><td>0.01144029</td><td>-2.2230664</td><td>-1.8530141</td><td>-1.71109892</td><td>-0.33560987</td><td>-0.70042343</td><td>-0.7910894</td><td>⋯</td><td>-1.5277496</td><td>        NA</td><td>         NA</td><td>          NA</td><td>-0.7883766</td><td> 0.74341947</td><td>-0.56977743</td><td> 3.3274639</td><td>-0.34600715</td><td>-0.1583337</td></tr>\n",
       "\t<tr><td>AAAS </td><td> 0.3335354</td><td> 0.5456872</td><td>0.08208708</td><td> 1.3754170</td><td> 0.6707585</td><td> 0.16332365</td><td> 0.38059735</td><td>-0.13652292</td><td> 0.1643583</td><td>⋯</td><td> 0.6728346</td><td> 0.5933650</td><td> 0.06541163</td><td> 0.170303794</td><td> 0.8683271</td><td> 0.25128313</td><td>-0.04026868</td><td> 0.8933234</td><td> 0.07965811</td><td> 0.1481724</td></tr>\n",
       "\t<tr><td>AACS </td><td> 0.4930500</td><td>-0.2193542</td><td>0.02173741</td><td>-0.1955155</td><td>-0.5634773</td><td>-0.13320152</td><td>-0.54199389</td><td>-0.04899513</td><td>-0.1541032</td><td>⋯</td><td>-0.4742140</td><td>-0.1012545</td><td> 0.25724345</td><td> 0.449200282</td><td>-0.8211528</td><td>-0.38396223</td><td>-0.37580218</td><td>-1.0013509</td><td>-0.55486079</td><td>-0.4924700</td></tr>\n",
       "\t<tr><td>AADAT</td><td>        NA</td><td>        NA</td><td>        NA</td><td>        NA</td><td>        NA</td><td>         NA</td><td> 0.74487717</td><td>-1.28826047</td><td>-1.5060333</td><td>⋯</td><td>        NA</td><td>        NA</td><td>         NA</td><td>          NA</td><td>        NA</td><td>         NA</td><td>         NA</td><td>        NA</td><td>         NA</td><td>        NA</td></tr>\n",
       "</tbody>\n",
       "</table>\n"
      ],
      "text/latex": [
       "A data.table: 6 × 112\n",
       "\\begin{tabular}{lllllllllllllllllllll}\n",
       " Gene & 263d3f-I & blcdb9-I & c4155b-C & A2-A0D0-01A & BH-A0HK-01A & C8-A12T-01A & A2-A0D2-01A & C8-A12U-01A & AR-A1AS-01A & ⋯ & BH-A0BZ-01A & D8-A13Y-01A & A8-A076-01A & AO-A126-01A & E2-A10A-01A & BH-A18Q-01A & C8-A130-01A & E2-A159-01A & A2-A0T3-01A & A2-A0YD-01A\\\\\n",
       " <chr> & <dbl> & <dbl> & <dbl> & <dbl> & <dbl> & <dbl> & <dbl> & <dbl> & <dbl> & ⋯ & <dbl> & <dbl> & <dbl> & <dbl> & <dbl> & <dbl> & <dbl> & <dbl> & <dbl> & <dbl>\\\\\n",
       "\\hline\n",
       "\t A1BG  &  1.5304836 &  2.0134018 & 2.43518067 &  0.7612967 &  1.4187303 &  0.31752229 &  0.01254082 & -0.08976698 & -0.2901808 & ⋯ &  0.8599757 &  0.4872583 & -0.73151739 & -0.002832973 &  0.1776139 &  0.07737448 &  0.09946451 &  0.7524856 &  0.01267110 &  0.9942552\\\\\n",
       "\t A2M   &  1.4286289 &  2.5877465 & 2.47657138 &  0.7476052 &  0.9251512 & -0.01427574 & -0.07196527 &  0.10803832 & -0.5117369 & ⋯ &  0.8584047 & -0.2538170 & -0.72213981 & -0.813984547 &  0.2877063 & -0.02587743 & -0.52492681 &  0.5558745 & -0.65545195 &  0.4065023\\\\\n",
       "\t A2ML1 & -0.4314003 & -0.4142286 & 0.01144029 & -2.2230664 & -1.8530141 & -1.71109892 & -0.33560987 & -0.70042343 & -0.7910894 & ⋯ & -1.5277496 &         NA &          NA &           NA & -0.7883766 &  0.74341947 & -0.56977743 &  3.3274639 & -0.34600715 & -0.1583337\\\\\n",
       "\t AAAS  &  0.3335354 &  0.5456872 & 0.08208708 &  1.3754170 &  0.6707585 &  0.16332365 &  0.38059735 & -0.13652292 &  0.1643583 & ⋯ &  0.6728346 &  0.5933650 &  0.06541163 &  0.170303794 &  0.8683271 &  0.25128313 & -0.04026868 &  0.8933234 &  0.07965811 &  0.1481724\\\\\n",
       "\t AACS  &  0.4930500 & -0.2193542 & 0.02173741 & -0.1955155 & -0.5634773 & -0.13320152 & -0.54199389 & -0.04899513 & -0.1541032 & ⋯ & -0.4742140 & -0.1012545 &  0.25724345 &  0.449200282 & -0.8211528 & -0.38396223 & -0.37580218 & -1.0013509 & -0.55486079 & -0.4924700\\\\\n",
       "\t AADAT &         NA &         NA &         NA &         NA &         NA &          NA &  0.74487717 & -1.28826047 & -1.5060333 & ⋯ &         NA &         NA &          NA &           NA &         NA &          NA &          NA &         NA &          NA &         NA\\\\\n",
       "\\end{tabular}\n"
      ],
      "text/markdown": [
       "\n",
       "A data.table: 6 × 112\n",
       "\n",
       "| Gene &lt;chr&gt; | 263d3f-I &lt;dbl&gt; | blcdb9-I &lt;dbl&gt; | c4155b-C &lt;dbl&gt; | A2-A0D0-01A &lt;dbl&gt; | BH-A0HK-01A &lt;dbl&gt; | C8-A12T-01A &lt;dbl&gt; | A2-A0D2-01A &lt;dbl&gt; | C8-A12U-01A &lt;dbl&gt; | AR-A1AS-01A &lt;dbl&gt; | ⋯ ⋯ | BH-A0BZ-01A &lt;dbl&gt; | D8-A13Y-01A &lt;dbl&gt; | A8-A076-01A &lt;dbl&gt; | AO-A126-01A &lt;dbl&gt; | E2-A10A-01A &lt;dbl&gt; | BH-A18Q-01A &lt;dbl&gt; | C8-A130-01A &lt;dbl&gt; | E2-A159-01A &lt;dbl&gt; | A2-A0T3-01A &lt;dbl&gt; | A2-A0YD-01A &lt;dbl&gt; |\n",
       "|---|---|---|---|---|---|---|---|---|---|---|---|---|---|---|---|---|---|---|---|---|\n",
       "| A1BG  |  1.5304836 |  2.0134018 | 2.43518067 |  0.7612967 |  1.4187303 |  0.31752229 |  0.01254082 | -0.08976698 | -0.2901808 | ⋯ |  0.8599757 |  0.4872583 | -0.73151739 | -0.002832973 |  0.1776139 |  0.07737448 |  0.09946451 |  0.7524856 |  0.01267110 |  0.9942552 |\n",
       "| A2M   |  1.4286289 |  2.5877465 | 2.47657138 |  0.7476052 |  0.9251512 | -0.01427574 | -0.07196527 |  0.10803832 | -0.5117369 | ⋯ |  0.8584047 | -0.2538170 | -0.72213981 | -0.813984547 |  0.2877063 | -0.02587743 | -0.52492681 |  0.5558745 | -0.65545195 |  0.4065023 |\n",
       "| A2ML1 | -0.4314003 | -0.4142286 | 0.01144029 | -2.2230664 | -1.8530141 | -1.71109892 | -0.33560987 | -0.70042343 | -0.7910894 | ⋯ | -1.5277496 |         NA |          NA |           NA | -0.7883766 |  0.74341947 | -0.56977743 |  3.3274639 | -0.34600715 | -0.1583337 |\n",
       "| AAAS  |  0.3335354 |  0.5456872 | 0.08208708 |  1.3754170 |  0.6707585 |  0.16332365 |  0.38059735 | -0.13652292 |  0.1643583 | ⋯ |  0.6728346 |  0.5933650 |  0.06541163 |  0.170303794 |  0.8683271 |  0.25128313 | -0.04026868 |  0.8933234 |  0.07965811 |  0.1481724 |\n",
       "| AACS  |  0.4930500 | -0.2193542 | 0.02173741 | -0.1955155 | -0.5634773 | -0.13320152 | -0.54199389 | -0.04899513 | -0.1541032 | ⋯ | -0.4742140 | -0.1012545 |  0.25724345 |  0.449200282 | -0.8211528 | -0.38396223 | -0.37580218 | -1.0013509 | -0.55486079 | -0.4924700 |\n",
       "| AADAT |         NA |         NA |         NA |         NA |         NA |          NA |  0.74487717 | -1.28826047 | -1.5060333 | ⋯ |         NA |         NA |          NA |           NA |         NA |          NA |          NA |         NA |          NA |         NA |\n",
       "\n"
      ],
      "text/plain": [
       "  Gene  263d3f-I   blcdb9-I   c4155b-C   A2-A0D0-01A BH-A0HK-01A C8-A12T-01A\n",
       "1 A1BG   1.5304836  2.0134018 2.43518067  0.7612967   1.4187303   0.31752229\n",
       "2 A2M    1.4286289  2.5877465 2.47657138  0.7476052   0.9251512  -0.01427574\n",
       "3 A2ML1 -0.4314003 -0.4142286 0.01144029 -2.2230664  -1.8530141  -1.71109892\n",
       "4 AAAS   0.3335354  0.5456872 0.08208708  1.3754170   0.6707585   0.16332365\n",
       "5 AACS   0.4930500 -0.2193542 0.02173741 -0.1955155  -0.5634773  -0.13320152\n",
       "6 AADAT         NA         NA         NA         NA          NA           NA\n",
       "  A2-A0D2-01A C8-A12U-01A AR-A1AS-01A ⋯ BH-A0BZ-01A D8-A13Y-01A A8-A076-01A\n",
       "1  0.01254082 -0.08976698 -0.2901808  ⋯  0.8599757   0.4872583  -0.73151739\n",
       "2 -0.07196527  0.10803832 -0.5117369  ⋯  0.8584047  -0.2538170  -0.72213981\n",
       "3 -0.33560987 -0.70042343 -0.7910894  ⋯ -1.5277496          NA           NA\n",
       "4  0.38059735 -0.13652292  0.1643583  ⋯  0.6728346   0.5933650   0.06541163\n",
       "5 -0.54199389 -0.04899513 -0.1541032  ⋯ -0.4742140  -0.1012545   0.25724345\n",
       "6  0.74487717 -1.28826047 -1.5060333  ⋯         NA          NA           NA\n",
       "  AO-A126-01A  E2-A10A-01A BH-A18Q-01A C8-A130-01A E2-A159-01A A2-A0T3-01A\n",
       "1 -0.002832973  0.1776139   0.07737448  0.09946451  0.7524856   0.01267110\n",
       "2 -0.813984547  0.2877063  -0.02587743 -0.52492681  0.5558745  -0.65545195\n",
       "3           NA -0.7883766   0.74341947 -0.56977743  3.3274639  -0.34600715\n",
       "4  0.170303794  0.8683271   0.25128313 -0.04026868  0.8933234   0.07965811\n",
       "5  0.449200282 -0.8211528  -0.38396223 -0.37580218 -1.0013509  -0.55486079\n",
       "6           NA         NA           NA          NA         NA           NA\n",
       "  A2-A0YD-01A\n",
       "1  0.9942552 \n",
       "2  0.4065023 \n",
       "3 -0.1583337 \n",
       "4  0.1481724 \n",
       "5 -0.4924700 \n",
       "6         NA "
      ]
     },
     "metadata": {},
     "output_type": "display_data"
    }
   ],
   "source": [
    "suppressPackageStartupMessages( library(data.table) )\n",
    "raw_data <- fread(\"cptac/TCGA_Breast_BI_Proteome.itraq.tsv\")\n",
    "\n",
    "# only keep the unshared log ratio\n",
    "cols_to_keep <- colnames(raw_data)[grep(\"Unshared Log Ratio\", colnames(raw_data))]\n",
    "\n",
    "raw_data <- raw_data[, c(\"Gene\", cols_to_keep), with = F]\n",
    "\n",
    "# remove the first three statistical columns\n",
    "raw_data <- raw_data[4:nrow(raw_data), ]\n",
    "\n",
    "# change column names to only keep the id\n",
    "colnames(raw_data) <- gsub(\" Unshared Log Ratio\", \"\", colnames(raw_data))\n",
    "\n",
    "head(raw_data)"
   ]
  },
  {
   "cell_type": "code",
   "execution_count": 251,
   "metadata": {},
   "outputs": [
    {
     "data": {
      "text/html": [
       "<style>\n",
       ".list-inline {list-style: none; margin:0; padding: 0}\n",
       ".list-inline>li {display: inline-block}\n",
       ".list-inline>li:not(:last-child)::after {content: \"\\00b7\"; padding: 0 .5ex}\n",
       "</style>\n",
       "<ol class=list-inline><li>'TCGA-AR-A255-01A-11R-A169-07'</li><li>'TCGA-BH-A0HB-01A-11R-A056-07'</li><li>'TCGA-BH-A0W4-01A-11R-A109-07'</li><li>'TCGA-B6-A0IJ-01A-11R-A034-07'</li><li>'TCGA-E9-A1R0-01A-22R-A16F-07'</li><li>'TCGA-A2-A0CR-01A-11R-A22K-07'</li></ol>\n"
      ],
      "text/latex": [
       "\\begin{enumerate*}\n",
       "\\item 'TCGA-AR-A255-01A-11R-A169-07'\n",
       "\\item 'TCGA-BH-A0HB-01A-11R-A056-07'\n",
       "\\item 'TCGA-BH-A0W4-01A-11R-A109-07'\n",
       "\\item 'TCGA-B6-A0IJ-01A-11R-A034-07'\n",
       "\\item 'TCGA-E9-A1R0-01A-22R-A16F-07'\n",
       "\\item 'TCGA-A2-A0CR-01A-11R-A22K-07'\n",
       "\\end{enumerate*}\n"
      ],
      "text/markdown": [
       "1. 'TCGA-AR-A255-01A-11R-A169-07'\n",
       "2. 'TCGA-BH-A0HB-01A-11R-A056-07'\n",
       "3. 'TCGA-BH-A0W4-01A-11R-A109-07'\n",
       "4. 'TCGA-B6-A0IJ-01A-11R-A034-07'\n",
       "5. 'TCGA-E9-A1R0-01A-22R-A16F-07'\n",
       "6. 'TCGA-A2-A0CR-01A-11R-A22K-07'\n",
       "\n",
       "\n"
      ],
      "text/plain": [
       "[1] \"TCGA-AR-A255-01A-11R-A169-07\" \"TCGA-BH-A0HB-01A-11R-A056-07\"\n",
       "[3] \"TCGA-BH-A0W4-01A-11R-A109-07\" \"TCGA-B6-A0IJ-01A-11R-A034-07\"\n",
       "[5] \"TCGA-E9-A1R0-01A-22R-A16F-07\" \"TCGA-A2-A0CR-01A-11R-A22K-07\""
      ]
     },
     "metadata": {},
     "output_type": "display_data"
    }
   ],
   "source": [
    "head(colnames(breast_dge))"
   ]
  },
  {
   "cell_type": "code",
   "execution_count": 255,
   "metadata": {},
   "outputs": [
    {
     "data": {
      "text/html": [
       "<style>\n",
       ".list-inline {list-style: none; margin:0; padding: 0}\n",
       ".list-inline>li {display: inline-block}\n",
       ".list-inline>li:not(:last-child)::after {content: \"\\00b7\"; padding: 0 .5ex}\n",
       "</style>\n",
       "<ol class=list-inline><li>'AR-A255-01A'</li><li>'BH-A0HB-01A'</li><li>'BH-A0W4-01A'</li><li>'B6-A0IJ-01A'</li><li>'E9-A1R0-01A'</li><li>'A2-A0CR-01A'</li></ol>\n"
      ],
      "text/latex": [
       "\\begin{enumerate*}\n",
       "\\item 'AR-A255-01A'\n",
       "\\item 'BH-A0HB-01A'\n",
       "\\item 'BH-A0W4-01A'\n",
       "\\item 'B6-A0IJ-01A'\n",
       "\\item 'E9-A1R0-01A'\n",
       "\\item 'A2-A0CR-01A'\n",
       "\\end{enumerate*}\n"
      ],
      "text/markdown": [
       "1. 'AR-A255-01A'\n",
       "2. 'BH-A0HB-01A'\n",
       "3. 'BH-A0W4-01A'\n",
       "4. 'B6-A0IJ-01A'\n",
       "5. 'E9-A1R0-01A'\n",
       "6. 'A2-A0CR-01A'\n",
       "\n",
       "\n"
      ],
      "text/plain": [
       "[1] \"AR-A255-01A\" \"BH-A0HB-01A\" \"BH-A0W4-01A\" \"B6-A0IJ-01A\" \"E9-A1R0-01A\"\n",
       "[6] \"A2-A0CR-01A\""
      ]
     },
     "metadata": {},
     "output_type": "display_data"
    }
   ],
   "source": [
    "# match to TCGA samples\n",
    "breast_dge$samples$short_id <- substr(gsub(\"TCGA-\", \"\", colnames(breast_dge)), 1, 11)\n",
    "\n",
    "head(breast_dge$samples$short_id)"
   ]
  },
  {
   "cell_type": "code",
   "execution_count": 256,
   "metadata": {},
   "outputs": [
    {
     "name": "stderr",
     "output_type": "stream",
     "text": [
      "Retained 99 proteomics samples\n",
      "\n"
     ]
    }
   ],
   "source": [
    "# only retain proteomics samples that exist\n",
    "raw_sample_ids <- colnames(raw_data)[2:ncol(raw_data)]\n",
    "samples_to_retain <- raw_sample_ids[raw_sample_ids %in% breast_dge$samples$short_id]\n",
    "\n",
    "matched_data <- raw_data[, c(\"Gene\", samples_to_retain), with = F]\n",
    "\n",
    "message(\"Retained \", length(samples_to_retain), \" proteomics samples\")"
   ]
  },
  {
   "cell_type": "code",
   "execution_count": 261,
   "metadata": {},
   "outputs": [
    {
     "data": {
      "text/html": [
       "<table>\n",
       "<caption>A data.frame: 6 × 3</caption>\n",
       "<thead>\n",
       "\t<tr><th></th><th scope=col>id</th><th scope=col>TIPB</th><th scope=col>tipb_group</th></tr>\n",
       "\t<tr><th></th><th scope=col>&lt;fct&gt;</th><th scope=col>&lt;fct&gt;</th><th scope=col>&lt;fct&gt;</th></tr>\n",
       "</thead>\n",
       "<tbody>\n",
       "\t<tr><th scope=row>A2-A0D0-01A</th><td>A2-A0D0-01A</td><td>-0.176238075185544 </td><td>TIPB high</td></tr>\n",
       "\t<tr><th scope=row>BH-A0HK-01A</th><td>BH-A0HK-01A</td><td>-0.153623237806923 </td><td>TIPB high</td></tr>\n",
       "\t<tr><th scope=row>C8-A12T-01A</th><td>C8-A12T-01A</td><td>-0.24809236081229  </td><td>TIPB low </td></tr>\n",
       "\t<tr><th scope=row>A2-A0D2-01A</th><td>A2-A0D2-01A</td><td>-0.0431269296544915</td><td>TIPB high</td></tr>\n",
       "\t<tr><th scope=row>C8-A12U-01A</th><td>C8-A12U-01A</td><td>-0.0338850882203674</td><td>TIPB high</td></tr>\n",
       "\t<tr><th scope=row>AR-A1AS-01A</th><td>AR-A1AS-01A</td><td>-0.486517022310488 </td><td>TIPB low </td></tr>\n",
       "</tbody>\n",
       "</table>\n"
      ],
      "text/latex": [
       "A data.frame: 6 × 3\n",
       "\\begin{tabular}{r|lll}\n",
       "  & id & TIPB & tipb\\_group\\\\\n",
       "  & <fct> & <fct> & <fct>\\\\\n",
       "\\hline\n",
       "\tA2-A0D0-01A & A2-A0D0-01A & -0.176238075185544  & TIPB high\\\\\n",
       "\tBH-A0HK-01A & BH-A0HK-01A & -0.153623237806923  & TIPB high\\\\\n",
       "\tC8-A12T-01A & C8-A12T-01A & -0.24809236081229   & TIPB low \\\\\n",
       "\tA2-A0D2-01A & A2-A0D2-01A & -0.0431269296544915 & TIPB high\\\\\n",
       "\tC8-A12U-01A & C8-A12U-01A & -0.0338850882203674 & TIPB high\\\\\n",
       "\tAR-A1AS-01A & AR-A1AS-01A & -0.486517022310488  & TIPB low \\\\\n",
       "\\end{tabular}\n"
      ],
      "text/markdown": [
       "\n",
       "A data.frame: 6 × 3\n",
       "\n",
       "| <!--/--> | id &lt;fct&gt; | TIPB &lt;fct&gt; | tipb_group &lt;fct&gt; |\n",
       "|---|---|---|---|\n",
       "| A2-A0D0-01A | A2-A0D0-01A | -0.176238075185544  | TIPB high |\n",
       "| BH-A0HK-01A | BH-A0HK-01A | -0.153623237806923  | TIPB high |\n",
       "| C8-A12T-01A | C8-A12T-01A | -0.24809236081229   | TIPB low  |\n",
       "| A2-A0D2-01A | A2-A0D2-01A | -0.0431269296544915 | TIPB high |\n",
       "| C8-A12U-01A | C8-A12U-01A | -0.0338850882203674 | TIPB high |\n",
       "| AR-A1AS-01A | AR-A1AS-01A | -0.486517022310488  | TIPB low  |\n",
       "\n"
      ],
      "text/plain": [
       "            id          TIPB                tipb_group\n",
       "A2-A0D0-01A A2-A0D0-01A -0.176238075185544  TIPB high \n",
       "BH-A0HK-01A BH-A0HK-01A -0.153623237806923  TIPB high \n",
       "C8-A12T-01A C8-A12T-01A -0.24809236081229   TIPB low  \n",
       "A2-A0D2-01A A2-A0D2-01A -0.0431269296544915 TIPB high \n",
       "C8-A12U-01A C8-A12U-01A -0.0338850882203674 TIPB high \n",
       "AR-A1AS-01A AR-A1AS-01A -0.486517022310488  TIPB low  "
      ]
     },
     "metadata": {},
     "output_type": "display_data"
    }
   ],
   "source": [
    "# create the sample data.frame for the pathway analysis\n",
    "sample_data <- data.frame(\n",
    "    row.names = colnames(matched_data)[2:ncol(matched_data)],\n",
    "    id = colnames(matched_data)[2:ncol(matched_data)]\n",
    ")\n",
    "\n",
    "# add the TIPB group\n",
    "sample_data$TIPB <- plyr::mapvalues(x = sample_data$id, from = breast_dge$samples$short_id, to = breast_dge$samples$TIPB, warn_missing = F)\n",
    "sample_data$tipb_group <- plyr::mapvalues(x = sample_data$id, from = breast_dge$samples$short_id, to = as.character(breast_dge$samples$tipb_group), warn_missing = F)\n",
    "\n",
    "head(sample_data)"
   ]
  },
  {
   "cell_type": "code",
   "execution_count": 264,
   "metadata": {},
   "outputs": [],
   "source": [
    "# change the expression data to a data.frame to support row.names\n",
    "prot_exp_data <- data.frame(matched_data[, 2:ncol(matched_data), with = F])\n",
    "rownames(prot_exp_data) <- matched_data$Gene"
   ]
  },
  {
   "cell_type": "code",
   "execution_count": 269,
   "metadata": {},
   "outputs": [
    {
     "name": "stderr",
     "output_type": "stream",
     "text": [
      "Converting expression data to string... (This may take a moment)\n",
      "\n",
      "Conversion complete\n",
      "\n",
      "Converting expression data to string... (This may take a moment)\n",
      "\n",
      "Conversion complete\n",
      "\n"
     ]
    }
   ],
   "source": [
    "# create the ReactomeGSA request\n",
    "library(ReactomeGSA)\n",
    "breast_analysis_request <- ReactomeAnalysisRequest(method = \"PADOG\")\n",
    "breast_analysis_request <- set_parameters(breast_analysis_request, use_interactors = T, include_disease_pathways = F)\n",
    "\n",
    "breast_analysis_request <- add_dataset(breast_analysis_request, expression_values = breast_dge, \n",
    "                                name = \"TCGA Breast\", type = \"rnaseq_counts\", comparison_factor = \"tipb_group\", \n",
    "                                comparison_group_1 = \"TIPB low\", comparison_group_2 =  \"TIPB high\")\n",
    "\n",
    "breast_analysis_request <- add_dataset(breast_analysis_request, expression_values = prot_exp_data, sample_data = sample_data,\n",
    "                                name = \"CPTAC Breast\", type = \"proteomics_int\", comparison_factor = \"tipb_group\", \n",
    "                                comparison_group_1 = \"TIPB low\", comparison_group_2 =  \"TIPB high\")\n",
    "\n",
    "json_string <- ReactomeGSA:::toJSON(breast_analysis_request)"
   ]
  },
  {
   "cell_type": "code",
   "execution_count": 272,
   "metadata": {},
   "outputs": [],
   "source": [
    "jso_file <- file(\"cptac_breast_request.json\")\n",
    "write(x = json_string, file = jso_file)\n",
    "close(jso_file)"
   ]
  },
  {
   "cell_type": "code",
   "execution_count": 273,
   "metadata": {},
   "outputs": [
    {
     "name": "stderr",
     "output_type": "stream",
     "text": [
      "Submitting request to Reactome API...\n",
      "\n",
      "Reactome Analysis submitted succesfully\n",
      "\n",
      "Queued\n",
      "\n",
      "Converting dataset TCGA Breast...\n",
      "\n",
      "Converting dataset CPTAC Breast...\n",
      "\n",
      "Mapping identifiers...\n",
      "\n",
      "Performing gene set analysis using PADOG\n",
      "\n",
      "Analysing dataset 'TCGA Breast' using PADOG\n",
      "\n",
      "Analysing dataset 'CPTAC Breast' using PADOG\n",
      "\n",
      "Creating REACTOME visualization\n",
      "\n",
      "Retrieving result...\n",
      "\n"
     ]
    }
   ],
   "source": [
    "options(reactome_gsa.url = \"http://derma-bioinf-vs02.derma.meduniwien.ac.at:31773\")\n",
    "breast_analysis_result <- perform_reactome_analysis(breast_analysis_request)"
   ]
  },
  {
   "cell_type": "code",
   "execution_count": 306,
   "metadata": {},
   "outputs": [],
   "source": [
    "breast_pathways <- pathways(breast_analysis_result)"
   ]
  },
  {
   "cell_type": "code",
   "execution_count": 307,
   "metadata": {},
   "outputs": [
    {
     "data": {
      "text/plain": [
       "is_sig\n",
       "FALSE  TRUE \n",
       " 1689   113 "
      ]
     },
     "metadata": {},
     "output_type": "display_data"
    }
   ],
   "source": [
    "# only retain significant\n",
    "is_sig <- breast_pathways[, \"FDR.CPTAC Breast\"] < 0.05 & breast_pathways[, \"FDR.TCGA Breast\"] < 0.05\n",
    "\n",
    "table(is_sig)\n",
    "\n",
    "breast_pathways <- breast_pathways[is_sig, ]"
   ]
  },
  {
   "cell_type": "code",
   "execution_count": 308,
   "metadata": {},
   "outputs": [
    {
     "data": {
      "text/plain": [
       "is_diff\n",
       "FALSE  TRUE \n",
       "  100    13 "
      ]
     },
     "metadata": {},
     "output_type": "display_data"
    }
   ],
   "source": [
    "# find different pathways\n",
    "is_diff <- breast_pathways$`Direction.CPTAC Breast` != breast_pathways$`Direction.TCGA Breast`\n",
    "\n",
    "table(is_diff)"
   ]
  },
  {
   "cell_type": "code",
   "execution_count": 309,
   "metadata": {},
   "outputs": [
    {
     "data": {
      "text/html": [
       "<table>\n",
       "<caption>A data.frame: 13 × 5</caption>\n",
       "<thead>\n",
       "\t<tr><th></th><th scope=col>Name</th><th scope=col>Direction.TCGA Breast</th><th scope=col>FDR.TCGA Breast</th><th scope=col>Direction.CPTAC Breast</th><th scope=col>FDR.CPTAC Breast</th></tr>\n",
       "\t<tr><th></th><th scope=col>&lt;chr&gt;</th><th scope=col>&lt;fct&gt;</th><th scope=col>&lt;dbl&gt;</th><th scope=col>&lt;fct&gt;</th><th scope=col>&lt;dbl&gt;</th></tr>\n",
       "</thead>\n",
       "<tbody>\n",
       "\t<tr><th scope=row>R-HSA-202733</th><td>Cell surface interactions at the vascular wall                   </td><td>Up</td><td>0.00001</td><td>Down</td><td>0.01700</td></tr>\n",
       "\t<tr><th scope=row>R-HSA-109582</th><td>Hemostasis                                                       </td><td>Up</td><td>0.00001</td><td>Down</td><td>0.00001</td></tr>\n",
       "\t<tr><th scope=row>R-HSA-112399</th><td>IRS-mediated signalling                                          </td><td>Up</td><td>0.00100</td><td>Down</td><td>0.03900</td></tr>\n",
       "\t<tr><th scope=row>R-HSA-2428928</th><td>IRS-related events triggered by IGF1R                            </td><td>Up</td><td>0.00100</td><td>Down</td><td>0.03000</td></tr>\n",
       "\t<tr><th scope=row>R-HSA-186797</th><td>Signaling by PDGF                                                </td><td>Up</td><td>0.00600</td><td>Down</td><td>0.00300</td></tr>\n",
       "\t<tr><th scope=row>R-HSA-109704</th><td>PI3K Cascade                                                     </td><td>Up</td><td>0.00100</td><td>Down</td><td>0.04200</td></tr>\n",
       "\t<tr><th scope=row>R-HSA-2428924</th><td>IGF1R signaling cascade                                          </td><td>Up</td><td>0.00100</td><td>Down</td><td>0.03100</td></tr>\n",
       "\t<tr><th scope=row>R-HSA-2404192</th><td>Signaling by Type 1 Insulin-like Growth Factor 1 Receptor (IGF1R)</td><td>Up</td><td>0.00100</td><td>Down</td><td>0.04200</td></tr>\n",
       "\t<tr><th scope=row>R-HSA-177929</th><td>Signaling by EGFR                                                </td><td>Up</td><td>0.00400</td><td>Down</td><td>0.00001</td></tr>\n",
       "\t<tr><th scope=row>R-HSA-6806834</th><td>Signaling by MET                                                 </td><td>Up</td><td>0.01300</td><td>Down</td><td>0.00001</td></tr>\n",
       "\t<tr><th scope=row>R-HSA-397795</th><td>G-protein beta:gamma signalling                                  </td><td>Up</td><td>0.03600</td><td>Down</td><td>0.01000</td></tr>\n",
       "\t<tr><th scope=row>R-HSA-4420097</th><td>VEGFA-VEGFR2 Pathway                                             </td><td>Up</td><td>0.03000</td><td>Down</td><td>0.00300</td></tr>\n",
       "\t<tr><th scope=row>R-HSA-194138</th><td>Signaling by VEGF                                                </td><td>Up</td><td>0.03300</td><td>Down</td><td>0.00400</td></tr>\n",
       "</tbody>\n",
       "</table>\n"
      ],
      "text/latex": [
       "A data.frame: 13 × 5\n",
       "\\begin{tabular}{r|lllll}\n",
       "  & Name & Direction.TCGA Breast & FDR.TCGA Breast & Direction.CPTAC Breast & FDR.CPTAC Breast\\\\\n",
       "  & <chr> & <fct> & <dbl> & <fct> & <dbl>\\\\\n",
       "\\hline\n",
       "\tR-HSA-202733 & Cell surface interactions at the vascular wall                    & Up & 0.00001 & Down & 0.01700\\\\\n",
       "\tR-HSA-109582 & Hemostasis                                                        & Up & 0.00001 & Down & 0.00001\\\\\n",
       "\tR-HSA-112399 & IRS-mediated signalling                                           & Up & 0.00100 & Down & 0.03900\\\\\n",
       "\tR-HSA-2428928 & IRS-related events triggered by IGF1R                             & Up & 0.00100 & Down & 0.03000\\\\\n",
       "\tR-HSA-186797 & Signaling by PDGF                                                 & Up & 0.00600 & Down & 0.00300\\\\\n",
       "\tR-HSA-109704 & PI3K Cascade                                                      & Up & 0.00100 & Down & 0.04200\\\\\n",
       "\tR-HSA-2428924 & IGF1R signaling cascade                                           & Up & 0.00100 & Down & 0.03100\\\\\n",
       "\tR-HSA-2404192 & Signaling by Type 1 Insulin-like Growth Factor 1 Receptor (IGF1R) & Up & 0.00100 & Down & 0.04200\\\\\n",
       "\tR-HSA-177929 & Signaling by EGFR                                                 & Up & 0.00400 & Down & 0.00001\\\\\n",
       "\tR-HSA-6806834 & Signaling by MET                                                  & Up & 0.01300 & Down & 0.00001\\\\\n",
       "\tR-HSA-397795 & G-protein beta:gamma signalling                                   & Up & 0.03600 & Down & 0.01000\\\\\n",
       "\tR-HSA-4420097 & VEGFA-VEGFR2 Pathway                                              & Up & 0.03000 & Down & 0.00300\\\\\n",
       "\tR-HSA-194138 & Signaling by VEGF                                                 & Up & 0.03300 & Down & 0.00400\\\\\n",
       "\\end{tabular}\n"
      ],
      "text/markdown": [
       "\n",
       "A data.frame: 13 × 5\n",
       "\n",
       "| <!--/--> | Name &lt;chr&gt; | Direction.TCGA Breast &lt;fct&gt; | FDR.TCGA Breast &lt;dbl&gt; | Direction.CPTAC Breast &lt;fct&gt; | FDR.CPTAC Breast &lt;dbl&gt; |\n",
       "|---|---|---|---|---|---|\n",
       "| R-HSA-202733 | Cell surface interactions at the vascular wall                    | Up | 0.00001 | Down | 0.01700 |\n",
       "| R-HSA-109582 | Hemostasis                                                        | Up | 0.00001 | Down | 0.00001 |\n",
       "| R-HSA-112399 | IRS-mediated signalling                                           | Up | 0.00100 | Down | 0.03900 |\n",
       "| R-HSA-2428928 | IRS-related events triggered by IGF1R                             | Up | 0.00100 | Down | 0.03000 |\n",
       "| R-HSA-186797 | Signaling by PDGF                                                 | Up | 0.00600 | Down | 0.00300 |\n",
       "| R-HSA-109704 | PI3K Cascade                                                      | Up | 0.00100 | Down | 0.04200 |\n",
       "| R-HSA-2428924 | IGF1R signaling cascade                                           | Up | 0.00100 | Down | 0.03100 |\n",
       "| R-HSA-2404192 | Signaling by Type 1 Insulin-like Growth Factor 1 Receptor (IGF1R) | Up | 0.00100 | Down | 0.04200 |\n",
       "| R-HSA-177929 | Signaling by EGFR                                                 | Up | 0.00400 | Down | 0.00001 |\n",
       "| R-HSA-6806834 | Signaling by MET                                                  | Up | 0.01300 | Down | 0.00001 |\n",
       "| R-HSA-397795 | G-protein beta:gamma signalling                                   | Up | 0.03600 | Down | 0.01000 |\n",
       "| R-HSA-4420097 | VEGFA-VEGFR2 Pathway                                              | Up | 0.03000 | Down | 0.00300 |\n",
       "| R-HSA-194138 | Signaling by VEGF                                                 | Up | 0.03300 | Down | 0.00400 |\n",
       "\n"
      ],
      "text/plain": [
       "              Name                                                             \n",
       "R-HSA-202733  Cell surface interactions at the vascular wall                   \n",
       "R-HSA-109582  Hemostasis                                                       \n",
       "R-HSA-112399  IRS-mediated signalling                                          \n",
       "R-HSA-2428928 IRS-related events triggered by IGF1R                            \n",
       "R-HSA-186797  Signaling by PDGF                                                \n",
       "R-HSA-109704  PI3K Cascade                                                     \n",
       "R-HSA-2428924 IGF1R signaling cascade                                          \n",
       "R-HSA-2404192 Signaling by Type 1 Insulin-like Growth Factor 1 Receptor (IGF1R)\n",
       "R-HSA-177929  Signaling by EGFR                                                \n",
       "R-HSA-6806834 Signaling by MET                                                 \n",
       "R-HSA-397795  G-protein beta:gamma signalling                                  \n",
       "R-HSA-4420097 VEGFA-VEGFR2 Pathway                                             \n",
       "R-HSA-194138  Signaling by VEGF                                                \n",
       "              Direction.TCGA Breast FDR.TCGA Breast Direction.CPTAC Breast\n",
       "R-HSA-202733  Up                    0.00001         Down                  \n",
       "R-HSA-109582  Up                    0.00001         Down                  \n",
       "R-HSA-112399  Up                    0.00100         Down                  \n",
       "R-HSA-2428928 Up                    0.00100         Down                  \n",
       "R-HSA-186797  Up                    0.00600         Down                  \n",
       "R-HSA-109704  Up                    0.00100         Down                  \n",
       "R-HSA-2428924 Up                    0.00100         Down                  \n",
       "R-HSA-2404192 Up                    0.00100         Down                  \n",
       "R-HSA-177929  Up                    0.00400         Down                  \n",
       "R-HSA-6806834 Up                    0.01300         Down                  \n",
       "R-HSA-397795  Up                    0.03600         Down                  \n",
       "R-HSA-4420097 Up                    0.03000         Down                  \n",
       "R-HSA-194138  Up                    0.03300         Down                  \n",
       "              FDR.CPTAC Breast\n",
       "R-HSA-202733  0.01700         \n",
       "R-HSA-109582  0.00001         \n",
       "R-HSA-112399  0.03900         \n",
       "R-HSA-2428928 0.03000         \n",
       "R-HSA-186797  0.00300         \n",
       "R-HSA-109704  0.04200         \n",
       "R-HSA-2428924 0.03100         \n",
       "R-HSA-2404192 0.04200         \n",
       "R-HSA-177929  0.00001         \n",
       "R-HSA-6806834 0.00001         \n",
       "R-HSA-397795  0.01000         \n",
       "R-HSA-4420097 0.00300         \n",
       "R-HSA-194138  0.00400         "
      ]
     },
     "metadata": {},
     "output_type": "display_data"
    }
   ],
   "source": [
    "rel_columns <- grepl(\"Direction\", colnames(breast_pathways)) |\n",
    "                grepl(\"FDR\", colnames(breast_pathways)) |\n",
    "                grepl(\"Name\", colnames(breast_pathways))\n",
    "\n",
    "breast_pathways[is_diff, rel_columns]"
   ]
  },
  {
   "cell_type": "code",
   "execution_count": 310,
   "metadata": {},
   "outputs": [
    {
     "data": {
      "text/html": [
       "<table>\n",
       "<caption>A data.frame: 1 × 5</caption>\n",
       "<thead>\n",
       "\t<tr><th></th><th scope=col>Name</th><th scope=col>Direction.TCGA Breast</th><th scope=col>FDR.TCGA Breast</th><th scope=col>Direction.CPTAC Breast</th><th scope=col>FDR.CPTAC Breast</th></tr>\n",
       "\t<tr><th></th><th scope=col>&lt;chr&gt;</th><th scope=col>&lt;fct&gt;</th><th scope=col>&lt;dbl&gt;</th><th scope=col>&lt;fct&gt;</th><th scope=col>&lt;dbl&gt;</th></tr>\n",
       "</thead>\n",
       "<tbody>\n",
       "\t<tr><th scope=row>R-HSA-983705</th><td>Signaling by the B Cell Receptor (BCR)</td><td>Up</td><td>1e-05</td><td>Up</td><td>0.001</td></tr>\n",
       "</tbody>\n",
       "</table>\n"
      ],
      "text/latex": [
       "A data.frame: 1 × 5\n",
       "\\begin{tabular}{r|lllll}\n",
       "  & Name & Direction.TCGA Breast & FDR.TCGA Breast & Direction.CPTAC Breast & FDR.CPTAC Breast\\\\\n",
       "  & <chr> & <fct> & <dbl> & <fct> & <dbl>\\\\\n",
       "\\hline\n",
       "\tR-HSA-983705 & Signaling by the B Cell Receptor (BCR) & Up & 1e-05 & Up & 0.001\\\\\n",
       "\\end{tabular}\n"
      ],
      "text/markdown": [
       "\n",
       "A data.frame: 1 × 5\n",
       "\n",
       "| <!--/--> | Name &lt;chr&gt; | Direction.TCGA Breast &lt;fct&gt; | FDR.TCGA Breast &lt;dbl&gt; | Direction.CPTAC Breast &lt;fct&gt; | FDR.CPTAC Breast &lt;dbl&gt; |\n",
       "|---|---|---|---|---|---|\n",
       "| R-HSA-983705 | Signaling by the B Cell Receptor (BCR) | Up | 1e-05 | Up | 0.001 |\n",
       "\n"
      ],
      "text/plain": [
       "             Name                                   Direction.TCGA Breast\n",
       "R-HSA-983705 Signaling by the B Cell Receptor (BCR) Up                   \n",
       "             FDR.TCGA Breast Direction.CPTAC Breast FDR.CPTAC Breast\n",
       "R-HSA-983705 1e-05           Up                     0.001           "
      ]
     },
     "metadata": {},
     "output_type": "display_data"
    }
   ],
   "source": [
    "# B cell pathways\n",
    "breast_pathways[c(\"R-HSA-983705\"), rel_columns]"
   ]
  },
  {
   "cell_type": "markdown",
   "metadata": {},
   "source": [
    "## CPTAC Ovarian\n",
    "\n",
    "Data downloaded from https://cptac-data-portal.georgetown.edu/cptac/s/S020\n",
    "\n",
    "Used the PNNL protein summary report"
   ]
  },
  {
   "cell_type": "code",
   "execution_count": 285,
   "metadata": {},
   "outputs": [
    {
     "data": {
      "text/html": [
       "<table>\n",
       "<caption>A data.table: 6 × 85</caption>\n",
       "<thead>\n",
       "\t<tr><th scope=col>Gene</th><th scope=col>13-1489-01A</th><th scope=col>42-2590-01A</th><th scope=col>36-2529-01A</th><th scope=col>24-1105-01A</th><th scope=col>29-1785-01A</th><th scope=col>24-2290-01A</th><th scope=col>24-1428-01A</th><th scope=col>24-1923-01A</th><th scope=col>24-1563-01A</th><th scope=col>⋯</th><th scope=col>25-1635-01A</th><th scope=col>61-1914-01A</th><th scope=col>61-1900-01A</th><th scope=col>09-1664-01A</th><th scope=col>61-2095-01A</th><th scope=col>61-1919-01A</th><th scope=col>25-2404-01A</th><th scope=col>61-2096-01A</th><th scope=col>61-1911-01A</th><th scope=col>13-1495-01A</th></tr>\n",
       "\t<tr><th scope=col>&lt;chr&gt;</th><th scope=col>&lt;dbl&gt;</th><th scope=col>&lt;dbl&gt;</th><th scope=col>&lt;dbl&gt;</th><th scope=col>&lt;dbl&gt;</th><th scope=col>&lt;dbl&gt;</th><th scope=col>&lt;dbl&gt;</th><th scope=col>&lt;dbl&gt;</th><th scope=col>&lt;dbl&gt;</th><th scope=col>&lt;dbl&gt;</th><th scope=col>⋯</th><th scope=col>&lt;dbl&gt;</th><th scope=col>&lt;dbl&gt;</th><th scope=col>&lt;dbl&gt;</th><th scope=col>&lt;dbl&gt;</th><th scope=col>&lt;dbl&gt;</th><th scope=col>&lt;dbl&gt;</th><th scope=col>&lt;dbl&gt;</th><th scope=col>&lt;dbl&gt;</th><th scope=col>&lt;dbl&gt;</th><th scope=col>&lt;dbl&gt;</th></tr>\n",
       "</thead>\n",
       "<tbody>\n",
       "\t<tr><td>A1BG </td><td> 0.01555415</td><td>-0.50799163</td><td>-0.1481807</td><td> 0.3016782</td><td>-0.5836192</td><td>-0.95355246</td><td>-0.35180735</td><td> 0.24525324</td><td> 0.02138794</td><td>⋯</td><td>-0.48416493</td><td>-0.4682477</td><td>-0.1282053</td><td> 0.336288960</td><td> 0.54211766</td><td> 0.02619091</td><td> 0.6677966</td><td> 1.26972589</td><td>-0.18222400</td><td> 0.08773601</td></tr>\n",
       "\t<tr><td>A2M  </td><td>-0.41878771</td><td>-0.76891091</td><td> 0.2089652</td><td>-0.3433149</td><td>-0.3521693</td><td>-0.66978661</td><td>-1.34214284</td><td>-0.47059658</td><td> 0.24255681</td><td>⋯</td><td>-0.86273637</td><td>-0.4674307</td><td> 0.1567175</td><td>-0.005069022</td><td> 0.88670313</td><td> 0.10964795</td><td> 0.1499977</td><td> 0.31690249</td><td> 0.30473192</td><td> 0.10870829</td></tr>\n",
       "\t<tr><td>AAAS </td><td> 0.03600600</td><td>-0.04431488</td><td>-0.2124766</td><td> 0.1157574</td><td>-0.1919145</td><td>-0.03589298</td><td> 0.02832675</td><td> 0.07936553</td><td> 0.06376744</td><td>⋯</td><td>-0.09994064</td><td>-0.1930474</td><td> 0.3477498</td><td>-0.030168651</td><td>-0.06920538</td><td>-0.11758667</td><td>-0.2548120</td><td> 0.25571128</td><td>-0.06013389</td><td> 0.02522843</td></tr>\n",
       "\t<tr><td>AACS </td><td>-0.43632026</td><td>-0.25967228</td><td> 0.1183485</td><td> 0.3188879</td><td> 0.2549878</td><td> 0.88037602</td><td>         NA</td><td>         NA</td><td>         NA</td><td>⋯</td><td> 0.50623931</td><td> 0.4726412</td><td>-0.1100319</td><td>-0.082180988</td><td>         NA</td><td>         NA</td><td>        NA</td><td>-0.57031109</td><td>-0.13994412</td><td>-0.19287177</td></tr>\n",
       "\t<tr><td>AAK1 </td><td> 0.01416336</td><td> 0.10861158</td><td> 0.5986050</td><td>-0.4029385</td><td>-0.2192744</td><td> 0.59023841</td><td>-0.20043099</td><td>-0.05630839</td><td> 0.78565011</td><td>⋯</td><td> 0.22316399</td><td> 0.3675483</td><td>-0.0801376</td><td>-0.338090353</td><td>-0.51499241</td><td>-0.21657532</td><td>-0.2137332</td><td>-0.55447511</td><td>-0.17668350</td><td>-0.15307913</td></tr>\n",
       "\t<tr><td>AAMDC</td><td> 1.58114127</td><td>-0.46469936</td><td>-0.7866273</td><td>-0.6609873</td><td>-0.2928442</td><td>-0.21607269</td><td>-0.02068825</td><td> 0.91161037</td><td>-0.01947368</td><td>⋯</td><td> 0.28238595</td><td>-0.6216362</td><td> 0.3063724</td><td>-0.275773324</td><td>-0.09824676</td><td>-0.13992972</td><td> 0.3698097</td><td> 0.02469307</td><td> 0.83408251</td><td> 0.22381691</td></tr>\n",
       "</tbody>\n",
       "</table>\n"
      ],
      "text/latex": [
       "A data.table: 6 × 85\n",
       "\\begin{tabular}{lllllllllllllllllllll}\n",
       " Gene & 13-1489-01A & 42-2590-01A & 36-2529-01A & 24-1105-01A & 29-1785-01A & 24-2290-01A & 24-1428-01A & 24-1923-01A & 24-1563-01A & ⋯ & 25-1635-01A & 61-1914-01A & 61-1900-01A & 09-1664-01A & 61-2095-01A & 61-1919-01A & 25-2404-01A & 61-2096-01A & 61-1911-01A & 13-1495-01A\\\\\n",
       " <chr> & <dbl> & <dbl> & <dbl> & <dbl> & <dbl> & <dbl> & <dbl> & <dbl> & <dbl> & ⋯ & <dbl> & <dbl> & <dbl> & <dbl> & <dbl> & <dbl> & <dbl> & <dbl> & <dbl> & <dbl>\\\\\n",
       "\\hline\n",
       "\t A1BG  &  0.01555415 & -0.50799163 & -0.1481807 &  0.3016782 & -0.5836192 & -0.95355246 & -0.35180735 &  0.24525324 &  0.02138794 & ⋯ & -0.48416493 & -0.4682477 & -0.1282053 &  0.336288960 &  0.54211766 &  0.02619091 &  0.6677966 &  1.26972589 & -0.18222400 &  0.08773601\\\\\n",
       "\t A2M   & -0.41878771 & -0.76891091 &  0.2089652 & -0.3433149 & -0.3521693 & -0.66978661 & -1.34214284 & -0.47059658 &  0.24255681 & ⋯ & -0.86273637 & -0.4674307 &  0.1567175 & -0.005069022 &  0.88670313 &  0.10964795 &  0.1499977 &  0.31690249 &  0.30473192 &  0.10870829\\\\\n",
       "\t AAAS  &  0.03600600 & -0.04431488 & -0.2124766 &  0.1157574 & -0.1919145 & -0.03589298 &  0.02832675 &  0.07936553 &  0.06376744 & ⋯ & -0.09994064 & -0.1930474 &  0.3477498 & -0.030168651 & -0.06920538 & -0.11758667 & -0.2548120 &  0.25571128 & -0.06013389 &  0.02522843\\\\\n",
       "\t AACS  & -0.43632026 & -0.25967228 &  0.1183485 &  0.3188879 &  0.2549878 &  0.88037602 &          NA &          NA &          NA & ⋯ &  0.50623931 &  0.4726412 & -0.1100319 & -0.082180988 &          NA &          NA &         NA & -0.57031109 & -0.13994412 & -0.19287177\\\\\n",
       "\t AAK1  &  0.01416336 &  0.10861158 &  0.5986050 & -0.4029385 & -0.2192744 &  0.59023841 & -0.20043099 & -0.05630839 &  0.78565011 & ⋯ &  0.22316399 &  0.3675483 & -0.0801376 & -0.338090353 & -0.51499241 & -0.21657532 & -0.2137332 & -0.55447511 & -0.17668350 & -0.15307913\\\\\n",
       "\t AAMDC &  1.58114127 & -0.46469936 & -0.7866273 & -0.6609873 & -0.2928442 & -0.21607269 & -0.02068825 &  0.91161037 & -0.01947368 & ⋯ &  0.28238595 & -0.6216362 &  0.3063724 & -0.275773324 & -0.09824676 & -0.13992972 &  0.3698097 &  0.02469307 &  0.83408251 &  0.22381691\\\\\n",
       "\\end{tabular}\n"
      ],
      "text/markdown": [
       "\n",
       "A data.table: 6 × 85\n",
       "\n",
       "| Gene &lt;chr&gt; | 13-1489-01A &lt;dbl&gt; | 42-2590-01A &lt;dbl&gt; | 36-2529-01A &lt;dbl&gt; | 24-1105-01A &lt;dbl&gt; | 29-1785-01A &lt;dbl&gt; | 24-2290-01A &lt;dbl&gt; | 24-1428-01A &lt;dbl&gt; | 24-1923-01A &lt;dbl&gt; | 24-1563-01A &lt;dbl&gt; | ⋯ ⋯ | 25-1635-01A &lt;dbl&gt; | 61-1914-01A &lt;dbl&gt; | 61-1900-01A &lt;dbl&gt; | 09-1664-01A &lt;dbl&gt; | 61-2095-01A &lt;dbl&gt; | 61-1919-01A &lt;dbl&gt; | 25-2404-01A &lt;dbl&gt; | 61-2096-01A &lt;dbl&gt; | 61-1911-01A &lt;dbl&gt; | 13-1495-01A &lt;dbl&gt; |\n",
       "|---|---|---|---|---|---|---|---|---|---|---|---|---|---|---|---|---|---|---|---|---|\n",
       "| A1BG  |  0.01555415 | -0.50799163 | -0.1481807 |  0.3016782 | -0.5836192 | -0.95355246 | -0.35180735 |  0.24525324 |  0.02138794 | ⋯ | -0.48416493 | -0.4682477 | -0.1282053 |  0.336288960 |  0.54211766 |  0.02619091 |  0.6677966 |  1.26972589 | -0.18222400 |  0.08773601 |\n",
       "| A2M   | -0.41878771 | -0.76891091 |  0.2089652 | -0.3433149 | -0.3521693 | -0.66978661 | -1.34214284 | -0.47059658 |  0.24255681 | ⋯ | -0.86273637 | -0.4674307 |  0.1567175 | -0.005069022 |  0.88670313 |  0.10964795 |  0.1499977 |  0.31690249 |  0.30473192 |  0.10870829 |\n",
       "| AAAS  |  0.03600600 | -0.04431488 | -0.2124766 |  0.1157574 | -0.1919145 | -0.03589298 |  0.02832675 |  0.07936553 |  0.06376744 | ⋯ | -0.09994064 | -0.1930474 |  0.3477498 | -0.030168651 | -0.06920538 | -0.11758667 | -0.2548120 |  0.25571128 | -0.06013389 |  0.02522843 |\n",
       "| AACS  | -0.43632026 | -0.25967228 |  0.1183485 |  0.3188879 |  0.2549878 |  0.88037602 |          NA |          NA |          NA | ⋯ |  0.50623931 |  0.4726412 | -0.1100319 | -0.082180988 |          NA |          NA |         NA | -0.57031109 | -0.13994412 | -0.19287177 |\n",
       "| AAK1  |  0.01416336 |  0.10861158 |  0.5986050 | -0.4029385 | -0.2192744 |  0.59023841 | -0.20043099 | -0.05630839 |  0.78565011 | ⋯ |  0.22316399 |  0.3675483 | -0.0801376 | -0.338090353 | -0.51499241 | -0.21657532 | -0.2137332 | -0.55447511 | -0.17668350 | -0.15307913 |\n",
       "| AAMDC |  1.58114127 | -0.46469936 | -0.7866273 | -0.6609873 | -0.2928442 | -0.21607269 | -0.02068825 |  0.91161037 | -0.01947368 | ⋯ |  0.28238595 | -0.6216362 |  0.3063724 | -0.275773324 | -0.09824676 | -0.13992972 |  0.3698097 |  0.02469307 |  0.83408251 |  0.22381691 |\n",
       "\n"
      ],
      "text/plain": [
       "  Gene  13-1489-01A 42-2590-01A 36-2529-01A 24-1105-01A 29-1785-01A 24-2290-01A\n",
       "1 A1BG   0.01555415 -0.50799163 -0.1481807   0.3016782  -0.5836192  -0.95355246\n",
       "2 A2M   -0.41878771 -0.76891091  0.2089652  -0.3433149  -0.3521693  -0.66978661\n",
       "3 AAAS   0.03600600 -0.04431488 -0.2124766   0.1157574  -0.1919145  -0.03589298\n",
       "4 AACS  -0.43632026 -0.25967228  0.1183485   0.3188879   0.2549878   0.88037602\n",
       "5 AAK1   0.01416336  0.10861158  0.5986050  -0.4029385  -0.2192744   0.59023841\n",
       "6 AAMDC  1.58114127 -0.46469936 -0.7866273  -0.6609873  -0.2928442  -0.21607269\n",
       "  24-1428-01A 24-1923-01A 24-1563-01A ⋯ 25-1635-01A 61-1914-01A 61-1900-01A\n",
       "1 -0.35180735  0.24525324  0.02138794 ⋯ -0.48416493 -0.4682477  -0.1282053 \n",
       "2 -1.34214284 -0.47059658  0.24255681 ⋯ -0.86273637 -0.4674307   0.1567175 \n",
       "3  0.02832675  0.07936553  0.06376744 ⋯ -0.09994064 -0.1930474   0.3477498 \n",
       "4          NA          NA          NA ⋯  0.50623931  0.4726412  -0.1100319 \n",
       "5 -0.20043099 -0.05630839  0.78565011 ⋯  0.22316399  0.3675483  -0.0801376 \n",
       "6 -0.02068825  0.91161037 -0.01947368 ⋯  0.28238595 -0.6216362   0.3063724 \n",
       "  09-1664-01A  61-2095-01A 61-1919-01A 25-2404-01A 61-2096-01A 61-1911-01A\n",
       "1  0.336288960  0.54211766  0.02619091  0.6677966   1.26972589 -0.18222400\n",
       "2 -0.005069022  0.88670313  0.10964795  0.1499977   0.31690249  0.30473192\n",
       "3 -0.030168651 -0.06920538 -0.11758667 -0.2548120   0.25571128 -0.06013389\n",
       "4 -0.082180988          NA          NA         NA  -0.57031109 -0.13994412\n",
       "5 -0.338090353 -0.51499241 -0.21657532 -0.2137332  -0.55447511 -0.17668350\n",
       "6 -0.275773324 -0.09824676 -0.13992972  0.3698097   0.02469307  0.83408251\n",
       "  13-1495-01A\n",
       "1  0.08773601\n",
       "2  0.10870829\n",
       "3  0.02522843\n",
       "4 -0.19287177\n",
       "5 -0.15307913\n",
       "6  0.22381691"
      ]
     },
     "metadata": {},
     "output_type": "display_data"
    }
   ],
   "source": [
    "suppressPackageStartupMessages( library(data.table) )\n",
    "raw_data <- fread(\"cptac/TCGA_Ovarian_PNNL_Proteome.itraq.tsv\")\n",
    "\n",
    "# only keep the unshared log ratio\n",
    "cols_to_keep <- colnames(raw_data)[grep(\"Unshared Log Ratio\", colnames(raw_data))]\n",
    "\n",
    "raw_data <- raw_data[, c(\"Gene\", cols_to_keep), with = F]\n",
    "\n",
    "# remove the first three statistical columns\n",
    "raw_data <- raw_data[4:nrow(raw_data), ]\n",
    "\n",
    "# change column names to only keep the id\n",
    "colnames(raw_data) <- gsub(\" Unshared Log Ratio\", \"\", colnames(raw_data))\n",
    "\n",
    "head(raw_data)"
   ]
  },
  {
   "cell_type": "code",
   "execution_count": 286,
   "metadata": {},
   "outputs": [
    {
     "data": {
      "text/html": [
       "<style>\n",
       ".list-inline {list-style: none; margin:0; padding: 0}\n",
       ".list-inline>li {display: inline-block}\n",
       ".list-inline>li:not(:last-child)::after {content: \"\\00b7\"; padding: 0 .5ex}\n",
       "</style>\n",
       "<ol class=list-inline><li>'29-1762-01A'</li><li>'13-1497-01A'</li><li>'13-0804-01A'</li><li>'04-1350-01A'</li><li>'24-0982-01A'</li><li>'36-1568-01A'</li></ol>\n"
      ],
      "text/latex": [
       "\\begin{enumerate*}\n",
       "\\item '29-1762-01A'\n",
       "\\item '13-1497-01A'\n",
       "\\item '13-0804-01A'\n",
       "\\item '04-1350-01A'\n",
       "\\item '24-0982-01A'\n",
       "\\item '36-1568-01A'\n",
       "\\end{enumerate*}\n"
      ],
      "text/markdown": [
       "1. '29-1762-01A'\n",
       "2. '13-1497-01A'\n",
       "3. '13-0804-01A'\n",
       "4. '04-1350-01A'\n",
       "5. '24-0982-01A'\n",
       "6. '36-1568-01A'\n",
       "\n",
       "\n"
      ],
      "text/plain": [
       "[1] \"29-1762-01A\" \"13-1497-01A\" \"13-0804-01A\" \"04-1350-01A\" \"24-0982-01A\"\n",
       "[6] \"36-1568-01A\""
      ]
     },
     "metadata": {},
     "output_type": "display_data"
    }
   ],
   "source": [
    "# match to TCGA samples\n",
    "ovarian_dge$samples$short_id <- substr(gsub(\"TCGA-\", \"\", colnames(ovarian_dge)), 1, 11)\n",
    "\n",
    "head(ovarian_dge$samples$short_id)"
   ]
  },
  {
   "cell_type": "code",
   "execution_count": 289,
   "metadata": {},
   "outputs": [
    {
     "data": {
      "text/html": [
       "<style>\n",
       ".list-inline {list-style: none; margin:0; padding: 0}\n",
       ".list-inline>li {display: inline-block}\n",
       ".list-inline>li:not(:last-child)::after {content: \"\\00b7\"; padding: 0 .5ex}\n",
       "</style>\n",
       "<ol class=list-inline><li>'Gene'</li><li>'42-2590-01A'</li><li>'36-2529-01A'</li><li>'24-1466-01A'</li><li>'29-2432-01A'</li><li>'24-1545-01A'</li><li>'24-1556-01A'</li><li>'24-2260-01A'</li><li>'61-2612-01A'</li><li>'24-2295-01A'</li><li>'24-1555-01A'</li><li>'42-2588-01A'</li><li>'13-1494-01A'</li><li>'29-1775-01A'</li><li>'13-2071-01A'</li><li>'36-2543-01A'</li><li>'24-2030-01A'</li><li>'13-1484-01A'</li><li>'36-2530-01A'</li><li>'23-1124-01A'</li><li>'09-1664-01A'</li><li>'61-2095-01A'</li><li>'61-2096-01A'</li></ol>\n"
      ],
      "text/latex": [
       "\\begin{enumerate*}\n",
       "\\item 'Gene'\n",
       "\\item '42-2590-01A'\n",
       "\\item '36-2529-01A'\n",
       "\\item '24-1466-01A'\n",
       "\\item '29-2432-01A'\n",
       "\\item '24-1545-01A'\n",
       "\\item '24-1556-01A'\n",
       "\\item '24-2260-01A'\n",
       "\\item '61-2612-01A'\n",
       "\\item '24-2295-01A'\n",
       "\\item '24-1555-01A'\n",
       "\\item '42-2588-01A'\n",
       "\\item '13-1494-01A'\n",
       "\\item '29-1775-01A'\n",
       "\\item '13-2071-01A'\n",
       "\\item '36-2543-01A'\n",
       "\\item '24-2030-01A'\n",
       "\\item '13-1484-01A'\n",
       "\\item '36-2530-01A'\n",
       "\\item '23-1124-01A'\n",
       "\\item '09-1664-01A'\n",
       "\\item '61-2095-01A'\n",
       "\\item '61-2096-01A'\n",
       "\\end{enumerate*}\n"
      ],
      "text/markdown": [
       "1. 'Gene'\n",
       "2. '42-2590-01A'\n",
       "3. '36-2529-01A'\n",
       "4. '24-1466-01A'\n",
       "5. '29-2432-01A'\n",
       "6. '24-1545-01A'\n",
       "7. '24-1556-01A'\n",
       "8. '24-2260-01A'\n",
       "9. '61-2612-01A'\n",
       "10. '24-2295-01A'\n",
       "11. '24-1555-01A'\n",
       "12. '42-2588-01A'\n",
       "13. '13-1494-01A'\n",
       "14. '29-1775-01A'\n",
       "15. '13-2071-01A'\n",
       "16. '36-2543-01A'\n",
       "17. '24-2030-01A'\n",
       "18. '13-1484-01A'\n",
       "19. '36-2530-01A'\n",
       "20. '23-1124-01A'\n",
       "21. '09-1664-01A'\n",
       "22. '61-2095-01A'\n",
       "23. '61-2096-01A'\n",
       "\n",
       "\n"
      ],
      "text/plain": [
       " [1] \"Gene\"        \"42-2590-01A\" \"36-2529-01A\" \"24-1466-01A\" \"29-2432-01A\"\n",
       " [6] \"24-1545-01A\" \"24-1556-01A\" \"24-2260-01A\" \"61-2612-01A\" \"24-2295-01A\"\n",
       "[11] \"24-1555-01A\" \"42-2588-01A\" \"13-1494-01A\" \"29-1775-01A\" \"13-2071-01A\"\n",
       "[16] \"36-2543-01A\" \"24-2030-01A\" \"13-1484-01A\" \"36-2530-01A\" \"23-1124-01A\"\n",
       "[21] \"09-1664-01A\" \"61-2095-01A\" \"61-2096-01A\""
      ]
     },
     "metadata": {},
     "output_type": "display_data"
    }
   ],
   "source": [
    "colnames(raw_data)[!colnames(raw_data) %in% ovarian_dge$samples$short_id]"
   ]
  },
  {
   "cell_type": "code",
   "execution_count": 287,
   "metadata": {},
   "outputs": [
    {
     "name": "stderr",
     "output_type": "stream",
     "text": [
      "Retained 62 proteomics samples\n",
      "\n"
     ]
    }
   ],
   "source": [
    "# only retain proteomics samples that exist\n",
    "raw_sample_ids <- colnames(raw_data)[2:ncol(raw_data)]\n",
    "samples_to_retain <- raw_sample_ids[raw_sample_ids %in% ovarian_dge$samples$short_id]\n",
    "\n",
    "matched_data <- raw_data[, c(\"Gene\", samples_to_retain), with = F]\n",
    "\n",
    "message(\"Retained \", length(samples_to_retain), \" proteomics samples\")"
   ]
  },
  {
   "cell_type": "code",
   "execution_count": 293,
   "metadata": {},
   "outputs": [
    {
     "data": {
      "text/html": [
       "<table>\n",
       "<caption>A data.frame: 6 × 3</caption>\n",
       "<thead>\n",
       "\t<tr><th></th><th scope=col>id</th><th scope=col>TIPB</th><th scope=col>tipb_group</th></tr>\n",
       "\t<tr><th></th><th scope=col>&lt;fct&gt;</th><th scope=col>&lt;fct&gt;</th><th scope=col>&lt;fct&gt;</th></tr>\n",
       "</thead>\n",
       "<tbody>\n",
       "\t<tr><th scope=row>13-1489-01A</th><td>13-1489-01A</td><td>-0.378982816915531 </td><td>TIPB low </td></tr>\n",
       "\t<tr><th scope=row>24-1105-01A</th><td>24-1105-01A</td><td>-0.157642159123274 </td><td>TIPB high</td></tr>\n",
       "\t<tr><th scope=row>29-1785-01A</th><td>29-1785-01A</td><td>-0.0614113122879164</td><td>TIPB high</td></tr>\n",
       "\t<tr><th scope=row>24-2290-01A</th><td>24-2290-01A</td><td>-0.216584030658211 </td><td>TIPB low </td></tr>\n",
       "\t<tr><th scope=row>24-1428-01A</th><td>24-1428-01A</td><td>-0.0911181187752867</td><td>TIPB high</td></tr>\n",
       "\t<tr><th scope=row>24-1923-01A</th><td>24-1923-01A</td><td>-0.373041450162138 </td><td>TIPB low </td></tr>\n",
       "</tbody>\n",
       "</table>\n"
      ],
      "text/latex": [
       "A data.frame: 6 × 3\n",
       "\\begin{tabular}{r|lll}\n",
       "  & id & TIPB & tipb\\_group\\\\\n",
       "  & <fct> & <fct> & <fct>\\\\\n",
       "\\hline\n",
       "\t13-1489-01A & 13-1489-01A & -0.378982816915531  & TIPB low \\\\\n",
       "\t24-1105-01A & 24-1105-01A & -0.157642159123274  & TIPB high\\\\\n",
       "\t29-1785-01A & 29-1785-01A & -0.0614113122879164 & TIPB high\\\\\n",
       "\t24-2290-01A & 24-2290-01A & -0.216584030658211  & TIPB low \\\\\n",
       "\t24-1428-01A & 24-1428-01A & -0.0911181187752867 & TIPB high\\\\\n",
       "\t24-1923-01A & 24-1923-01A & -0.373041450162138  & TIPB low \\\\\n",
       "\\end{tabular}\n"
      ],
      "text/markdown": [
       "\n",
       "A data.frame: 6 × 3\n",
       "\n",
       "| <!--/--> | id &lt;fct&gt; | TIPB &lt;fct&gt; | tipb_group &lt;fct&gt; |\n",
       "|---|---|---|---|\n",
       "| 13-1489-01A | 13-1489-01A | -0.378982816915531  | TIPB low  |\n",
       "| 24-1105-01A | 24-1105-01A | -0.157642159123274  | TIPB high |\n",
       "| 29-1785-01A | 29-1785-01A | -0.0614113122879164 | TIPB high |\n",
       "| 24-2290-01A | 24-2290-01A | -0.216584030658211  | TIPB low  |\n",
       "| 24-1428-01A | 24-1428-01A | -0.0911181187752867 | TIPB high |\n",
       "| 24-1923-01A | 24-1923-01A | -0.373041450162138  | TIPB low  |\n",
       "\n"
      ],
      "text/plain": [
       "            id          TIPB                tipb_group\n",
       "13-1489-01A 13-1489-01A -0.378982816915531  TIPB low  \n",
       "24-1105-01A 24-1105-01A -0.157642159123274  TIPB high \n",
       "29-1785-01A 29-1785-01A -0.0614113122879164 TIPB high \n",
       "24-2290-01A 24-2290-01A -0.216584030658211  TIPB low  \n",
       "24-1428-01A 24-1428-01A -0.0911181187752867 TIPB high \n",
       "24-1923-01A 24-1923-01A -0.373041450162138  TIPB low  "
      ]
     },
     "metadata": {},
     "output_type": "display_data"
    }
   ],
   "source": [
    "# create the sample data.frame for the pathway analysis\n",
    "sample_data <- data.frame(\n",
    "    row.names = colnames(matched_data)[2:ncol(matched_data)],\n",
    "    id = colnames(matched_data)[2:ncol(matched_data)]\n",
    ")\n",
    "\n",
    "# add the TIPB group\n",
    "sample_data$TIPB <- plyr::mapvalues(x = sample_data$id, from = ovarian_dge$samples$short_id, to = ovarian_dge$samples$TIPB, warn_missing = F)\n",
    "sample_data$tipb_group <- plyr::mapvalues(x = sample_data$id, from = ovarian_dge$samples$short_id, to = as.character(ovarian_dge$samples$tipb_group), warn_missing = F)\n",
    "\n",
    "head(sample_data)"
   ]
  },
  {
   "cell_type": "code",
   "execution_count": 295,
   "metadata": {},
   "outputs": [],
   "source": [
    "# change the expression data to a data.frame to support row.names\n",
    "prot_exp_data <- data.frame(matched_data[, 2:ncol(matched_data), with = F])\n",
    "rownames(prot_exp_data) <- matched_data$Gene"
   ]
  },
  {
   "cell_type": "code",
   "execution_count": 296,
   "metadata": {},
   "outputs": [
    {
     "name": "stderr",
     "output_type": "stream",
     "text": [
      "Converting expression data to string... (This may take a moment)\n",
      "\n",
      "Conversion complete\n",
      "\n"
     ]
    }
   ],
   "source": [
    "# create the ReactomeGSA request\n",
    "library(ReactomeGSA)\n",
    "ovarian_analysis_request <- ReactomeAnalysisRequest(method = \"PADOG\")\n",
    "ovarian_analysis_request <- set_parameters(ovarian_analysis_request, use_interactors = T, include_disease_pathways = F)\n",
    "\n",
    "ovarian_analysis_request <- add_dataset(ovarian_analysis_request, expression_values = ovarian_dge, \n",
    "                                name = \"TCGA Ovarian\", type = \"rnaseq_counts\", comparison_factor = \"tipb_group\", \n",
    "                                comparison_group_1 = \"TIPB low\", comparison_group_2 =  \"TIPB high\")\n",
    "\n",
    "ovarian_analysis_request <- add_dataset(ovarian_analysis_request, expression_values = prot_exp_data, sample_data = sample_data,\n",
    "                                name = \"CPTAC Ovarian\", type = \"proteomics_int\", comparison_factor = \"tipb_group\", \n",
    "                                comparison_group_1 = \"TIPB low\", comparison_group_2 =  \"TIPB high\")"
   ]
  },
  {
   "cell_type": "code",
   "execution_count": 297,
   "metadata": {},
   "outputs": [
    {
     "name": "stderr",
     "output_type": "stream",
     "text": [
      "Submitting request to Reactome API...\n",
      "\n",
      "Reactome Analysis submitted succesfully\n",
      "\n",
      "Queued\n",
      "\n",
      "Converting dataset TCGA Ovarian...\n",
      "\n",
      "Converting dataset CPTAC Ovarian...\n",
      "\n",
      "Mapping identifiers...\n",
      "\n",
      "Performing gene set analysis using PADOG\n",
      "\n",
      "Analysing dataset 'TCGA Ovarian' using PADOG\n",
      "\n",
      "Analysing dataset 'CPTAC Ovarian' using PADOG\n",
      "\n",
      "Creating REACTOME visualization\n",
      "\n",
      "Retrieving result...\n",
      "\n"
     ]
    }
   ],
   "source": [
    "options(reactome_gsa.url = \"http://derma-bioinf-vs02.derma.meduniwien.ac.at:31773\")\n",
    "ovarian_analysis_result <- perform_reactome_analysis(ovarian_analysis_request)"
   ]
  },
  {
   "cell_type": "code",
   "execution_count": 313,
   "metadata": {},
   "outputs": [
    {
     "data": {
      "text/plain": [
       "ReactomeAnalysisResult object\n",
       "  Reactome Release: 72\n",
       "  Results:\n",
       "  - TCGA Ovarian:\n",
       "    1801 pathways\n",
       "    12325 fold changes for genes\n",
       "  - CPTAC Ovarian:\n",
       "    1778 pathways\n",
       "    6336 fold changes for genes\n",
       "  Reactome visualizations:\n",
       "  - Gene Set Analysis Summary"
      ]
     },
     "metadata": {},
     "output_type": "display_data"
    }
   ],
   "source": [
    "ovarian_analysis_result"
   ]
  },
  {
   "cell_type": "code",
   "execution_count": 312,
   "metadata": {},
   "outputs": [],
   "source": [
    "ovarian_pathways <- pathways(ovarian_analysis_result)"
   ]
  },
  {
   "cell_type": "code",
   "execution_count": 315,
   "metadata": {},
   "outputs": [
    {
     "data": {
      "text/plain": [
       "is_sig\n",
       "FALSE  TRUE \n",
       " 1706    96 "
      ]
     },
     "metadata": {},
     "output_type": "display_data"
    }
   ],
   "source": [
    "# only retain significant\n",
    "is_sig <- ovarian_pathways[, \"FDR.CPTAC Ovarian\"] < 0.05 & ovarian_pathways[, \"FDR.TCGA Ovarian\"] < 0.05\n",
    "\n",
    "table(is_sig)\n",
    "\n",
    "ovarian_pathways <- ovarian_pathways[is_sig, ]"
   ]
  },
  {
   "cell_type": "code",
   "execution_count": 304,
   "metadata": {},
   "outputs": [
    {
     "data": {
      "text/plain": [
       "is_diff\n",
       "FALSE  TRUE \n",
       "   95     1 "
      ]
     },
     "metadata": {},
     "output_type": "display_data"
    }
   ],
   "source": [
    "# find different pathways\n",
    "is_diff <- ovarian_pathways$`Direction.CPTAC Ovarian` != ovarian_pathways$`Direction.TCGA Ovarian`\n",
    "\n",
    "table(is_diff)"
   ]
  },
  {
   "cell_type": "code",
   "execution_count": 305,
   "metadata": {},
   "outputs": [
    {
     "data": {
      "text/html": [
       "<table>\n",
       "<caption>A data.frame: 1 × 5</caption>\n",
       "<thead>\n",
       "\t<tr><th></th><th scope=col>Name</th><th scope=col>Direction.TCGA Ovarian</th><th scope=col>FDR.TCGA Ovarian</th><th scope=col>Direction.CPTAC Ovarian</th><th scope=col>FDR.CPTAC Ovarian</th></tr>\n",
       "\t<tr><th></th><th scope=col>&lt;chr&gt;</th><th scope=col>&lt;fct&gt;</th><th scope=col>&lt;dbl&gt;</th><th scope=col>&lt;fct&gt;</th><th scope=col>&lt;dbl&gt;</th></tr>\n",
       "</thead>\n",
       "<tbody>\n",
       "\t<tr><th scope=row>R-HSA-190236</th><td>Signaling by FGFR</td><td>Up</td><td>0.002</td><td>Down</td><td>0.048</td></tr>\n",
       "</tbody>\n",
       "</table>\n"
      ],
      "text/latex": [
       "A data.frame: 1 × 5\n",
       "\\begin{tabular}{r|lllll}\n",
       "  & Name & Direction.TCGA Ovarian & FDR.TCGA Ovarian & Direction.CPTAC Ovarian & FDR.CPTAC Ovarian\\\\\n",
       "  & <chr> & <fct> & <dbl> & <fct> & <dbl>\\\\\n",
       "\\hline\n",
       "\tR-HSA-190236 & Signaling by FGFR & Up & 0.002 & Down & 0.048\\\\\n",
       "\\end{tabular}\n"
      ],
      "text/markdown": [
       "\n",
       "A data.frame: 1 × 5\n",
       "\n",
       "| <!--/--> | Name &lt;chr&gt; | Direction.TCGA Ovarian &lt;fct&gt; | FDR.TCGA Ovarian &lt;dbl&gt; | Direction.CPTAC Ovarian &lt;fct&gt; | FDR.CPTAC Ovarian &lt;dbl&gt; |\n",
       "|---|---|---|---|---|---|\n",
       "| R-HSA-190236 | Signaling by FGFR | Up | 0.002 | Down | 0.048 |\n",
       "\n"
      ],
      "text/plain": [
       "             Name              Direction.TCGA Ovarian FDR.TCGA Ovarian\n",
       "R-HSA-190236 Signaling by FGFR Up                     0.002           \n",
       "             Direction.CPTAC Ovarian FDR.CPTAC Ovarian\n",
       "R-HSA-190236 Down                    0.048            "
      ]
     },
     "metadata": {},
     "output_type": "display_data"
    }
   ],
   "source": [
    "ovarian_pathways[is_diff, rel_columns]"
   ]
  },
  {
   "cell_type": "code",
   "execution_count": 311,
   "metadata": {},
   "outputs": [
    {
     "data": {
      "text/html": [
       "<table>\n",
       "<caption>A data.frame: 1 × 5</caption>\n",
       "<thead>\n",
       "\t<tr><th></th><th scope=col>Name</th><th scope=col>Direction.TCGA Ovarian</th><th scope=col>FDR.TCGA Ovarian</th><th scope=col>Direction.CPTAC Ovarian</th><th scope=col>FDR.CPTAC Ovarian</th></tr>\n",
       "\t<tr><th></th><th scope=col>&lt;chr&gt;</th><th scope=col>&lt;fct&gt;</th><th scope=col>&lt;dbl&gt;</th><th scope=col>&lt;fct&gt;</th><th scope=col>&lt;dbl&gt;</th></tr>\n",
       "</thead>\n",
       "<tbody>\n",
       "\t<tr><th scope=row>R-HSA-983705</th><td>Signaling by the B Cell Receptor (BCR)</td><td>Up</td><td>1e-05</td><td>Up</td><td>0.008</td></tr>\n",
       "</tbody>\n",
       "</table>\n"
      ],
      "text/latex": [
       "A data.frame: 1 × 5\n",
       "\\begin{tabular}{r|lllll}\n",
       "  & Name & Direction.TCGA Ovarian & FDR.TCGA Ovarian & Direction.CPTAC Ovarian & FDR.CPTAC Ovarian\\\\\n",
       "  & <chr> & <fct> & <dbl> & <fct> & <dbl>\\\\\n",
       "\\hline\n",
       "\tR-HSA-983705 & Signaling by the B Cell Receptor (BCR) & Up & 1e-05 & Up & 0.008\\\\\n",
       "\\end{tabular}\n"
      ],
      "text/markdown": [
       "\n",
       "A data.frame: 1 × 5\n",
       "\n",
       "| <!--/--> | Name &lt;chr&gt; | Direction.TCGA Ovarian &lt;fct&gt; | FDR.TCGA Ovarian &lt;dbl&gt; | Direction.CPTAC Ovarian &lt;fct&gt; | FDR.CPTAC Ovarian &lt;dbl&gt; |\n",
       "|---|---|---|---|---|---|\n",
       "| R-HSA-983705 | Signaling by the B Cell Receptor (BCR) | Up | 1e-05 | Up | 0.008 |\n",
       "\n"
      ],
      "text/plain": [
       "             Name                                   Direction.TCGA Ovarian\n",
       "R-HSA-983705 Signaling by the B Cell Receptor (BCR) Up                    \n",
       "             FDR.TCGA Ovarian Direction.CPTAC Ovarian FDR.CPTAC Ovarian\n",
       "R-HSA-983705 1e-05            Up                      0.008            "
      ]
     },
     "metadata": {},
     "output_type": "display_data"
    }
   ],
   "source": [
    "# B cell pathways\n",
    "ovarian_pathways[c(\"R-HSA-983705\"), rel_columns]"
   ]
  },
  {
   "cell_type": "code",
   "execution_count": null,
   "metadata": {},
   "outputs": [],
   "source": [
    "# create the supplementary data\n",
    "write.xlsx(breast_pathways, file = \"Supplementary_Data_2.xlsx\", sheetName = \"Breast Pathways\", append = FALSE)\n",
    "write.xlsx(ovarian_pathways, file = \"Supplementary_Data_2.xlsx\", sheetName = \"Ovarian Pathways\", append = TRUE)"
   ]
  },
  {
   "cell_type": "markdown",
   "metadata": {},
   "source": [
    "# Session Info"
   ]
  },
  {
   "cell_type": "code",
   "execution_count": 328,
   "metadata": {},
   "outputs": [
    {
     "data": {
      "text/plain": [
       "R version 3.6.3 (2020-02-29)\n",
       "Platform: x86_64-pc-linux-gnu (64-bit)\n",
       "Running under: Ubuntu 18.04.4 LTS\n",
       "\n",
       "Matrix products: default\n",
       "BLAS:   /usr/lib/x86_64-linux-gnu/blas/libblas.so.3.7.1\n",
       "LAPACK: /usr/lib/x86_64-linux-gnu/lapack/liblapack.so.3.7.1\n",
       "\n",
       "locale:\n",
       " [1] LC_CTYPE=en_US.UTF-8       LC_NUMERIC=C              \n",
       " [3] LC_TIME=en_US.UTF-8        LC_COLLATE=en_US.UTF-8    \n",
       " [5] LC_MONETARY=en_US.UTF-8    LC_MESSAGES=en_US.UTF-8   \n",
       " [7] LC_PAPER=en_US.UTF-8       LC_NAME=C                 \n",
       " [9] LC_ADDRESS=C               LC_TELEPHONE=C            \n",
       "[11] LC_MEASUREMENT=en_US.UTF-8 LC_IDENTIFICATION=C       \n",
       "\n",
       "attached base packages:\n",
       "[1] parallel  stats4    stats     graphics  grDevices utils     datasets \n",
       "[8] methods   base     \n",
       "\n",
       "other attached packages:\n",
       " [1] data.table_1.12.8           ggplot2_3.3.0              \n",
       " [3] ReactomeGSA_1.1.3           survival_3.1-11            \n",
       " [5] GSVA_1.34.0                 edgeR_3.28.1               \n",
       " [7] limma_3.42.2                TCGAbiolinks_2.14.1        \n",
       " [9] SummarizedExperiment_1.16.1 DelayedArray_0.12.2        \n",
       "[11] BiocParallel_1.20.1         matrixStats_0.56.0         \n",
       "[13] Biobase_2.46.0              GenomicRanges_1.38.0       \n",
       "[15] GenomeInfoDb_1.22.0         IRanges_2.20.2             \n",
       "[17] S4Vectors_0.24.3            BiocGenerics_0.32.0        \n",
       "\n",
       "loaded via a namespace (and not attached):\n",
       "  [1] uuid_0.1-4               backports_1.1.6          aroma.light_3.16.0      \n",
       "  [4] BiocFileCache_1.10.2     plyr_1.8.6               selectr_0.4-2           \n",
       "  [7] repr_1.1.0               GSEABase_1.48.0          splines_3.6.3           \n",
       " [10] sva_3.34.0               digest_0.6.25            foreach_1.4.8           \n",
       " [13] htmltools_0.4.0          gdata_2.18.0             magrittr_1.5            \n",
       " [16] memoise_1.1.0            doParallel_1.0.15        Biostrings_2.54.0       \n",
       " [19] readr_1.3.1              annotate_1.64.0          R.utils_2.9.2           \n",
       " [22] askpass_1.1              prettyunits_1.1.1        jpeg_0.1-8.1            \n",
       " [25] colorspace_1.4-1         blob_1.2.1               rvest_0.3.5             \n",
       " [28] rappdirs_0.3.1           ggrepel_0.8.2            xfun_0.12               \n",
       " [31] dplyr_0.8.5              crayon_1.3.4             RCurl_1.98-1.1          \n",
       " [34] jsonlite_1.6.1           graph_1.64.0             genefilter_1.68.0       \n",
       " [37] zoo_1.8-7                iterators_1.0.12         glue_1.4.0              \n",
       " [40] survminer_0.4.6          gtable_0.3.0             zlibbioc_1.32.0         \n",
       " [43] XVector_0.26.0           scales_1.1.0             DESeq_1.38.0            \n",
       " [46] DBI_1.1.0                ggthemes_4.2.0           Rcpp_1.0.4.6            \n",
       " [49] xtable_1.8-4             progress_1.2.2           bit_1.1-15.2            \n",
       " [52] km.ci_0.5-2              httr_1.4.1               gplots_3.0.3            \n",
       " [55] RColorBrewer_1.1-2       farver_2.0.3             pkgconfig_2.0.3         \n",
       " [58] XML_3.99-0.3             R.methodsS3_1.8.0        dbplyr_1.4.2            \n",
       " [61] locfit_1.5-9.4           labeling_0.3             tidyselect_1.0.0        \n",
       " [64] rlang_0.4.5              later_1.0.0              AnnotationDbi_1.48.0    \n",
       " [67] munsell_0.5.0            tools_3.6.3              downloader_0.4          \n",
       " [70] generics_0.0.2           RSQLite_2.2.0            broom_0.5.5             \n",
       " [73] fastmap_1.0.1            evaluate_0.14            stringr_1.4.0           \n",
       " [76] knitr_1.28               bit64_0.9-7              caTools_1.18.0          \n",
       " [79] survMisc_0.5.5           purrr_0.3.3              EDASeq_2.20.0           \n",
       " [82] nlme_3.1-145             mime_0.9                 R.oo_1.23.0             \n",
       " [85] postlogic_0.1.0.1        xml2_1.2.5               biomaRt_2.42.0          \n",
       " [88] shinythemes_1.1.2        compiler_3.6.3           curl_4.3                \n",
       " [91] png_0.1-7                parsetools_0.1.2         testthat_2.3.2          \n",
       " [94] ggsignif_0.6.0           tibble_3.0.0             geneplotter_1.64.0      \n",
       " [97] stringi_1.4.6            highr_0.8                GenomicFeatures_1.38.2  \n",
       "[100] lattice_0.20-40          IRdisplay_0.7.0          Matrix_1.2-18           \n",
       "[103] KMsurv_0.1-5             vctrs_0.2.4              purrrogress_0.1.1       \n",
       "[106] pillar_1.4.3             lifecycle_0.2.0          bitops_1.0-6            \n",
       "[109] httpuv_1.5.2             rtracklayer_1.46.0       R6_2.4.1                \n",
       "[112] latticeExtra_0.6-29      hwriter_1.3.2            promises_1.1.0          \n",
       "[115] ShortRead_1.44.3         KernSmooth_2.23-16       gridExtra_2.3           \n",
       "[118] pkgcond_0.1.0            codetools_0.2-16         gtools_3.8.2            \n",
       "[121] assertthat_0.2.1         openssl_1.4.1            withr_2.1.2             \n",
       "[124] GenomicAlignments_1.22.1 Rsamtools_2.2.3          GenomeInfoDbData_1.2.2  \n",
       "[127] mgcv_1.8-31              hms_0.5.3                testextra_0.1.0.1       \n",
       "[130] grid_3.6.3               IRkernel_1.1             tidyr_1.0.2             \n",
       "[133] ggpubr_0.2.5             pbdZMQ_0.3-3             shiny_1.4.0.2           \n",
       "[136] base64enc_0.1-3         "
      ]
     },
     "metadata": {},
     "output_type": "display_data"
    }
   ],
   "source": [
    "sessionInfo()"
   ]
  }
 ],
 "metadata": {
  "kernelspec": {
   "display_name": "R",
   "language": "R",
   "name": "ir"
  },
  "language_info": {
   "codemirror_mode": "r",
   "file_extension": ".r",
   "mimetype": "text/x-r-source",
   "name": "R",
   "pygments_lexer": "r",
   "version": "3.6.3"
  },
  "toc": {
   "base_numbering": 1,
   "nav_menu": {},
   "number_sections": true,
   "sideBar": true,
   "skip_h1_title": false,
   "title_cell": "Table of Contents",
   "title_sidebar": "Contents",
   "toc_cell": false,
   "toc_position": {
    "height": "calc(100% - 180px)",
    "left": "10px",
    "top": "150px",
    "width": "301px"
   },
   "toc_section_display": true,
   "toc_window_display": true
  },
  "toc-autonumbering": true
 },
 "nbformat": 4,
 "nbformat_minor": 4
}
